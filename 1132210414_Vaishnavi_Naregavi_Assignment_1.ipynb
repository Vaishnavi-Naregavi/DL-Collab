{
  "nbformat": 4,
  "nbformat_minor": 0,
  "metadata": {
    "colab": {
      "name": "1132210414_Vaishnavi_Naregavi_Assignment_1.ipynb",
      "provenance": [],
      "collapsed_sections": [],
      "mount_file_id": "12Bp87i3F5O5bekcJgSBQvr522e-tnfFF",
      "authorship_tag": "ABX9TyNQPvLLQp5blZ0SmyLyBPfr",
      "include_colab_link": true
    },
    "kernelspec": {
      "name": "python3",
      "display_name": "Python 3"
    },
    "language_info": {
      "name": "python"
    },
    "accelerator": "GPU",
    "gpuClass": "standard"
  },
  "cells": [
    {
      "cell_type": "markdown",
      "metadata": {
        "id": "view-in-github",
        "colab_type": "text"
      },
      "source": [
        "<a href=\"https://colab.research.google.com/github/Vaishnavi-Naregavi/DL-Collab/blob/main/1132210414_Vaishnavi_Naregavi_Assignment_1.ipynb\" target=\"_parent\"><img src=\"https://colab.research.google.com/assets/colab-badge.svg\" alt=\"Open In Colab\"/></a>"
      ]
    },
    {
      "cell_type": "code",
      "execution_count": 1,
      "metadata": {
        "colab": {
          "base_uri": "https://localhost:8080/"
        },
        "id": "r-4OR9dKlzRL",
        "outputId": "ac8a4db3-f298-4e90-cf68-8e465f8c74fe"
      },
      "outputs": [
        {
          "output_type": "stream",
          "name": "stdout",
          "text": [
            "Colab only includes TensorFlow 2.x; %tensorflow_version has no effect.\n",
            "Found GPU at: /device:GPU:0\n"
          ]
        }
      ],
      "source": [
        "%tensorflow_version 2.x\n",
        "import tensorflow as tf\n",
        "device_name = tf.test.gpu_device_name()\n",
        "if device_name != '/device:GPU:0':\n",
        "  raise SystemError('GPU device not found')\n",
        "print('Found GPU at: {}'.format(device_name))"
      ]
    },
    {
      "cell_type": "code",
      "source": [
        "!pip install keras-tuner --upgrade"
      ],
      "metadata": {
        "colab": {
          "base_uri": "https://localhost:8080/"
        },
        "id": "WC-g5aMommj3",
        "outputId": "e43add6a-a84b-4f90-b052-741de3846d30"
      },
      "execution_count": 2,
      "outputs": [
        {
          "output_type": "stream",
          "name": "stdout",
          "text": [
            "Looking in indexes: https://pypi.org/simple, https://us-python.pkg.dev/colab-wheels/public/simple/\n",
            "Requirement already satisfied: keras-tuner in /usr/local/lib/python3.7/dist-packages (1.1.3)\n",
            "Requirement already satisfied: kt-legacy in /usr/local/lib/python3.7/dist-packages (from keras-tuner) (1.0.4)\n",
            "Requirement already satisfied: ipython in /usr/local/lib/python3.7/dist-packages (from keras-tuner) (5.5.0)\n",
            "Requirement already satisfied: tensorboard in /usr/local/lib/python3.7/dist-packages (from keras-tuner) (2.8.0)\n",
            "Requirement already satisfied: numpy in /usr/local/lib/python3.7/dist-packages (from keras-tuner) (1.21.6)\n",
            "Requirement already satisfied: packaging in /usr/local/lib/python3.7/dist-packages (from keras-tuner) (21.3)\n",
            "Requirement already satisfied: requests in /usr/local/lib/python3.7/dist-packages (from keras-tuner) (2.23.0)\n",
            "Requirement already satisfied: prompt-toolkit<2.0.0,>=1.0.4 in /usr/local/lib/python3.7/dist-packages (from ipython->keras-tuner) (1.0.18)\n",
            "Requirement already satisfied: pygments in /usr/local/lib/python3.7/dist-packages (from ipython->keras-tuner) (2.6.1)\n",
            "Requirement already satisfied: pickleshare in /usr/local/lib/python3.7/dist-packages (from ipython->keras-tuner) (0.7.5)\n",
            "Requirement already satisfied: decorator in /usr/local/lib/python3.7/dist-packages (from ipython->keras-tuner) (4.4.2)\n",
            "Requirement already satisfied: setuptools>=18.5 in /usr/local/lib/python3.7/dist-packages (from ipython->keras-tuner) (57.4.0)\n",
            "Requirement already satisfied: traitlets>=4.2 in /usr/local/lib/python3.7/dist-packages (from ipython->keras-tuner) (5.1.1)\n",
            "Requirement already satisfied: pexpect in /usr/local/lib/python3.7/dist-packages (from ipython->keras-tuner) (4.8.0)\n",
            "Requirement already satisfied: simplegeneric>0.8 in /usr/local/lib/python3.7/dist-packages (from ipython->keras-tuner) (0.8.1)\n",
            "Requirement already satisfied: six>=1.9.0 in /usr/local/lib/python3.7/dist-packages (from prompt-toolkit<2.0.0,>=1.0.4->ipython->keras-tuner) (1.15.0)\n",
            "Requirement already satisfied: wcwidth in /usr/local/lib/python3.7/dist-packages (from prompt-toolkit<2.0.0,>=1.0.4->ipython->keras-tuner) (0.2.5)\n",
            "Requirement already satisfied: pyparsing!=3.0.5,>=2.0.2 in /usr/local/lib/python3.7/dist-packages (from packaging->keras-tuner) (3.0.9)\n",
            "Requirement already satisfied: ptyprocess>=0.5 in /usr/local/lib/python3.7/dist-packages (from pexpect->ipython->keras-tuner) (0.7.0)\n",
            "Requirement already satisfied: idna<3,>=2.5 in /usr/local/lib/python3.7/dist-packages (from requests->keras-tuner) (2.10)\n",
            "Requirement already satisfied: chardet<4,>=3.0.2 in /usr/local/lib/python3.7/dist-packages (from requests->keras-tuner) (3.0.4)\n",
            "Requirement already satisfied: certifi>=2017.4.17 in /usr/local/lib/python3.7/dist-packages (from requests->keras-tuner) (2022.6.15)\n",
            "Requirement already satisfied: urllib3!=1.25.0,!=1.25.1,<1.26,>=1.21.1 in /usr/local/lib/python3.7/dist-packages (from requests->keras-tuner) (1.24.3)\n",
            "Requirement already satisfied: grpcio>=1.24.3 in /usr/local/lib/python3.7/dist-packages (from tensorboard->keras-tuner) (1.47.0)\n",
            "Requirement already satisfied: google-auth<3,>=1.6.3 in /usr/local/lib/python3.7/dist-packages (from tensorboard->keras-tuner) (1.35.0)\n",
            "Requirement already satisfied: tensorboard-plugin-wit>=1.6.0 in /usr/local/lib/python3.7/dist-packages (from tensorboard->keras-tuner) (1.8.1)\n",
            "Requirement already satisfied: wheel>=0.26 in /usr/local/lib/python3.7/dist-packages (from tensorboard->keras-tuner) (0.37.1)\n",
            "Requirement already satisfied: absl-py>=0.4 in /usr/local/lib/python3.7/dist-packages (from tensorboard->keras-tuner) (1.2.0)\n",
            "Requirement already satisfied: markdown>=2.6.8 in /usr/local/lib/python3.7/dist-packages (from tensorboard->keras-tuner) (3.4.1)\n",
            "Requirement already satisfied: google-auth-oauthlib<0.5,>=0.4.1 in /usr/local/lib/python3.7/dist-packages (from tensorboard->keras-tuner) (0.4.6)\n",
            "Requirement already satisfied: protobuf>=3.6.0 in /usr/local/lib/python3.7/dist-packages (from tensorboard->keras-tuner) (3.17.3)\n",
            "Requirement already satisfied: werkzeug>=0.11.15 in /usr/local/lib/python3.7/dist-packages (from tensorboard->keras-tuner) (1.0.1)\n",
            "Requirement already satisfied: tensorboard-data-server<0.7.0,>=0.6.0 in /usr/local/lib/python3.7/dist-packages (from tensorboard->keras-tuner) (0.6.1)\n",
            "Requirement already satisfied: pyasn1-modules>=0.2.1 in /usr/local/lib/python3.7/dist-packages (from google-auth<3,>=1.6.3->tensorboard->keras-tuner) (0.2.8)\n",
            "Requirement already satisfied: cachetools<5.0,>=2.0.0 in /usr/local/lib/python3.7/dist-packages (from google-auth<3,>=1.6.3->tensorboard->keras-tuner) (4.2.4)\n",
            "Requirement already satisfied: rsa<5,>=3.1.4 in /usr/local/lib/python3.7/dist-packages (from google-auth<3,>=1.6.3->tensorboard->keras-tuner) (4.9)\n",
            "Requirement already satisfied: requests-oauthlib>=0.7.0 in /usr/local/lib/python3.7/dist-packages (from google-auth-oauthlib<0.5,>=0.4.1->tensorboard->keras-tuner) (1.3.1)\n",
            "Requirement already satisfied: importlib-metadata>=4.4 in /usr/local/lib/python3.7/dist-packages (from markdown>=2.6.8->tensorboard->keras-tuner) (4.12.0)\n",
            "Requirement already satisfied: zipp>=0.5 in /usr/local/lib/python3.7/dist-packages (from importlib-metadata>=4.4->markdown>=2.6.8->tensorboard->keras-tuner) (3.8.1)\n",
            "Requirement already satisfied: typing-extensions>=3.6.4 in /usr/local/lib/python3.7/dist-packages (from importlib-metadata>=4.4->markdown>=2.6.8->tensorboard->keras-tuner) (4.1.1)\n",
            "Requirement already satisfied: pyasn1<0.5.0,>=0.4.6 in /usr/local/lib/python3.7/dist-packages (from pyasn1-modules>=0.2.1->google-auth<3,>=1.6.3->tensorboard->keras-tuner) (0.4.8)\n",
            "Requirement already satisfied: oauthlib>=3.0.0 in /usr/local/lib/python3.7/dist-packages (from requests-oauthlib>=0.7.0->google-auth-oauthlib<0.5,>=0.4.1->tensorboard->keras-tuner) (3.2.0)\n"
          ]
        }
      ]
    },
    {
      "cell_type": "code",
      "source": [
        "import pandas as pd\n",
        "from sklearn.model_selection import train_test_split\n",
        "from tensorflow import keras\n",
        "from keras import layers\n",
        "from keras_tuner.tuners import RandomSearch\n",
        "import matplotlib.pyplot as plt\n",
        "import seaborn as sns\n",
        "%matplotlib inline"
      ],
      "metadata": {
        "id": "tZ4RuiyBm2Ah"
      },
      "execution_count": 3,
      "outputs": []
    },
    {
      "cell_type": "code",
      "source": [
        "df = pd.read_csv(\"/content/drive/MyDrive/Dataset/data.csv\")\n",
        "df"
      ],
      "metadata": {
        "colab": {
          "base_uri": "https://localhost:8080/",
          "height": 765
        },
        "id": "5oTfxb9nm7b8",
        "outputId": "5f9239ad-2eff-4f7c-da90-9d7cc7adaa19"
      },
      "execution_count": 4,
      "outputs": [
        {
          "output_type": "execute_result",
          "data": {
            "text/plain": [
              "             price  bedrooms  bathrooms  sqft_living  sqft_lot  floors  \\\n",
              "0     3.130000e+05         3       1.50         1340      7912     1.5   \n",
              "1     2.384000e+06         5       2.50         3650      9050     2.0   \n",
              "2     3.420000e+05         3       2.00         1930     11947     1.0   \n",
              "3     4.200000e+05         3       2.25         2000      8030     1.0   \n",
              "4     5.500000e+05         4       2.50         1940     10500     1.0   \n",
              "...            ...       ...        ...          ...       ...     ...   \n",
              "4595  3.081667e+05         3       1.75         1510      6360     1.0   \n",
              "4596  5.343333e+05         3       2.50         1460      7573     2.0   \n",
              "4597  4.169042e+05         3       2.50         3010      7014     2.0   \n",
              "4598  2.034000e+05         4       2.00         2090      6630     1.0   \n",
              "4599  2.206000e+05         3       2.50         1490      8102     2.0   \n",
              "\n",
              "      waterfront  view  condition  sqft_above  sqft_basement  yr_built  \\\n",
              "0              0     0          3        1340              0      1955   \n",
              "1              0     4          5        3370            280      1921   \n",
              "2              0     0          4        1930              0      1966   \n",
              "3              0     0          4        1000           1000      1963   \n",
              "4              0     0          4        1140            800      1976   \n",
              "...          ...   ...        ...         ...            ...       ...   \n",
              "4595           0     0          4        1510              0      1954   \n",
              "4596           0     0          3        1460              0      1983   \n",
              "4597           0     0          3        3010              0      2009   \n",
              "4598           0     0          3        1070           1020      1974   \n",
              "4599           0     0          4        1490              0      1990   \n",
              "\n",
              "      yr_renovated                    street       city  statezip country  \n",
              "0             2005      18810 Densmore Ave N  Shoreline  WA 98133     USA  \n",
              "1                0           709 W Blaine St    Seattle  WA 98119     USA  \n",
              "2                0  26206-26214 143rd Ave SE       Kent  WA 98042     USA  \n",
              "3                0           857 170th Pl NE   Bellevue  WA 98008     USA  \n",
              "4             1992         9105 170th Ave NE    Redmond  WA 98052     USA  \n",
              "...            ...                       ...        ...       ...     ...  \n",
              "4595          1979            501 N 143rd St    Seattle  WA 98133     USA  \n",
              "4596          2009          14855 SE 10th Pl   Bellevue  WA 98007     USA  \n",
              "4597             0          759 Ilwaco Pl NE     Renton  WA 98059     USA  \n",
              "4598             0         5148 S Creston St    Seattle  WA 98178     USA  \n",
              "4599             0         18717 SE 258th St  Covington  WA 98042     USA  \n",
              "\n",
              "[4600 rows x 17 columns]"
            ],
            "text/html": [
              "\n",
              "  <div id=\"df-ee7eb5b8-6dea-44a6-9a2d-723f48fa4f1c\">\n",
              "    <div class=\"colab-df-container\">\n",
              "      <div>\n",
              "<style scoped>\n",
              "    .dataframe tbody tr th:only-of-type {\n",
              "        vertical-align: middle;\n",
              "    }\n",
              "\n",
              "    .dataframe tbody tr th {\n",
              "        vertical-align: top;\n",
              "    }\n",
              "\n",
              "    .dataframe thead th {\n",
              "        text-align: right;\n",
              "    }\n",
              "</style>\n",
              "<table border=\"1\" class=\"dataframe\">\n",
              "  <thead>\n",
              "    <tr style=\"text-align: right;\">\n",
              "      <th></th>\n",
              "      <th>price</th>\n",
              "      <th>bedrooms</th>\n",
              "      <th>bathrooms</th>\n",
              "      <th>sqft_living</th>\n",
              "      <th>sqft_lot</th>\n",
              "      <th>floors</th>\n",
              "      <th>waterfront</th>\n",
              "      <th>view</th>\n",
              "      <th>condition</th>\n",
              "      <th>sqft_above</th>\n",
              "      <th>sqft_basement</th>\n",
              "      <th>yr_built</th>\n",
              "      <th>yr_renovated</th>\n",
              "      <th>street</th>\n",
              "      <th>city</th>\n",
              "      <th>statezip</th>\n",
              "      <th>country</th>\n",
              "    </tr>\n",
              "  </thead>\n",
              "  <tbody>\n",
              "    <tr>\n",
              "      <th>0</th>\n",
              "      <td>3.130000e+05</td>\n",
              "      <td>3</td>\n",
              "      <td>1.50</td>\n",
              "      <td>1340</td>\n",
              "      <td>7912</td>\n",
              "      <td>1.5</td>\n",
              "      <td>0</td>\n",
              "      <td>0</td>\n",
              "      <td>3</td>\n",
              "      <td>1340</td>\n",
              "      <td>0</td>\n",
              "      <td>1955</td>\n",
              "      <td>2005</td>\n",
              "      <td>18810 Densmore Ave N</td>\n",
              "      <td>Shoreline</td>\n",
              "      <td>WA 98133</td>\n",
              "      <td>USA</td>\n",
              "    </tr>\n",
              "    <tr>\n",
              "      <th>1</th>\n",
              "      <td>2.384000e+06</td>\n",
              "      <td>5</td>\n",
              "      <td>2.50</td>\n",
              "      <td>3650</td>\n",
              "      <td>9050</td>\n",
              "      <td>2.0</td>\n",
              "      <td>0</td>\n",
              "      <td>4</td>\n",
              "      <td>5</td>\n",
              "      <td>3370</td>\n",
              "      <td>280</td>\n",
              "      <td>1921</td>\n",
              "      <td>0</td>\n",
              "      <td>709 W Blaine St</td>\n",
              "      <td>Seattle</td>\n",
              "      <td>WA 98119</td>\n",
              "      <td>USA</td>\n",
              "    </tr>\n",
              "    <tr>\n",
              "      <th>2</th>\n",
              "      <td>3.420000e+05</td>\n",
              "      <td>3</td>\n",
              "      <td>2.00</td>\n",
              "      <td>1930</td>\n",
              "      <td>11947</td>\n",
              "      <td>1.0</td>\n",
              "      <td>0</td>\n",
              "      <td>0</td>\n",
              "      <td>4</td>\n",
              "      <td>1930</td>\n",
              "      <td>0</td>\n",
              "      <td>1966</td>\n",
              "      <td>0</td>\n",
              "      <td>26206-26214 143rd Ave SE</td>\n",
              "      <td>Kent</td>\n",
              "      <td>WA 98042</td>\n",
              "      <td>USA</td>\n",
              "    </tr>\n",
              "    <tr>\n",
              "      <th>3</th>\n",
              "      <td>4.200000e+05</td>\n",
              "      <td>3</td>\n",
              "      <td>2.25</td>\n",
              "      <td>2000</td>\n",
              "      <td>8030</td>\n",
              "      <td>1.0</td>\n",
              "      <td>0</td>\n",
              "      <td>0</td>\n",
              "      <td>4</td>\n",
              "      <td>1000</td>\n",
              "      <td>1000</td>\n",
              "      <td>1963</td>\n",
              "      <td>0</td>\n",
              "      <td>857 170th Pl NE</td>\n",
              "      <td>Bellevue</td>\n",
              "      <td>WA 98008</td>\n",
              "      <td>USA</td>\n",
              "    </tr>\n",
              "    <tr>\n",
              "      <th>4</th>\n",
              "      <td>5.500000e+05</td>\n",
              "      <td>4</td>\n",
              "      <td>2.50</td>\n",
              "      <td>1940</td>\n",
              "      <td>10500</td>\n",
              "      <td>1.0</td>\n",
              "      <td>0</td>\n",
              "      <td>0</td>\n",
              "      <td>4</td>\n",
              "      <td>1140</td>\n",
              "      <td>800</td>\n",
              "      <td>1976</td>\n",
              "      <td>1992</td>\n",
              "      <td>9105 170th Ave NE</td>\n",
              "      <td>Redmond</td>\n",
              "      <td>WA 98052</td>\n",
              "      <td>USA</td>\n",
              "    </tr>\n",
              "    <tr>\n",
              "      <th>...</th>\n",
              "      <td>...</td>\n",
              "      <td>...</td>\n",
              "      <td>...</td>\n",
              "      <td>...</td>\n",
              "      <td>...</td>\n",
              "      <td>...</td>\n",
              "      <td>...</td>\n",
              "      <td>...</td>\n",
              "      <td>...</td>\n",
              "      <td>...</td>\n",
              "      <td>...</td>\n",
              "      <td>...</td>\n",
              "      <td>...</td>\n",
              "      <td>...</td>\n",
              "      <td>...</td>\n",
              "      <td>...</td>\n",
              "      <td>...</td>\n",
              "    </tr>\n",
              "    <tr>\n",
              "      <th>4595</th>\n",
              "      <td>3.081667e+05</td>\n",
              "      <td>3</td>\n",
              "      <td>1.75</td>\n",
              "      <td>1510</td>\n",
              "      <td>6360</td>\n",
              "      <td>1.0</td>\n",
              "      <td>0</td>\n",
              "      <td>0</td>\n",
              "      <td>4</td>\n",
              "      <td>1510</td>\n",
              "      <td>0</td>\n",
              "      <td>1954</td>\n",
              "      <td>1979</td>\n",
              "      <td>501 N 143rd St</td>\n",
              "      <td>Seattle</td>\n",
              "      <td>WA 98133</td>\n",
              "      <td>USA</td>\n",
              "    </tr>\n",
              "    <tr>\n",
              "      <th>4596</th>\n",
              "      <td>5.343333e+05</td>\n",
              "      <td>3</td>\n",
              "      <td>2.50</td>\n",
              "      <td>1460</td>\n",
              "      <td>7573</td>\n",
              "      <td>2.0</td>\n",
              "      <td>0</td>\n",
              "      <td>0</td>\n",
              "      <td>3</td>\n",
              "      <td>1460</td>\n",
              "      <td>0</td>\n",
              "      <td>1983</td>\n",
              "      <td>2009</td>\n",
              "      <td>14855 SE 10th Pl</td>\n",
              "      <td>Bellevue</td>\n",
              "      <td>WA 98007</td>\n",
              "      <td>USA</td>\n",
              "    </tr>\n",
              "    <tr>\n",
              "      <th>4597</th>\n",
              "      <td>4.169042e+05</td>\n",
              "      <td>3</td>\n",
              "      <td>2.50</td>\n",
              "      <td>3010</td>\n",
              "      <td>7014</td>\n",
              "      <td>2.0</td>\n",
              "      <td>0</td>\n",
              "      <td>0</td>\n",
              "      <td>3</td>\n",
              "      <td>3010</td>\n",
              "      <td>0</td>\n",
              "      <td>2009</td>\n",
              "      <td>0</td>\n",
              "      <td>759 Ilwaco Pl NE</td>\n",
              "      <td>Renton</td>\n",
              "      <td>WA 98059</td>\n",
              "      <td>USA</td>\n",
              "    </tr>\n",
              "    <tr>\n",
              "      <th>4598</th>\n",
              "      <td>2.034000e+05</td>\n",
              "      <td>4</td>\n",
              "      <td>2.00</td>\n",
              "      <td>2090</td>\n",
              "      <td>6630</td>\n",
              "      <td>1.0</td>\n",
              "      <td>0</td>\n",
              "      <td>0</td>\n",
              "      <td>3</td>\n",
              "      <td>1070</td>\n",
              "      <td>1020</td>\n",
              "      <td>1974</td>\n",
              "      <td>0</td>\n",
              "      <td>5148 S Creston St</td>\n",
              "      <td>Seattle</td>\n",
              "      <td>WA 98178</td>\n",
              "      <td>USA</td>\n",
              "    </tr>\n",
              "    <tr>\n",
              "      <th>4599</th>\n",
              "      <td>2.206000e+05</td>\n",
              "      <td>3</td>\n",
              "      <td>2.50</td>\n",
              "      <td>1490</td>\n",
              "      <td>8102</td>\n",
              "      <td>2.0</td>\n",
              "      <td>0</td>\n",
              "      <td>0</td>\n",
              "      <td>4</td>\n",
              "      <td>1490</td>\n",
              "      <td>0</td>\n",
              "      <td>1990</td>\n",
              "      <td>0</td>\n",
              "      <td>18717 SE 258th St</td>\n",
              "      <td>Covington</td>\n",
              "      <td>WA 98042</td>\n",
              "      <td>USA</td>\n",
              "    </tr>\n",
              "  </tbody>\n",
              "</table>\n",
              "<p>4600 rows × 17 columns</p>\n",
              "</div>\n",
              "      <button class=\"colab-df-convert\" onclick=\"convertToInteractive('df-ee7eb5b8-6dea-44a6-9a2d-723f48fa4f1c')\"\n",
              "              title=\"Convert this dataframe to an interactive table.\"\n",
              "              style=\"display:none;\">\n",
              "        \n",
              "  <svg xmlns=\"http://www.w3.org/2000/svg\" height=\"24px\"viewBox=\"0 0 24 24\"\n",
              "       width=\"24px\">\n",
              "    <path d=\"M0 0h24v24H0V0z\" fill=\"none\"/>\n",
              "    <path d=\"M18.56 5.44l.94 2.06.94-2.06 2.06-.94-2.06-.94-.94-2.06-.94 2.06-2.06.94zm-11 1L8.5 8.5l.94-2.06 2.06-.94-2.06-.94L8.5 2.5l-.94 2.06-2.06.94zm10 10l.94 2.06.94-2.06 2.06-.94-2.06-.94-.94-2.06-.94 2.06-2.06.94z\"/><path d=\"M17.41 7.96l-1.37-1.37c-.4-.4-.92-.59-1.43-.59-.52 0-1.04.2-1.43.59L10.3 9.45l-7.72 7.72c-.78.78-.78 2.05 0 2.83L4 21.41c.39.39.9.59 1.41.59.51 0 1.02-.2 1.41-.59l7.78-7.78 2.81-2.81c.8-.78.8-2.07 0-2.86zM5.41 20L4 18.59l7.72-7.72 1.47 1.35L5.41 20z\"/>\n",
              "  </svg>\n",
              "      </button>\n",
              "      \n",
              "  <style>\n",
              "    .colab-df-container {\n",
              "      display:flex;\n",
              "      flex-wrap:wrap;\n",
              "      gap: 12px;\n",
              "    }\n",
              "\n",
              "    .colab-df-convert {\n",
              "      background-color: #E8F0FE;\n",
              "      border: none;\n",
              "      border-radius: 50%;\n",
              "      cursor: pointer;\n",
              "      display: none;\n",
              "      fill: #1967D2;\n",
              "      height: 32px;\n",
              "      padding: 0 0 0 0;\n",
              "      width: 32px;\n",
              "    }\n",
              "\n",
              "    .colab-df-convert:hover {\n",
              "      background-color: #E2EBFA;\n",
              "      box-shadow: 0px 1px 2px rgba(60, 64, 67, 0.3), 0px 1px 3px 1px rgba(60, 64, 67, 0.15);\n",
              "      fill: #174EA6;\n",
              "    }\n",
              "\n",
              "    [theme=dark] .colab-df-convert {\n",
              "      background-color: #3B4455;\n",
              "      fill: #D2E3FC;\n",
              "    }\n",
              "\n",
              "    [theme=dark] .colab-df-convert:hover {\n",
              "      background-color: #434B5C;\n",
              "      box-shadow: 0px 1px 3px 1px rgba(0, 0, 0, 0.15);\n",
              "      filter: drop-shadow(0px 1px 2px rgba(0, 0, 0, 0.3));\n",
              "      fill: #FFFFFF;\n",
              "    }\n",
              "  </style>\n",
              "\n",
              "      <script>\n",
              "        const buttonEl =\n",
              "          document.querySelector('#df-ee7eb5b8-6dea-44a6-9a2d-723f48fa4f1c button.colab-df-convert');\n",
              "        buttonEl.style.display =\n",
              "          google.colab.kernel.accessAllowed ? 'block' : 'none';\n",
              "\n",
              "        async function convertToInteractive(key) {\n",
              "          const element = document.querySelector('#df-ee7eb5b8-6dea-44a6-9a2d-723f48fa4f1c');\n",
              "          const dataTable =\n",
              "            await google.colab.kernel.invokeFunction('convertToInteractive',\n",
              "                                                     [key], {});\n",
              "          if (!dataTable) return;\n",
              "\n",
              "          const docLinkHtml = 'Like what you see? Visit the ' +\n",
              "            '<a target=\"_blank\" href=https://colab.research.google.com/notebooks/data_table.ipynb>data table notebook</a>'\n",
              "            + ' to learn more about interactive tables.';\n",
              "          element.innerHTML = '';\n",
              "          dataTable['output_type'] = 'display_data';\n",
              "          await google.colab.output.renderOutput(dataTable, element);\n",
              "          const docLink = document.createElement('div');\n",
              "          docLink.innerHTML = docLinkHtml;\n",
              "          element.appendChild(docLink);\n",
              "        }\n",
              "      </script>\n",
              "    </div>\n",
              "  </div>\n",
              "  "
            ]
          },
          "metadata": {},
          "execution_count": 4
        }
      ]
    },
    {
      "cell_type": "code",
      "source": [
        "df.head() #displays first 5 rows of the data"
      ],
      "metadata": {
        "colab": {
          "base_uri": "https://localhost:8080/",
          "height": 426
        },
        "id": "6d5nrqIQnG30",
        "outputId": "c3d13830-0ffb-4fb5-c54a-59aabfa345b0"
      },
      "execution_count": 5,
      "outputs": [
        {
          "output_type": "execute_result",
          "data": {
            "text/plain": [
              "       price  bedrooms  bathrooms  sqft_living  sqft_lot  floors  waterfront  \\\n",
              "0   313000.0         3       1.50         1340      7912     1.5           0   \n",
              "1  2384000.0         5       2.50         3650      9050     2.0           0   \n",
              "2   342000.0         3       2.00         1930     11947     1.0           0   \n",
              "3   420000.0         3       2.25         2000      8030     1.0           0   \n",
              "4   550000.0         4       2.50         1940     10500     1.0           0   \n",
              "\n",
              "   view  condition  sqft_above  sqft_basement  yr_built  yr_renovated  \\\n",
              "0     0          3        1340              0      1955          2005   \n",
              "1     4          5        3370            280      1921             0   \n",
              "2     0          4        1930              0      1966             0   \n",
              "3     0          4        1000           1000      1963             0   \n",
              "4     0          4        1140            800      1976          1992   \n",
              "\n",
              "                     street       city  statezip country  \n",
              "0      18810 Densmore Ave N  Shoreline  WA 98133     USA  \n",
              "1           709 W Blaine St    Seattle  WA 98119     USA  \n",
              "2  26206-26214 143rd Ave SE       Kent  WA 98042     USA  \n",
              "3           857 170th Pl NE   Bellevue  WA 98008     USA  \n",
              "4         9105 170th Ave NE    Redmond  WA 98052     USA  "
            ],
            "text/html": [
              "\n",
              "  <div id=\"df-c2f507a8-97da-46a9-8622-4dd948a6a22f\">\n",
              "    <div class=\"colab-df-container\">\n",
              "      <div>\n",
              "<style scoped>\n",
              "    .dataframe tbody tr th:only-of-type {\n",
              "        vertical-align: middle;\n",
              "    }\n",
              "\n",
              "    .dataframe tbody tr th {\n",
              "        vertical-align: top;\n",
              "    }\n",
              "\n",
              "    .dataframe thead th {\n",
              "        text-align: right;\n",
              "    }\n",
              "</style>\n",
              "<table border=\"1\" class=\"dataframe\">\n",
              "  <thead>\n",
              "    <tr style=\"text-align: right;\">\n",
              "      <th></th>\n",
              "      <th>price</th>\n",
              "      <th>bedrooms</th>\n",
              "      <th>bathrooms</th>\n",
              "      <th>sqft_living</th>\n",
              "      <th>sqft_lot</th>\n",
              "      <th>floors</th>\n",
              "      <th>waterfront</th>\n",
              "      <th>view</th>\n",
              "      <th>condition</th>\n",
              "      <th>sqft_above</th>\n",
              "      <th>sqft_basement</th>\n",
              "      <th>yr_built</th>\n",
              "      <th>yr_renovated</th>\n",
              "      <th>street</th>\n",
              "      <th>city</th>\n",
              "      <th>statezip</th>\n",
              "      <th>country</th>\n",
              "    </tr>\n",
              "  </thead>\n",
              "  <tbody>\n",
              "    <tr>\n",
              "      <th>0</th>\n",
              "      <td>313000.0</td>\n",
              "      <td>3</td>\n",
              "      <td>1.50</td>\n",
              "      <td>1340</td>\n",
              "      <td>7912</td>\n",
              "      <td>1.5</td>\n",
              "      <td>0</td>\n",
              "      <td>0</td>\n",
              "      <td>3</td>\n",
              "      <td>1340</td>\n",
              "      <td>0</td>\n",
              "      <td>1955</td>\n",
              "      <td>2005</td>\n",
              "      <td>18810 Densmore Ave N</td>\n",
              "      <td>Shoreline</td>\n",
              "      <td>WA 98133</td>\n",
              "      <td>USA</td>\n",
              "    </tr>\n",
              "    <tr>\n",
              "      <th>1</th>\n",
              "      <td>2384000.0</td>\n",
              "      <td>5</td>\n",
              "      <td>2.50</td>\n",
              "      <td>3650</td>\n",
              "      <td>9050</td>\n",
              "      <td>2.0</td>\n",
              "      <td>0</td>\n",
              "      <td>4</td>\n",
              "      <td>5</td>\n",
              "      <td>3370</td>\n",
              "      <td>280</td>\n",
              "      <td>1921</td>\n",
              "      <td>0</td>\n",
              "      <td>709 W Blaine St</td>\n",
              "      <td>Seattle</td>\n",
              "      <td>WA 98119</td>\n",
              "      <td>USA</td>\n",
              "    </tr>\n",
              "    <tr>\n",
              "      <th>2</th>\n",
              "      <td>342000.0</td>\n",
              "      <td>3</td>\n",
              "      <td>2.00</td>\n",
              "      <td>1930</td>\n",
              "      <td>11947</td>\n",
              "      <td>1.0</td>\n",
              "      <td>0</td>\n",
              "      <td>0</td>\n",
              "      <td>4</td>\n",
              "      <td>1930</td>\n",
              "      <td>0</td>\n",
              "      <td>1966</td>\n",
              "      <td>0</td>\n",
              "      <td>26206-26214 143rd Ave SE</td>\n",
              "      <td>Kent</td>\n",
              "      <td>WA 98042</td>\n",
              "      <td>USA</td>\n",
              "    </tr>\n",
              "    <tr>\n",
              "      <th>3</th>\n",
              "      <td>420000.0</td>\n",
              "      <td>3</td>\n",
              "      <td>2.25</td>\n",
              "      <td>2000</td>\n",
              "      <td>8030</td>\n",
              "      <td>1.0</td>\n",
              "      <td>0</td>\n",
              "      <td>0</td>\n",
              "      <td>4</td>\n",
              "      <td>1000</td>\n",
              "      <td>1000</td>\n",
              "      <td>1963</td>\n",
              "      <td>0</td>\n",
              "      <td>857 170th Pl NE</td>\n",
              "      <td>Bellevue</td>\n",
              "      <td>WA 98008</td>\n",
              "      <td>USA</td>\n",
              "    </tr>\n",
              "    <tr>\n",
              "      <th>4</th>\n",
              "      <td>550000.0</td>\n",
              "      <td>4</td>\n",
              "      <td>2.50</td>\n",
              "      <td>1940</td>\n",
              "      <td>10500</td>\n",
              "      <td>1.0</td>\n",
              "      <td>0</td>\n",
              "      <td>0</td>\n",
              "      <td>4</td>\n",
              "      <td>1140</td>\n",
              "      <td>800</td>\n",
              "      <td>1976</td>\n",
              "      <td>1992</td>\n",
              "      <td>9105 170th Ave NE</td>\n",
              "      <td>Redmond</td>\n",
              "      <td>WA 98052</td>\n",
              "      <td>USA</td>\n",
              "    </tr>\n",
              "  </tbody>\n",
              "</table>\n",
              "</div>\n",
              "      <button class=\"colab-df-convert\" onclick=\"convertToInteractive('df-c2f507a8-97da-46a9-8622-4dd948a6a22f')\"\n",
              "              title=\"Convert this dataframe to an interactive table.\"\n",
              "              style=\"display:none;\">\n",
              "        \n",
              "  <svg xmlns=\"http://www.w3.org/2000/svg\" height=\"24px\"viewBox=\"0 0 24 24\"\n",
              "       width=\"24px\">\n",
              "    <path d=\"M0 0h24v24H0V0z\" fill=\"none\"/>\n",
              "    <path d=\"M18.56 5.44l.94 2.06.94-2.06 2.06-.94-2.06-.94-.94-2.06-.94 2.06-2.06.94zm-11 1L8.5 8.5l.94-2.06 2.06-.94-2.06-.94L8.5 2.5l-.94 2.06-2.06.94zm10 10l.94 2.06.94-2.06 2.06-.94-2.06-.94-.94-2.06-.94 2.06-2.06.94z\"/><path d=\"M17.41 7.96l-1.37-1.37c-.4-.4-.92-.59-1.43-.59-.52 0-1.04.2-1.43.59L10.3 9.45l-7.72 7.72c-.78.78-.78 2.05 0 2.83L4 21.41c.39.39.9.59 1.41.59.51 0 1.02-.2 1.41-.59l7.78-7.78 2.81-2.81c.8-.78.8-2.07 0-2.86zM5.41 20L4 18.59l7.72-7.72 1.47 1.35L5.41 20z\"/>\n",
              "  </svg>\n",
              "      </button>\n",
              "      \n",
              "  <style>\n",
              "    .colab-df-container {\n",
              "      display:flex;\n",
              "      flex-wrap:wrap;\n",
              "      gap: 12px;\n",
              "    }\n",
              "\n",
              "    .colab-df-convert {\n",
              "      background-color: #E8F0FE;\n",
              "      border: none;\n",
              "      border-radius: 50%;\n",
              "      cursor: pointer;\n",
              "      display: none;\n",
              "      fill: #1967D2;\n",
              "      height: 32px;\n",
              "      padding: 0 0 0 0;\n",
              "      width: 32px;\n",
              "    }\n",
              "\n",
              "    .colab-df-convert:hover {\n",
              "      background-color: #E2EBFA;\n",
              "      box-shadow: 0px 1px 2px rgba(60, 64, 67, 0.3), 0px 1px 3px 1px rgba(60, 64, 67, 0.15);\n",
              "      fill: #174EA6;\n",
              "    }\n",
              "\n",
              "    [theme=dark] .colab-df-convert {\n",
              "      background-color: #3B4455;\n",
              "      fill: #D2E3FC;\n",
              "    }\n",
              "\n",
              "    [theme=dark] .colab-df-convert:hover {\n",
              "      background-color: #434B5C;\n",
              "      box-shadow: 0px 1px 3px 1px rgba(0, 0, 0, 0.15);\n",
              "      filter: drop-shadow(0px 1px 2px rgba(0, 0, 0, 0.3));\n",
              "      fill: #FFFFFF;\n",
              "    }\n",
              "  </style>\n",
              "\n",
              "      <script>\n",
              "        const buttonEl =\n",
              "          document.querySelector('#df-c2f507a8-97da-46a9-8622-4dd948a6a22f button.colab-df-convert');\n",
              "        buttonEl.style.display =\n",
              "          google.colab.kernel.accessAllowed ? 'block' : 'none';\n",
              "\n",
              "        async function convertToInteractive(key) {\n",
              "          const element = document.querySelector('#df-c2f507a8-97da-46a9-8622-4dd948a6a22f');\n",
              "          const dataTable =\n",
              "            await google.colab.kernel.invokeFunction('convertToInteractive',\n",
              "                                                     [key], {});\n",
              "          if (!dataTable) return;\n",
              "\n",
              "          const docLinkHtml = 'Like what you see? Visit the ' +\n",
              "            '<a target=\"_blank\" href=https://colab.research.google.com/notebooks/data_table.ipynb>data table notebook</a>'\n",
              "            + ' to learn more about interactive tables.';\n",
              "          element.innerHTML = '';\n",
              "          dataTable['output_type'] = 'display_data';\n",
              "          await google.colab.output.renderOutput(dataTable, element);\n",
              "          const docLink = document.createElement('div');\n",
              "          docLink.innerHTML = docLinkHtml;\n",
              "          element.appendChild(docLink);\n",
              "        }\n",
              "      </script>\n",
              "    </div>\n",
              "  </div>\n",
              "  "
            ]
          },
          "metadata": {},
          "execution_count": 5
        }
      ]
    },
    {
      "cell_type": "code",
      "source": [
        "df.tail() #displays last 5 rows of the data"
      ],
      "metadata": {
        "colab": {
          "base_uri": "https://localhost:8080/",
          "height": 461
        },
        "id": "coC69uiOnJaY",
        "outputId": "c3b1b31a-cfa5-443c-e6ec-92694f0157c3"
      },
      "execution_count": 6,
      "outputs": [
        {
          "output_type": "execute_result",
          "data": {
            "text/plain": [
              "            price  bedrooms  bathrooms  sqft_living  sqft_lot  floors  \\\n",
              "4595  308166.6667         3       1.75         1510      6360     1.0   \n",
              "4596  534333.3333         3       2.50         1460      7573     2.0   \n",
              "4597  416904.1667         3       2.50         3010      7014     2.0   \n",
              "4598  203400.0000         4       2.00         2090      6630     1.0   \n",
              "4599  220600.0000         3       2.50         1490      8102     2.0   \n",
              "\n",
              "      waterfront  view  condition  sqft_above  sqft_basement  yr_built  \\\n",
              "4595           0     0          4        1510              0      1954   \n",
              "4596           0     0          3        1460              0      1983   \n",
              "4597           0     0          3        3010              0      2009   \n",
              "4598           0     0          3        1070           1020      1974   \n",
              "4599           0     0          4        1490              0      1990   \n",
              "\n",
              "      yr_renovated             street       city  statezip country  \n",
              "4595          1979     501 N 143rd St    Seattle  WA 98133     USA  \n",
              "4596          2009   14855 SE 10th Pl   Bellevue  WA 98007     USA  \n",
              "4597             0   759 Ilwaco Pl NE     Renton  WA 98059     USA  \n",
              "4598             0  5148 S Creston St    Seattle  WA 98178     USA  \n",
              "4599             0  18717 SE 258th St  Covington  WA 98042     USA  "
            ],
            "text/html": [
              "\n",
              "  <div id=\"df-403cb932-b80a-42b1-93c4-4cb8437effff\">\n",
              "    <div class=\"colab-df-container\">\n",
              "      <div>\n",
              "<style scoped>\n",
              "    .dataframe tbody tr th:only-of-type {\n",
              "        vertical-align: middle;\n",
              "    }\n",
              "\n",
              "    .dataframe tbody tr th {\n",
              "        vertical-align: top;\n",
              "    }\n",
              "\n",
              "    .dataframe thead th {\n",
              "        text-align: right;\n",
              "    }\n",
              "</style>\n",
              "<table border=\"1\" class=\"dataframe\">\n",
              "  <thead>\n",
              "    <tr style=\"text-align: right;\">\n",
              "      <th></th>\n",
              "      <th>price</th>\n",
              "      <th>bedrooms</th>\n",
              "      <th>bathrooms</th>\n",
              "      <th>sqft_living</th>\n",
              "      <th>sqft_lot</th>\n",
              "      <th>floors</th>\n",
              "      <th>waterfront</th>\n",
              "      <th>view</th>\n",
              "      <th>condition</th>\n",
              "      <th>sqft_above</th>\n",
              "      <th>sqft_basement</th>\n",
              "      <th>yr_built</th>\n",
              "      <th>yr_renovated</th>\n",
              "      <th>street</th>\n",
              "      <th>city</th>\n",
              "      <th>statezip</th>\n",
              "      <th>country</th>\n",
              "    </tr>\n",
              "  </thead>\n",
              "  <tbody>\n",
              "    <tr>\n",
              "      <th>4595</th>\n",
              "      <td>308166.6667</td>\n",
              "      <td>3</td>\n",
              "      <td>1.75</td>\n",
              "      <td>1510</td>\n",
              "      <td>6360</td>\n",
              "      <td>1.0</td>\n",
              "      <td>0</td>\n",
              "      <td>0</td>\n",
              "      <td>4</td>\n",
              "      <td>1510</td>\n",
              "      <td>0</td>\n",
              "      <td>1954</td>\n",
              "      <td>1979</td>\n",
              "      <td>501 N 143rd St</td>\n",
              "      <td>Seattle</td>\n",
              "      <td>WA 98133</td>\n",
              "      <td>USA</td>\n",
              "    </tr>\n",
              "    <tr>\n",
              "      <th>4596</th>\n",
              "      <td>534333.3333</td>\n",
              "      <td>3</td>\n",
              "      <td>2.50</td>\n",
              "      <td>1460</td>\n",
              "      <td>7573</td>\n",
              "      <td>2.0</td>\n",
              "      <td>0</td>\n",
              "      <td>0</td>\n",
              "      <td>3</td>\n",
              "      <td>1460</td>\n",
              "      <td>0</td>\n",
              "      <td>1983</td>\n",
              "      <td>2009</td>\n",
              "      <td>14855 SE 10th Pl</td>\n",
              "      <td>Bellevue</td>\n",
              "      <td>WA 98007</td>\n",
              "      <td>USA</td>\n",
              "    </tr>\n",
              "    <tr>\n",
              "      <th>4597</th>\n",
              "      <td>416904.1667</td>\n",
              "      <td>3</td>\n",
              "      <td>2.50</td>\n",
              "      <td>3010</td>\n",
              "      <td>7014</td>\n",
              "      <td>2.0</td>\n",
              "      <td>0</td>\n",
              "      <td>0</td>\n",
              "      <td>3</td>\n",
              "      <td>3010</td>\n",
              "      <td>0</td>\n",
              "      <td>2009</td>\n",
              "      <td>0</td>\n",
              "      <td>759 Ilwaco Pl NE</td>\n",
              "      <td>Renton</td>\n",
              "      <td>WA 98059</td>\n",
              "      <td>USA</td>\n",
              "    </tr>\n",
              "    <tr>\n",
              "      <th>4598</th>\n",
              "      <td>203400.0000</td>\n",
              "      <td>4</td>\n",
              "      <td>2.00</td>\n",
              "      <td>2090</td>\n",
              "      <td>6630</td>\n",
              "      <td>1.0</td>\n",
              "      <td>0</td>\n",
              "      <td>0</td>\n",
              "      <td>3</td>\n",
              "      <td>1070</td>\n",
              "      <td>1020</td>\n",
              "      <td>1974</td>\n",
              "      <td>0</td>\n",
              "      <td>5148 S Creston St</td>\n",
              "      <td>Seattle</td>\n",
              "      <td>WA 98178</td>\n",
              "      <td>USA</td>\n",
              "    </tr>\n",
              "    <tr>\n",
              "      <th>4599</th>\n",
              "      <td>220600.0000</td>\n",
              "      <td>3</td>\n",
              "      <td>2.50</td>\n",
              "      <td>1490</td>\n",
              "      <td>8102</td>\n",
              "      <td>2.0</td>\n",
              "      <td>0</td>\n",
              "      <td>0</td>\n",
              "      <td>4</td>\n",
              "      <td>1490</td>\n",
              "      <td>0</td>\n",
              "      <td>1990</td>\n",
              "      <td>0</td>\n",
              "      <td>18717 SE 258th St</td>\n",
              "      <td>Covington</td>\n",
              "      <td>WA 98042</td>\n",
              "      <td>USA</td>\n",
              "    </tr>\n",
              "  </tbody>\n",
              "</table>\n",
              "</div>\n",
              "      <button class=\"colab-df-convert\" onclick=\"convertToInteractive('df-403cb932-b80a-42b1-93c4-4cb8437effff')\"\n",
              "              title=\"Convert this dataframe to an interactive table.\"\n",
              "              style=\"display:none;\">\n",
              "        \n",
              "  <svg xmlns=\"http://www.w3.org/2000/svg\" height=\"24px\"viewBox=\"0 0 24 24\"\n",
              "       width=\"24px\">\n",
              "    <path d=\"M0 0h24v24H0V0z\" fill=\"none\"/>\n",
              "    <path d=\"M18.56 5.44l.94 2.06.94-2.06 2.06-.94-2.06-.94-.94-2.06-.94 2.06-2.06.94zm-11 1L8.5 8.5l.94-2.06 2.06-.94-2.06-.94L8.5 2.5l-.94 2.06-2.06.94zm10 10l.94 2.06.94-2.06 2.06-.94-2.06-.94-.94-2.06-.94 2.06-2.06.94z\"/><path d=\"M17.41 7.96l-1.37-1.37c-.4-.4-.92-.59-1.43-.59-.52 0-1.04.2-1.43.59L10.3 9.45l-7.72 7.72c-.78.78-.78 2.05 0 2.83L4 21.41c.39.39.9.59 1.41.59.51 0 1.02-.2 1.41-.59l7.78-7.78 2.81-2.81c.8-.78.8-2.07 0-2.86zM5.41 20L4 18.59l7.72-7.72 1.47 1.35L5.41 20z\"/>\n",
              "  </svg>\n",
              "      </button>\n",
              "      \n",
              "  <style>\n",
              "    .colab-df-container {\n",
              "      display:flex;\n",
              "      flex-wrap:wrap;\n",
              "      gap: 12px;\n",
              "    }\n",
              "\n",
              "    .colab-df-convert {\n",
              "      background-color: #E8F0FE;\n",
              "      border: none;\n",
              "      border-radius: 50%;\n",
              "      cursor: pointer;\n",
              "      display: none;\n",
              "      fill: #1967D2;\n",
              "      height: 32px;\n",
              "      padding: 0 0 0 0;\n",
              "      width: 32px;\n",
              "    }\n",
              "\n",
              "    .colab-df-convert:hover {\n",
              "      background-color: #E2EBFA;\n",
              "      box-shadow: 0px 1px 2px rgba(60, 64, 67, 0.3), 0px 1px 3px 1px rgba(60, 64, 67, 0.15);\n",
              "      fill: #174EA6;\n",
              "    }\n",
              "\n",
              "    [theme=dark] .colab-df-convert {\n",
              "      background-color: #3B4455;\n",
              "      fill: #D2E3FC;\n",
              "    }\n",
              "\n",
              "    [theme=dark] .colab-df-convert:hover {\n",
              "      background-color: #434B5C;\n",
              "      box-shadow: 0px 1px 3px 1px rgba(0, 0, 0, 0.15);\n",
              "      filter: drop-shadow(0px 1px 2px rgba(0, 0, 0, 0.3));\n",
              "      fill: #FFFFFF;\n",
              "    }\n",
              "  </style>\n",
              "\n",
              "      <script>\n",
              "        const buttonEl =\n",
              "          document.querySelector('#df-403cb932-b80a-42b1-93c4-4cb8437effff button.colab-df-convert');\n",
              "        buttonEl.style.display =\n",
              "          google.colab.kernel.accessAllowed ? 'block' : 'none';\n",
              "\n",
              "        async function convertToInteractive(key) {\n",
              "          const element = document.querySelector('#df-403cb932-b80a-42b1-93c4-4cb8437effff');\n",
              "          const dataTable =\n",
              "            await google.colab.kernel.invokeFunction('convertToInteractive',\n",
              "                                                     [key], {});\n",
              "          if (!dataTable) return;\n",
              "\n",
              "          const docLinkHtml = 'Like what you see? Visit the ' +\n",
              "            '<a target=\"_blank\" href=https://colab.research.google.com/notebooks/data_table.ipynb>data table notebook</a>'\n",
              "            + ' to learn more about interactive tables.';\n",
              "          element.innerHTML = '';\n",
              "          dataTable['output_type'] = 'display_data';\n",
              "          await google.colab.output.renderOutput(dataTable, element);\n",
              "          const docLink = document.createElement('div');\n",
              "          docLink.innerHTML = docLinkHtml;\n",
              "          element.appendChild(docLink);\n",
              "        }\n",
              "      </script>\n",
              "    </div>\n",
              "  </div>\n",
              "  "
            ]
          },
          "metadata": {},
          "execution_count": 6
        }
      ]
    },
    {
      "cell_type": "code",
      "source": [
        "df.shape #displays the count of rows and columns of the dataset"
      ],
      "metadata": {
        "colab": {
          "base_uri": "https://localhost:8080/"
        },
        "id": "pE4aOGx3nNMr",
        "outputId": "15d69ae8-719e-4370-ffc3-a805007e8d5a"
      },
      "execution_count": 7,
      "outputs": [
        {
          "output_type": "execute_result",
          "data": {
            "text/plain": [
              "(4600, 17)"
            ]
          },
          "metadata": {},
          "execution_count": 7
        }
      ]
    },
    {
      "cell_type": "code",
      "source": [
        "df.dtypes #displays the datatype of the features"
      ],
      "metadata": {
        "colab": {
          "base_uri": "https://localhost:8080/"
        },
        "id": "9KHctCW1nPj-",
        "outputId": "23cd6396-58f4-47f8-c19e-928d83a51a23"
      },
      "execution_count": 8,
      "outputs": [
        {
          "output_type": "execute_result",
          "data": {
            "text/plain": [
              "price            float64\n",
              "bedrooms           int64\n",
              "bathrooms        float64\n",
              "sqft_living        int64\n",
              "sqft_lot           int64\n",
              "floors           float64\n",
              "waterfront         int64\n",
              "view               int64\n",
              "condition          int64\n",
              "sqft_above         int64\n",
              "sqft_basement      int64\n",
              "yr_built           int64\n",
              "yr_renovated       int64\n",
              "street            object\n",
              "city              object\n",
              "statezip          object\n",
              "country           object\n",
              "dtype: object"
            ]
          },
          "metadata": {},
          "execution_count": 8
        }
      ]
    },
    {
      "cell_type": "code",
      "source": [
        "df.count()"
      ],
      "metadata": {
        "colab": {
          "base_uri": "https://localhost:8080/"
        },
        "id": "ZT3ItN0onRiO",
        "outputId": "ca9131f5-e89f-40e0-8aad-89aa68dc85f4"
      },
      "execution_count": 9,
      "outputs": [
        {
          "output_type": "execute_result",
          "data": {
            "text/plain": [
              "price            4600\n",
              "bedrooms         4600\n",
              "bathrooms        4600\n",
              "sqft_living      4600\n",
              "sqft_lot         4600\n",
              "floors           4600\n",
              "waterfront       4600\n",
              "view             4600\n",
              "condition        4600\n",
              "sqft_above       4600\n",
              "sqft_basement    4600\n",
              "yr_built         4600\n",
              "yr_renovated     4600\n",
              "street           4600\n",
              "city             4600\n",
              "statezip         4600\n",
              "country          4600\n",
              "dtype: int64"
            ]
          },
          "metadata": {},
          "execution_count": 9
        }
      ]
    },
    {
      "cell_type": "code",
      "source": [
        "df.describe() #displays the statistical measures of the numerical features"
      ],
      "metadata": {
        "colab": {
          "base_uri": "https://localhost:8080/",
          "height": 364
        },
        "id": "aLPx9CrWnUi4",
        "outputId": "b13beabf-df67-4188-9fee-e36a74dbea3e"
      },
      "execution_count": 10,
      "outputs": [
        {
          "output_type": "execute_result",
          "data": {
            "text/plain": [
              "              price     bedrooms    bathrooms   sqft_living      sqft_lot  \\\n",
              "count  4.600000e+03  4600.000000  4600.000000   4600.000000  4.600000e+03   \n",
              "mean   5.519630e+05     3.400870     2.160815   2139.346957  1.485252e+04   \n",
              "std    5.638347e+05     0.908848     0.783781    963.206916  3.588444e+04   \n",
              "min    0.000000e+00     0.000000     0.000000    370.000000  6.380000e+02   \n",
              "25%    3.228750e+05     3.000000     1.750000   1460.000000  5.000750e+03   \n",
              "50%    4.609435e+05     3.000000     2.250000   1980.000000  7.683000e+03   \n",
              "75%    6.549625e+05     4.000000     2.500000   2620.000000  1.100125e+04   \n",
              "max    2.659000e+07     9.000000     8.000000  13540.000000  1.074218e+06   \n",
              "\n",
              "            floors   waterfront         view    condition   sqft_above  \\\n",
              "count  4600.000000  4600.000000  4600.000000  4600.000000  4600.000000   \n",
              "mean      1.512065     0.007174     0.240652     3.451739  1827.265435   \n",
              "std       0.538288     0.084404     0.778405     0.677230   862.168977   \n",
              "min       1.000000     0.000000     0.000000     1.000000   370.000000   \n",
              "25%       1.000000     0.000000     0.000000     3.000000  1190.000000   \n",
              "50%       1.500000     0.000000     0.000000     3.000000  1590.000000   \n",
              "75%       2.000000     0.000000     0.000000     4.000000  2300.000000   \n",
              "max       3.500000     1.000000     4.000000     5.000000  9410.000000   \n",
              "\n",
              "       sqft_basement     yr_built  yr_renovated  \n",
              "count    4600.000000  4600.000000   4600.000000  \n",
              "mean      312.081522  1970.786304    808.608261  \n",
              "std       464.137228    29.731848    979.414536  \n",
              "min         0.000000  1900.000000      0.000000  \n",
              "25%         0.000000  1951.000000      0.000000  \n",
              "50%         0.000000  1976.000000      0.000000  \n",
              "75%       610.000000  1997.000000   1999.000000  \n",
              "max      4820.000000  2014.000000   2014.000000  "
            ],
            "text/html": [
              "\n",
              "  <div id=\"df-9d02e46d-c67b-45d6-b200-65d512fab89b\">\n",
              "    <div class=\"colab-df-container\">\n",
              "      <div>\n",
              "<style scoped>\n",
              "    .dataframe tbody tr th:only-of-type {\n",
              "        vertical-align: middle;\n",
              "    }\n",
              "\n",
              "    .dataframe tbody tr th {\n",
              "        vertical-align: top;\n",
              "    }\n",
              "\n",
              "    .dataframe thead th {\n",
              "        text-align: right;\n",
              "    }\n",
              "</style>\n",
              "<table border=\"1\" class=\"dataframe\">\n",
              "  <thead>\n",
              "    <tr style=\"text-align: right;\">\n",
              "      <th></th>\n",
              "      <th>price</th>\n",
              "      <th>bedrooms</th>\n",
              "      <th>bathrooms</th>\n",
              "      <th>sqft_living</th>\n",
              "      <th>sqft_lot</th>\n",
              "      <th>floors</th>\n",
              "      <th>waterfront</th>\n",
              "      <th>view</th>\n",
              "      <th>condition</th>\n",
              "      <th>sqft_above</th>\n",
              "      <th>sqft_basement</th>\n",
              "      <th>yr_built</th>\n",
              "      <th>yr_renovated</th>\n",
              "    </tr>\n",
              "  </thead>\n",
              "  <tbody>\n",
              "    <tr>\n",
              "      <th>count</th>\n",
              "      <td>4.600000e+03</td>\n",
              "      <td>4600.000000</td>\n",
              "      <td>4600.000000</td>\n",
              "      <td>4600.000000</td>\n",
              "      <td>4.600000e+03</td>\n",
              "      <td>4600.000000</td>\n",
              "      <td>4600.000000</td>\n",
              "      <td>4600.000000</td>\n",
              "      <td>4600.000000</td>\n",
              "      <td>4600.000000</td>\n",
              "      <td>4600.000000</td>\n",
              "      <td>4600.000000</td>\n",
              "      <td>4600.000000</td>\n",
              "    </tr>\n",
              "    <tr>\n",
              "      <th>mean</th>\n",
              "      <td>5.519630e+05</td>\n",
              "      <td>3.400870</td>\n",
              "      <td>2.160815</td>\n",
              "      <td>2139.346957</td>\n",
              "      <td>1.485252e+04</td>\n",
              "      <td>1.512065</td>\n",
              "      <td>0.007174</td>\n",
              "      <td>0.240652</td>\n",
              "      <td>3.451739</td>\n",
              "      <td>1827.265435</td>\n",
              "      <td>312.081522</td>\n",
              "      <td>1970.786304</td>\n",
              "      <td>808.608261</td>\n",
              "    </tr>\n",
              "    <tr>\n",
              "      <th>std</th>\n",
              "      <td>5.638347e+05</td>\n",
              "      <td>0.908848</td>\n",
              "      <td>0.783781</td>\n",
              "      <td>963.206916</td>\n",
              "      <td>3.588444e+04</td>\n",
              "      <td>0.538288</td>\n",
              "      <td>0.084404</td>\n",
              "      <td>0.778405</td>\n",
              "      <td>0.677230</td>\n",
              "      <td>862.168977</td>\n",
              "      <td>464.137228</td>\n",
              "      <td>29.731848</td>\n",
              "      <td>979.414536</td>\n",
              "    </tr>\n",
              "    <tr>\n",
              "      <th>min</th>\n",
              "      <td>0.000000e+00</td>\n",
              "      <td>0.000000</td>\n",
              "      <td>0.000000</td>\n",
              "      <td>370.000000</td>\n",
              "      <td>6.380000e+02</td>\n",
              "      <td>1.000000</td>\n",
              "      <td>0.000000</td>\n",
              "      <td>0.000000</td>\n",
              "      <td>1.000000</td>\n",
              "      <td>370.000000</td>\n",
              "      <td>0.000000</td>\n",
              "      <td>1900.000000</td>\n",
              "      <td>0.000000</td>\n",
              "    </tr>\n",
              "    <tr>\n",
              "      <th>25%</th>\n",
              "      <td>3.228750e+05</td>\n",
              "      <td>3.000000</td>\n",
              "      <td>1.750000</td>\n",
              "      <td>1460.000000</td>\n",
              "      <td>5.000750e+03</td>\n",
              "      <td>1.000000</td>\n",
              "      <td>0.000000</td>\n",
              "      <td>0.000000</td>\n",
              "      <td>3.000000</td>\n",
              "      <td>1190.000000</td>\n",
              "      <td>0.000000</td>\n",
              "      <td>1951.000000</td>\n",
              "      <td>0.000000</td>\n",
              "    </tr>\n",
              "    <tr>\n",
              "      <th>50%</th>\n",
              "      <td>4.609435e+05</td>\n",
              "      <td>3.000000</td>\n",
              "      <td>2.250000</td>\n",
              "      <td>1980.000000</td>\n",
              "      <td>7.683000e+03</td>\n",
              "      <td>1.500000</td>\n",
              "      <td>0.000000</td>\n",
              "      <td>0.000000</td>\n",
              "      <td>3.000000</td>\n",
              "      <td>1590.000000</td>\n",
              "      <td>0.000000</td>\n",
              "      <td>1976.000000</td>\n",
              "      <td>0.000000</td>\n",
              "    </tr>\n",
              "    <tr>\n",
              "      <th>75%</th>\n",
              "      <td>6.549625e+05</td>\n",
              "      <td>4.000000</td>\n",
              "      <td>2.500000</td>\n",
              "      <td>2620.000000</td>\n",
              "      <td>1.100125e+04</td>\n",
              "      <td>2.000000</td>\n",
              "      <td>0.000000</td>\n",
              "      <td>0.000000</td>\n",
              "      <td>4.000000</td>\n",
              "      <td>2300.000000</td>\n",
              "      <td>610.000000</td>\n",
              "      <td>1997.000000</td>\n",
              "      <td>1999.000000</td>\n",
              "    </tr>\n",
              "    <tr>\n",
              "      <th>max</th>\n",
              "      <td>2.659000e+07</td>\n",
              "      <td>9.000000</td>\n",
              "      <td>8.000000</td>\n",
              "      <td>13540.000000</td>\n",
              "      <td>1.074218e+06</td>\n",
              "      <td>3.500000</td>\n",
              "      <td>1.000000</td>\n",
              "      <td>4.000000</td>\n",
              "      <td>5.000000</td>\n",
              "      <td>9410.000000</td>\n",
              "      <td>4820.000000</td>\n",
              "      <td>2014.000000</td>\n",
              "      <td>2014.000000</td>\n",
              "    </tr>\n",
              "  </tbody>\n",
              "</table>\n",
              "</div>\n",
              "      <button class=\"colab-df-convert\" onclick=\"convertToInteractive('df-9d02e46d-c67b-45d6-b200-65d512fab89b')\"\n",
              "              title=\"Convert this dataframe to an interactive table.\"\n",
              "              style=\"display:none;\">\n",
              "        \n",
              "  <svg xmlns=\"http://www.w3.org/2000/svg\" height=\"24px\"viewBox=\"0 0 24 24\"\n",
              "       width=\"24px\">\n",
              "    <path d=\"M0 0h24v24H0V0z\" fill=\"none\"/>\n",
              "    <path d=\"M18.56 5.44l.94 2.06.94-2.06 2.06-.94-2.06-.94-.94-2.06-.94 2.06-2.06.94zm-11 1L8.5 8.5l.94-2.06 2.06-.94-2.06-.94L8.5 2.5l-.94 2.06-2.06.94zm10 10l.94 2.06.94-2.06 2.06-.94-2.06-.94-.94-2.06-.94 2.06-2.06.94z\"/><path d=\"M17.41 7.96l-1.37-1.37c-.4-.4-.92-.59-1.43-.59-.52 0-1.04.2-1.43.59L10.3 9.45l-7.72 7.72c-.78.78-.78 2.05 0 2.83L4 21.41c.39.39.9.59 1.41.59.51 0 1.02-.2 1.41-.59l7.78-7.78 2.81-2.81c.8-.78.8-2.07 0-2.86zM5.41 20L4 18.59l7.72-7.72 1.47 1.35L5.41 20z\"/>\n",
              "  </svg>\n",
              "      </button>\n",
              "      \n",
              "  <style>\n",
              "    .colab-df-container {\n",
              "      display:flex;\n",
              "      flex-wrap:wrap;\n",
              "      gap: 12px;\n",
              "    }\n",
              "\n",
              "    .colab-df-convert {\n",
              "      background-color: #E8F0FE;\n",
              "      border: none;\n",
              "      border-radius: 50%;\n",
              "      cursor: pointer;\n",
              "      display: none;\n",
              "      fill: #1967D2;\n",
              "      height: 32px;\n",
              "      padding: 0 0 0 0;\n",
              "      width: 32px;\n",
              "    }\n",
              "\n",
              "    .colab-df-convert:hover {\n",
              "      background-color: #E2EBFA;\n",
              "      box-shadow: 0px 1px 2px rgba(60, 64, 67, 0.3), 0px 1px 3px 1px rgba(60, 64, 67, 0.15);\n",
              "      fill: #174EA6;\n",
              "    }\n",
              "\n",
              "    [theme=dark] .colab-df-convert {\n",
              "      background-color: #3B4455;\n",
              "      fill: #D2E3FC;\n",
              "    }\n",
              "\n",
              "    [theme=dark] .colab-df-convert:hover {\n",
              "      background-color: #434B5C;\n",
              "      box-shadow: 0px 1px 3px 1px rgba(0, 0, 0, 0.15);\n",
              "      filter: drop-shadow(0px 1px 2px rgba(0, 0, 0, 0.3));\n",
              "      fill: #FFFFFF;\n",
              "    }\n",
              "  </style>\n",
              "\n",
              "      <script>\n",
              "        const buttonEl =\n",
              "          document.querySelector('#df-9d02e46d-c67b-45d6-b200-65d512fab89b button.colab-df-convert');\n",
              "        buttonEl.style.display =\n",
              "          google.colab.kernel.accessAllowed ? 'block' : 'none';\n",
              "\n",
              "        async function convertToInteractive(key) {\n",
              "          const element = document.querySelector('#df-9d02e46d-c67b-45d6-b200-65d512fab89b');\n",
              "          const dataTable =\n",
              "            await google.colab.kernel.invokeFunction('convertToInteractive',\n",
              "                                                     [key], {});\n",
              "          if (!dataTable) return;\n",
              "\n",
              "          const docLinkHtml = 'Like what you see? Visit the ' +\n",
              "            '<a target=\"_blank\" href=https://colab.research.google.com/notebooks/data_table.ipynb>data table notebook</a>'\n",
              "            + ' to learn more about interactive tables.';\n",
              "          element.innerHTML = '';\n",
              "          dataTable['output_type'] = 'display_data';\n",
              "          await google.colab.output.renderOutput(dataTable, element);\n",
              "          const docLink = document.createElement('div');\n",
              "          docLink.innerHTML = docLinkHtml;\n",
              "          element.appendChild(docLink);\n",
              "        }\n",
              "      </script>\n",
              "    </div>\n",
              "  </div>\n",
              "  "
            ]
          },
          "metadata": {},
          "execution_count": 10
        }
      ]
    },
    {
      "cell_type": "code",
      "source": [
        "df.info() #displays the complete information of the data"
      ],
      "metadata": {
        "colab": {
          "base_uri": "https://localhost:8080/"
        },
        "id": "aBj6cnatnXLx",
        "outputId": "8fe28549-d237-4551-b3c0-061fde56d7d5"
      },
      "execution_count": 11,
      "outputs": [
        {
          "output_type": "stream",
          "name": "stdout",
          "text": [
            "<class 'pandas.core.frame.DataFrame'>\n",
            "RangeIndex: 4600 entries, 0 to 4599\n",
            "Data columns (total 17 columns):\n",
            " #   Column         Non-Null Count  Dtype  \n",
            "---  ------         --------------  -----  \n",
            " 0   price          4600 non-null   float64\n",
            " 1   bedrooms       4600 non-null   int64  \n",
            " 2   bathrooms      4600 non-null   float64\n",
            " 3   sqft_living    4600 non-null   int64  \n",
            " 4   sqft_lot       4600 non-null   int64  \n",
            " 5   floors         4600 non-null   float64\n",
            " 6   waterfront     4600 non-null   int64  \n",
            " 7   view           4600 non-null   int64  \n",
            " 8   condition      4600 non-null   int64  \n",
            " 9   sqft_above     4600 non-null   int64  \n",
            " 10  sqft_basement  4600 non-null   int64  \n",
            " 11  yr_built       4600 non-null   int64  \n",
            " 12  yr_renovated   4600 non-null   int64  \n",
            " 13  street         4600 non-null   object \n",
            " 14  city           4600 non-null   object \n",
            " 15  statezip       4600 non-null   object \n",
            " 16  country        4600 non-null   object \n",
            "dtypes: float64(3), int64(10), object(4)\n",
            "memory usage: 611.1+ KB\n"
          ]
        }
      ]
    },
    {
      "cell_type": "code",
      "source": [
        "df.duplicated() #checking if there are any duplicate values in the dataset"
      ],
      "metadata": {
        "colab": {
          "base_uri": "https://localhost:8080/"
        },
        "id": "_uwQHPDjnZ0S",
        "outputId": "08689f31-895a-4c42-8c6d-648fbe0e77bf"
      },
      "execution_count": 12,
      "outputs": [
        {
          "output_type": "execute_result",
          "data": {
            "text/plain": [
              "0       False\n",
              "1       False\n",
              "2       False\n",
              "3       False\n",
              "4       False\n",
              "        ...  \n",
              "4595    False\n",
              "4596    False\n",
              "4597    False\n",
              "4598    False\n",
              "4599    False\n",
              "Length: 4600, dtype: bool"
            ]
          },
          "metadata": {},
          "execution_count": 12
        }
      ]
    },
    {
      "cell_type": "code",
      "source": [
        "df.isnull().sum() #checking if there are any null values in the data and there are no null values"
      ],
      "metadata": {
        "colab": {
          "base_uri": "https://localhost:8080/"
        },
        "id": "hbYj3e7fncSk",
        "outputId": "019d7526-9f4e-4460-8416-b3b9c455177e"
      },
      "execution_count": 13,
      "outputs": [
        {
          "output_type": "execute_result",
          "data": {
            "text/plain": [
              "price            0\n",
              "bedrooms         0\n",
              "bathrooms        0\n",
              "sqft_living      0\n",
              "sqft_lot         0\n",
              "floors           0\n",
              "waterfront       0\n",
              "view             0\n",
              "condition        0\n",
              "sqft_above       0\n",
              "sqft_basement    0\n",
              "yr_built         0\n",
              "yr_renovated     0\n",
              "street           0\n",
              "city             0\n",
              "statezip         0\n",
              "country          0\n",
              "dtype: int64"
            ]
          },
          "metadata": {},
          "execution_count": 13
        }
      ]
    },
    {
      "cell_type": "code",
      "source": [
        "from sklearn.preprocessing import LabelEncoder\n",
        "# Creating a instance of label Encoder.\n",
        "le = LabelEncoder()\n",
        "# Using .fit_transform function to fit label\n",
        "# encoder and return encoded label\n",
        "df['street'] = le.fit_transform(df['street'])\n",
        "# printing label\n",
        "df['street'].unique()"
      ],
      "metadata": {
        "colab": {
          "base_uri": "https://localhost:8080/"
        },
        "id": "k8knSl0sngcb",
        "outputId": "680f7a35-b72a-4986-8795-02ad5e00025b"
      },
      "execution_count": 14,
      "outputs": [
        {
          "output_type": "execute_result",
          "data": {
            "text/plain": [
              "array([1522, 3899, 2291, ..., 4033, 3498, 1514])"
            ]
          },
          "metadata": {},
          "execution_count": 14
        }
      ]
    },
    {
      "cell_type": "code",
      "source": [
        "from sklearn.preprocessing import LabelEncoder\n",
        "# Creating a instance of label Encoder.\n",
        "le = LabelEncoder()\n",
        "# Using .fit_transform function to fit label\n",
        "# encoder and return encoded label\n",
        "df['city'] = le.fit_transform(df['city'])\n",
        "# printing label\n",
        "df['city'].unique()"
      ],
      "metadata": {
        "colab": {
          "base_uri": "https://localhost:8080/"
        },
        "id": "HaGJF_Xwnj2s",
        "outputId": "c3225429-9a30-4d93-fd8c-2f3e1ed9fd32"
      },
      "execution_count": 15,
      "outputs": [
        {
          "output_type": "execute_result",
          "data": {
            "text/plain": [
              "array([36, 35, 18,  3, 31, 21, 27, 20, 33,  1, 10,  5, 14, 19, 16, 42, 26,\n",
              "       13, 32,  7, 38, 11,  6,  9, 15, 17, 25, 23,  4, 30,  8,  0, 37, 40,\n",
              "       41, 43, 34, 22, 12, 39, 28,  2, 29, 24])"
            ]
          },
          "metadata": {},
          "execution_count": 15
        }
      ]
    },
    {
      "cell_type": "code",
      "source": [
        "from sklearn.preprocessing import LabelEncoder\n",
        "# Creating a instance of label Encoder.\n",
        "le = LabelEncoder()\n",
        "# Using .fit_transform function to fit label\n",
        "# encoder and return encoded label\n",
        "df['statezip'] = le.fit_transform(df['statezip'])\n",
        "# printing label\n",
        "df['statezip'].unique()"
      ],
      "metadata": {
        "colab": {
          "base_uri": "https://localhost:8080/"
        },
        "id": "Sasuyl2inmVc",
        "outputId": "bcb0c173-653b-4352-ed61-ba47a2d1dfb8"
      },
      "execution_count": 16,
      "outputs": [
        {
          "output_type": "execute_result",
          "data": {
            "text/plain": [
              "array([62, 58, 26,  7, 31, 54, 23, 27, 67, 48, 42, 49,  6, 45, 73,  5, 46,\n",
              "        9, 60,  2, 63, 21, 17, 56, 22, 41, 13, 50, 68, 55, 14, 33, 44, 15,\n",
              "       37, 43, 10, 38, 74, 32, 36, 59, 47, 53,  4, 57, 70,  3, 11, 64, 69,\n",
              "        0, 34, 65, 16, 66, 35, 25,  8, 30, 19, 52, 18, 61, 20, 71, 75, 51,\n",
              "       40, 72,  1, 24, 12, 39, 28, 29, 76])"
            ]
          },
          "metadata": {},
          "execution_count": 16
        }
      ]
    },
    {
      "cell_type": "code",
      "source": [
        "from sklearn.preprocessing import LabelEncoder\n",
        "# Creating a instance of label Encoder.\n",
        "le = LabelEncoder()\n",
        "# Using .fit_transform function to fit label\n",
        "# encoder and return encoded label\n",
        "df['country'] = le.fit_transform(df['country'])\n",
        "# printing label\n",
        "df['country'].unique()"
      ],
      "metadata": {
        "colab": {
          "base_uri": "https://localhost:8080/"
        },
        "id": "ATh5syBanoUr",
        "outputId": "09509976-6a59-4716-bb65-31d3d3737043"
      },
      "execution_count": 17,
      "outputs": [
        {
          "output_type": "execute_result",
          "data": {
            "text/plain": [
              "array([0])"
            ]
          },
          "metadata": {},
          "execution_count": 17
        }
      ]
    },
    {
      "cell_type": "code",
      "source": [
        "import seaborn as sns\n",
        "#create the plot\n",
        "ax = sns.boxplot(data = df[['price','bedrooms','bathrooms','sqft_living','sqft_lot','floors','waterfront','view','condition','sqft_above','sqft_basement','yr_built','yr_renovated']], orient = \"h\", palette = \"Set2\")\n",
        "#add labels\n",
        "ax.set_xlabel(\"Value\", fontsize = 20, labelpad = 20)\n",
        "ax.set_ylabel(\"Attributes\", fontsize = 20, labelpad = 20)\n",
        "ax.set_title(\"Attributes\", fontsize = 20,\n",
        "            pad = 20)\n",
        "#edit ticks\n",
        "ax.tick_params(which = \"both\", labelsize = 15)"
      ],
      "metadata": {
        "colab": {
          "base_uri": "https://localhost:8080/",
          "height": 344
        },
        "id": "x7bN8vRRnqar",
        "outputId": "7b15a422-017c-4af8-e9fc-1f87e633f533"
      },
      "execution_count": 18,
      "outputs": [
        {
          "output_type": "display_data",
          "data": {
            "text/plain": [
              "<Figure size 432x288 with 1 Axes>"
            ],
            "image/png": "[encoded data removed]"
          },
          "metadata": {
            "needs_background": "light"
          }
        }
      ]
    },
    {
      "cell_type": "code",
      "source": [
        "p0=df.price.min()\n",
        "p100=df.price.max()\n",
        "q1=df.price.quantile(0.25)\n",
        "q2=df.price.quantile(0.5)\n",
        "q3=df.price.quantile(0.75)\n",
        "iqr=q3-q1"
      ],
      "metadata": {
        "id": "t4vA762snr-m"
      },
      "execution_count": 19,
      "outputs": []
    },
    {
      "cell_type": "code",
      "source": [
        "lc = q1 - 1.5*iqr\n",
        "uc = q3 + 1.5*iqr\n",
        "print( \"p0 = \" , p0 ,\", p100 = \" , p100 ,\", lc = \" , lc ,\", uc = \" , uc)"
      ],
      "metadata": {
        "colab": {
          "base_uri": "https://localhost:8080/"
        },
        "id": "2JtamW6cntkw",
        "outputId": "9edc348b-e46c-4f0b-9d12-a1df35c4fc22"
      },
      "execution_count": 20,
      "outputs": [
        {
          "output_type": "stream",
          "name": "stdout",
          "text": [
            "p0 =  0.0 , p100 =  26590000.0 , lc =  -175256.25 , uc =  1153093.75\n"
          ]
        }
      ]
    },
    {
      "cell_type": "code",
      "source": [
        "df.price.clip(upper=uc)"
      ],
      "metadata": {
        "colab": {
          "base_uri": "https://localhost:8080/"
        },
        "id": "7ueXsd0EnvzV",
        "outputId": "cd5d4353-1939-467a-e300-c3bc8e32e04b"
      },
      "execution_count": 21,
      "outputs": [
        {
          "output_type": "execute_result",
          "data": {
            "text/plain": [
              "0       3.130000e+05\n",
              "1       1.153094e+06\n",
              "2       3.420000e+05\n",
              "3       4.200000e+05\n",
              "4       5.500000e+05\n",
              "            ...     \n",
              "4595    3.081667e+05\n",
              "4596    5.343333e+05\n",
              "4597    4.169042e+05\n",
              "4598    2.034000e+05\n",
              "4599    2.206000e+05\n",
              "Name: price, Length: 4600, dtype: float64"
            ]
          },
          "metadata": {},
          "execution_count": 21
        }
      ]
    },
    {
      "cell_type": "code",
      "source": [
        "df.price.clip(upper=uc,inplace=True)"
      ],
      "metadata": {
        "id": "sqUi1_Ssnx5c"
      },
      "execution_count": 22,
      "outputs": []
    },
    {
      "cell_type": "code",
      "source": [
        "import seaborn as sns\n",
        "#create the plot\n",
        "ax = sns.boxplot(data = df[['price','bedrooms','bathrooms','sqft_living','sqft_lot','floors','waterfront','view','condition','sqft_above','sqft_basement','yr_built','yr_renovated']], orient = \"h\", palette = \"Set2\")\n",
        "#add labels\n",
        "ax.set_xlabel(\"Value\", fontsize = 20, labelpad = 20)\n",
        "ax.set_ylabel(\"Attributes\", fontsize = 20, labelpad = 20)\n",
        "ax.set_title(\"Attributes\", fontsize = 20,\n",
        "            pad = 20)\n",
        "#edit ticks\n",
        "ax.tick_params(which = \"both\", labelsize = 15)"
      ],
      "metadata": {
        "colab": {
          "base_uri": "https://localhost:8080/",
          "height": 344
        },
        "id": "2O6QKwPdn0Po",
        "outputId": "674e8068-8093-4db3-92cf-1ac02d5b5d8c"
      },
      "execution_count": 23,
      "outputs": [
        {
          "output_type": "display_data",
          "data": {
            "text/plain": [
              "<Figure size 432x288 with 1 Axes>"
            ],
            "image/png": "[encoded data removed]"
          },
          "metadata": {
            "needs_background": "light"
          }
        }
      ]
    },
    {
      "cell_type": "code",
      "source": [
        "p0=df.sqft_lot.min()\n",
        "p100=df.sqft_lot.max()\n",
        "q1=df.sqft_lot.quantile(0.25)\n",
        "q2=df.sqft_lot.quantile(0.5)\n",
        "q3=df.sqft_lot.quantile(0.75)\n",
        "iqr=q3-q1"
      ],
      "metadata": {
        "id": "qOOqVtTKn3hf"
      },
      "execution_count": 75,
      "outputs": []
    },
    {
      "cell_type": "code",
      "source": [
        "lc = q1 - 1.5*iqr\n",
        "uc = q3 + 1.5*iqr\n",
        "print( \"p0 = \" , p0 ,\", p100 = \" , p100 ,\", lc = \" , lc ,\", uc = \" , uc)"
      ],
      "metadata": {
        "colab": {
          "base_uri": "https://localhost:8080/"
        },
        "id": "xow663w6n5mu",
        "outputId": "df2937f0-ad61-4ebe-f8fd-b964a9e9eaa9"
      },
      "execution_count": 76,
      "outputs": [
        {
          "output_type": "stream",
          "name": "stdout",
          "text": [
            "p0 =  638.0 , p100 =  20002.0 , lc =  -4000.0 , uc =  20002.0\n"
          ]
        }
      ]
    },
    {
      "cell_type": "code",
      "source": [
        "df.sqft_lot.clip(upper=uc)\n",
        "df.sqft_lot.clip(lower=lc)"
      ],
      "metadata": {
        "colab": {
          "base_uri": "https://localhost:8080/"
        },
        "id": "pWvHFO6Dn7OL",
        "outputId": "a654561a-8190-4785-b1dd-856de5abed36"
      },
      "execution_count": 77,
      "outputs": [
        {
          "output_type": "execute_result",
          "data": {
            "text/plain": [
              "0        7912.0\n",
              "1        9050.0\n",
              "2       11947.0\n",
              "3        8030.0\n",
              "4       10500.0\n",
              "         ...   \n",
              "4595     6360.0\n",
              "4596     7573.0\n",
              "4597     7014.0\n",
              "4598     6630.0\n",
              "4599     8102.0\n",
              "Name: sqft_lot, Length: 4600, dtype: float64"
            ]
          },
          "metadata": {},
          "execution_count": 77
        }
      ]
    },
    {
      "cell_type": "code",
      "source": [
        "df.sqft_lot.clip(upper=uc,inplace=True)\n",
        "df.sqft_lot.clip(lower=lc,inplace=True)"
      ],
      "metadata": {
        "id": "k8P4zdhSn8xu"
      },
      "execution_count": 78,
      "outputs": []
    },
    {
      "cell_type": "code",
      "source": [
        "import seaborn as sns\n",
        "#create the plot\n",
        "ax = sns.boxplot(data = df[['price','bedrooms','bathrooms','sqft_living','sqft_lot','floors','waterfront','view','condition','sqft_above','sqft_basement','yr_built','yr_renovated']], orient = \"h\", palette = \"Set2\")\n",
        "#add labels\n",
        "ax.set_xlabel(\"Value\", fontsize = 20, labelpad = 20)\n",
        "ax.set_ylabel(\"Attributes\", fontsize = 20, labelpad = 20)\n",
        "ax.set_title(\"Attributes\", fontsize = 20,\n",
        "            pad = 20)\n",
        "#edit ticks\n",
        "ax.tick_params(which = \"both\", labelsize = 15)"
      ],
      "metadata": {
        "colab": {
          "base_uri": "https://localhost:8080/",
          "height": 344
        },
        "id": "O__Gycg6n-G4",
        "outputId": "17ba33a3-63a1-48be-e9f4-2359a772859d"
      },
      "execution_count": 79,
      "outputs": [
        {
          "output_type": "display_data",
          "data": {
            "text/plain": [
              "<Figure size 432x288 with 1 Axes>"
            ],
            "image/png": "[encoded data removed]"
          },
          "metadata": {
            "needs_background": "light"
          }
        }
      ]
    },
    {
      "cell_type": "code",
      "source": [
        "p0=df.sqft_basement.min()\n",
        "p100=df.sqft_basement.max()\n",
        "q1=df.sqft_basement.quantile(0.25)\n",
        "q2=df.sqft_basement.quantile(0.5)\n",
        "q3=df.sqft_basement.quantile(0.75)\n",
        "iqr=q3-q1"
      ],
      "metadata": {
        "id": "B0ZJWwj3oq2r"
      },
      "execution_count": 29,
      "outputs": []
    },
    {
      "cell_type": "code",
      "source": [
        "lc = q1 - 1.5*iqr\n",
        "uc = q3 + 1.5*iqr\n",
        "print( \"p0 = \" , p0 ,\", p100 = \" , p100 ,\", lc = \" , lc ,\", uc = \" , uc)"
      ],
      "metadata": {
        "colab": {
          "base_uri": "https://localhost:8080/"
        },
        "id": "xcygFeL_oq47",
        "outputId": "4096ce56-e2de-4043-b08e-22334a23e78c"
      },
      "execution_count": 30,
      "outputs": [
        {
          "output_type": "stream",
          "name": "stdout",
          "text": [
            "p0 =  0 , p100 =  4820 , lc =  -915.0 , uc =  1525.0\n"
          ]
        }
      ]
    },
    {
      "cell_type": "code",
      "source": [
        "df.sqft_basement.clip(upper=uc)"
      ],
      "metadata": {
        "colab": {
          "base_uri": "https://localhost:8080/"
        },
        "id": "FJlOTe17oq77",
        "outputId": "0800d092-d5a0-465f-9b10-e2f11a29f899"
      },
      "execution_count": 31,
      "outputs": [
        {
          "output_type": "execute_result",
          "data": {
            "text/plain": [
              "0          0.0\n",
              "1        280.0\n",
              "2          0.0\n",
              "3       1000.0\n",
              "4        800.0\n",
              "         ...  \n",
              "4595       0.0\n",
              "4596       0.0\n",
              "4597       0.0\n",
              "4598    1020.0\n",
              "4599       0.0\n",
              "Name: sqft_basement, Length: 4600, dtype: float64"
            ]
          },
          "metadata": {},
          "execution_count": 31
        }
      ]
    },
    {
      "cell_type": "code",
      "source": [
        "df.sqft_basement.clip(upper=uc,inplace=True)"
      ],
      "metadata": {
        "id": "LQRDG3y3oq-K"
      },
      "execution_count": 32,
      "outputs": []
    },
    {
      "cell_type": "code",
      "source": [
        "import seaborn as sns\n",
        "#create the plot\n",
        "ax = sns.boxplot(data = df[['price','bedrooms','bathrooms','sqft_living','sqft_lot','floors','waterfront','view','condition','sqft_above','sqft_basement','yr_built','yr_renovated']], orient = \"h\", palette = \"Set2\")\n",
        "#add labels\n",
        "ax.set_xlabel(\"Value\", fontsize = 20, labelpad = 20)\n",
        "ax.set_ylabel(\"Attributes\", fontsize = 20, labelpad = 20)\n",
        "ax.set_title(\"Attributes\", fontsize = 20,\n",
        "            pad = 20)\n",
        "#edit ticks\n",
        "ax.tick_params(which = \"both\", labelsize = 15)"
      ],
      "metadata": {
        "colab": {
          "base_uri": "https://localhost:8080/",
          "height": 344
        },
        "id": "vjgNPQnborAQ",
        "outputId": "c43ea17e-7bf0-4c1e-cf8e-83e273557094"
      },
      "execution_count": 33,
      "outputs": [
        {
          "output_type": "display_data",
          "data": {
            "text/plain": [
              "<Figure size 432x288 with 1 Axes>"
            ],
            "image/png": "[encoded data removed]"
          },
          "metadata": {
            "needs_background": "light"
          }
        }
      ]
    },
    {
      "cell_type": "code",
      "source": [
        "p0=df.sqft_above.min()\n",
        "p100=df.sqft_above.max()\n",
        "q1=df.sqft_above.quantile(0.25)\n",
        "q2=df.sqft_above.quantile(0.5)\n",
        "q3=df.sqft_above.quantile(0.75)\n",
        "iqr=q3-q1"
      ],
      "metadata": {
        "id": "FepuB8vZorEF"
      },
      "execution_count": 34,
      "outputs": []
    },
    {
      "cell_type": "code",
      "source": [
        "lc = q1 - 1.5*iqr\n",
        "uc = q3 + 1.5*iqr\n",
        "print( \"p0 = \" , p0 ,\", p100 = \" , p100 ,\", lc = \" , lc ,\", uc = \" , uc)"
      ],
      "metadata": {
        "colab": {
          "base_uri": "https://localhost:8080/"
        },
        "id": "HnT7jGljImoc",
        "outputId": "35710e83-4862-4d63-d84c-c31a8d69c05f"
      },
      "execution_count": 35,
      "outputs": [
        {
          "output_type": "stream",
          "name": "stdout",
          "text": [
            "p0 =  370 , p100 =  9410 , lc =  -475.0 , uc =  3965.0\n"
          ]
        }
      ]
    },
    {
      "cell_type": "code",
      "source": [
        "df.sqft_above.clip(upper=uc)"
      ],
      "metadata": {
        "colab": {
          "base_uri": "https://localhost:8080/"
        },
        "id": "QpbYXRG8ImrI",
        "outputId": "ff90eaf0-5728-4f03-970f-4720c7742232"
      },
      "execution_count": 36,
      "outputs": [
        {
          "output_type": "execute_result",
          "data": {
            "text/plain": [
              "0       1340.0\n",
              "1       3370.0\n",
              "2       1930.0\n",
              "3       1000.0\n",
              "4       1140.0\n",
              "         ...  \n",
              "4595    1510.0\n",
              "4596    1460.0\n",
              "4597    3010.0\n",
              "4598    1070.0\n",
              "4599    1490.0\n",
              "Name: sqft_above, Length: 4600, dtype: float64"
            ]
          },
          "metadata": {},
          "execution_count": 36
        }
      ]
    },
    {
      "cell_type": "code",
      "source": [
        "df.sqft_above.clip(upper=uc,inplace=True)\n",
        "df.sqft_above.clip(lower=lc,inplace=True)"
      ],
      "metadata": {
        "id": "zDqkBzXBImug"
      },
      "execution_count": 37,
      "outputs": []
    },
    {
      "cell_type": "code",
      "source": [
        "import seaborn as sns\n",
        "#create the plot\n",
        "ax = sns.boxplot(data = df[['price','bedrooms','bathrooms','sqft_living','sqft_lot','floors','waterfront','view','condition','sqft_above','sqft_basement','yr_built','yr_renovated']], orient = \"h\", palette = \"Set2\")\n",
        "#add labels\n",
        "ax.set_xlabel(\"Value\", fontsize = 20, labelpad = 20)\n",
        "ax.set_ylabel(\"Attributes\", fontsize = 20, labelpad = 20)\n",
        "ax.set_title(\"Attributes\", fontsize = 20,\n",
        "            pad = 20)\n",
        "#edit ticks\n",
        "ax.tick_params(which = \"both\", labelsize = 15)"
      ],
      "metadata": {
        "colab": {
          "base_uri": "https://localhost:8080/",
          "height": 344
        },
        "id": "UWaZqG0HJCBJ",
        "outputId": "1324da1c-8aa2-44ce-b817-5844e1aab5f1"
      },
      "execution_count": 38,
      "outputs": [
        {
          "output_type": "display_data",
          "data": {
            "text/plain": [
              "<Figure size 432x288 with 1 Axes>"
            ],
            "image/png": "[encoded data removed]"
          },
          "metadata": {
            "needs_background": "light"
          }
        }
      ]
    },
    {
      "cell_type": "code",
      "source": [
        "p0=df.condition.min()\n",
        "p100=df.condition.max()\n",
        "q1=df.condition.quantile(0.25)\n",
        "q2=df.condition.quantile(0.5)\n",
        "q3=df.condition.quantile(0.75)\n",
        "iqr=q3-q1"
      ],
      "metadata": {
        "id": "-Mog9EhSJCDo"
      },
      "execution_count": 39,
      "outputs": []
    },
    {
      "cell_type": "code",
      "source": [
        "lc = q1 - 1.5*iqr\n",
        "uc = q3 + 1.5*iqr\n",
        "print( \"p0 = \" , p0 ,\", p100 = \" , p100 ,\", lc = \" , lc ,\", uc = \" , uc)"
      ],
      "metadata": {
        "colab": {
          "base_uri": "https://localhost:8080/"
        },
        "id": "VBZBp-G_JCF9",
        "outputId": "9c88f958-9df2-406e-ca96-2dd08978022d"
      },
      "execution_count": 40,
      "outputs": [
        {
          "output_type": "stream",
          "name": "stdout",
          "text": [
            "p0 =  1 , p100 =  5 , lc =  1.5 , uc =  5.5\n"
          ]
        }
      ]
    },
    {
      "cell_type": "code",
      "source": [
        "df.condition.clip(upper=uc)\n",
        "df.condition.clip(lower=lc)"
      ],
      "metadata": {
        "colab": {
          "base_uri": "https://localhost:8080/"
        },
        "id": "Fgj2a4d5JCIu",
        "outputId": "6318ff0c-efd8-45ca-e125-02ccd239003e"
      },
      "execution_count": 44,
      "outputs": [
        {
          "output_type": "execute_result",
          "data": {
            "text/plain": [
              "0       3.0\n",
              "1       5.0\n",
              "2       4.0\n",
              "3       4.0\n",
              "4       4.0\n",
              "       ... \n",
              "4595    4.0\n",
              "4596    3.0\n",
              "4597    3.0\n",
              "4598    3.0\n",
              "4599    4.0\n",
              "Name: condition, Length: 4600, dtype: float64"
            ]
          },
          "metadata": {},
          "execution_count": 44
        }
      ]
    },
    {
      "cell_type": "code",
      "source": [
        "df.condition.clip(upper=uc,inplace=True)\n",
        "df.condition.clip(lower=lc,inplace=True)"
      ],
      "metadata": {
        "id": "Y_6dqGC2JCLJ"
      },
      "execution_count": 45,
      "outputs": []
    },
    {
      "cell_type": "code",
      "source": [
        "import seaborn as sns\n",
        "#create the plot\n",
        "ax = sns.boxplot(data = df[['price','bedrooms','bathrooms','sqft_living','sqft_lot','floors','waterfront','view','condition','sqft_above','sqft_basement','yr_built','yr_renovated']], orient = \"h\", palette = \"Set2\")\n",
        "#add labels\n",
        "ax.set_xlabel(\"Value\", fontsize = 20, labelpad = 20)\n",
        "ax.set_ylabel(\"Attributes\", fontsize = 20, labelpad = 20)\n",
        "ax.set_title(\"Attributes\", fontsize = 20,\n",
        "            pad = 20)\n",
        "#edit ticks\n",
        "ax.tick_params(which = \"both\", labelsize = 15)"
      ],
      "metadata": {
        "colab": {
          "base_uri": "https://localhost:8080/",
          "height": 344
        },
        "id": "fh7WkngFJCNw",
        "outputId": "fbe39784-f3aa-4ebd-b71a-3603292d8f5a"
      },
      "execution_count": 46,
      "outputs": [
        {
          "output_type": "display_data",
          "data": {
            "text/plain": [
              "<Figure size 432x288 with 1 Axes>"
            ],
            "image/png": "[encoded data removed]"
          },
          "metadata": {
            "needs_background": "light"
          }
        }
      ]
    },
    {
      "cell_type": "code",
      "source": [
        "p0=df.view.min()\n",
        "p100=df.view.max()\n",
        "q1=df.view.quantile(0.25)\n",
        "q2=df.view.quantile(0.5)\n",
        "q3=df.view.quantile(0.75)\n",
        "iqr=q3-q1"
      ],
      "metadata": {
        "id": "54h9eBuhJCQJ"
      },
      "execution_count": 47,
      "outputs": []
    },
    {
      "cell_type": "code",
      "source": [
        "lc = q1 - 1.5*iqr\n",
        "uc = q3 + 1.5*iqr\n",
        "print( \"p0 = \" , p0 ,\", p100 = \" , p100 ,\", lc = \" , lc ,\", uc = \" , uc)"
      ],
      "metadata": {
        "colab": {
          "base_uri": "https://localhost:8080/"
        },
        "id": "KItZiGAzJsFG",
        "outputId": "7c772fc7-7a9b-47f2-afc3-4cf603282e40"
      },
      "execution_count": 48,
      "outputs": [
        {
          "output_type": "stream",
          "name": "stdout",
          "text": [
            "p0 =  0 , p100 =  4 , lc =  0.0 , uc =  0.0\n"
          ]
        }
      ]
    },
    {
      "cell_type": "code",
      "source": [
        "df.view.clip(upper=uc)"
      ],
      "metadata": {
        "colab": {
          "base_uri": "https://localhost:8080/"
        },
        "id": "Kylq0VHXJsHb",
        "outputId": "a223fbb7-f77b-4e70-fbb2-27b3a51c4ef2"
      },
      "execution_count": 49,
      "outputs": [
        {
          "output_type": "execute_result",
          "data": {
            "text/plain": [
              "0       0.0\n",
              "1       0.0\n",
              "2       0.0\n",
              "3       0.0\n",
              "4       0.0\n",
              "       ... \n",
              "4595    0.0\n",
              "4596    0.0\n",
              "4597    0.0\n",
              "4598    0.0\n",
              "4599    0.0\n",
              "Name: view, Length: 4600, dtype: float64"
            ]
          },
          "metadata": {},
          "execution_count": 49
        }
      ]
    },
    {
      "cell_type": "code",
      "source": [
        "df.view.clip(upper=uc,inplace=True)"
      ],
      "metadata": {
        "id": "rLlp0iswLPUu"
      },
      "execution_count": 50,
      "outputs": []
    },
    {
      "cell_type": "code",
      "source": [
        "import seaborn as sns\n",
        "#create the plot\n",
        "ax = sns.boxplot(data = df[['price','bedrooms','bathrooms','sqft_living','sqft_lot','floors','waterfront','view','condition','sqft_above','sqft_basement','yr_built','yr_renovated']], orient = \"h\", palette = \"Set2\")\n",
        "#add labels\n",
        "ax.set_xlabel(\"Value\", fontsize = 20, labelpad = 20)\n",
        "ax.set_ylabel(\"Attributes\", fontsize = 20, labelpad = 20)\n",
        "ax.set_title(\"Attributes\", fontsize = 20,\n",
        "            pad = 20)\n",
        "#edit ticks\n",
        "ax.tick_params(which = \"both\", labelsize = 15)"
      ],
      "metadata": {
        "colab": {
          "base_uri": "https://localhost:8080/",
          "height": 344
        },
        "id": "1byzd5ZkJsKD",
        "outputId": "a784206a-0e24-4152-af22-af5ff7ae160b"
      },
      "execution_count": 51,
      "outputs": [
        {
          "output_type": "display_data",
          "data": {
            "text/plain": [
              "<Figure size 432x288 with 1 Axes>"
            ],
            "image/png": "[encoded data removed]"
          },
          "metadata": {
            "needs_background": "light"
          }
        }
      ]
    },
    {
      "cell_type": "code",
      "source": [
        "p0=df.waterfront.min()\n",
        "p100=df.waterfront.max()\n",
        "q1=df.waterfront.quantile(0.25)\n",
        "q2=df.waterfront.quantile(0.5)\n",
        "q3=df.waterfront.quantile(0.75)\n",
        "iqr=q3-q1"
      ],
      "metadata": {
        "id": "_V-fbwxoJsMA"
      },
      "execution_count": 52,
      "outputs": []
    },
    {
      "cell_type": "code",
      "source": [
        "lc = q1 - 1.5*iqr\n",
        "uc = q3 + 1.5*iqr\n",
        "print( \"p0 = \" , p0 ,\", p100 = \" , p100 ,\", lc = \" , lc ,\", uc = \" , uc)"
      ],
      "metadata": {
        "colab": {
          "base_uri": "https://localhost:8080/"
        },
        "id": "JTZ50PB6JsOj",
        "outputId": "a60ad322-f599-4da2-8e4b-08743487fe44"
      },
      "execution_count": 53,
      "outputs": [
        {
          "output_type": "stream",
          "name": "stdout",
          "text": [
            "p0 =  0 , p100 =  1 , lc =  0.0 , uc =  0.0\n"
          ]
        }
      ]
    },
    {
      "cell_type": "code",
      "source": [
        "df.waterfront.clip(upper=uc)"
      ],
      "metadata": {
        "colab": {
          "base_uri": "https://localhost:8080/"
        },
        "id": "bkRtocaFJsRW",
        "outputId": "527c6516-996a-4583-d2f2-0b871b0e564c"
      },
      "execution_count": 54,
      "outputs": [
        {
          "output_type": "execute_result",
          "data": {
            "text/plain": [
              "0       0.0\n",
              "1       0.0\n",
              "2       0.0\n",
              "3       0.0\n",
              "4       0.0\n",
              "       ... \n",
              "4595    0.0\n",
              "4596    0.0\n",
              "4597    0.0\n",
              "4598    0.0\n",
              "4599    0.0\n",
              "Name: waterfront, Length: 4600, dtype: float64"
            ]
          },
          "metadata": {},
          "execution_count": 54
        }
      ]
    },
    {
      "cell_type": "code",
      "source": [
        "df.waterfront.clip(upper=uc,inplace=True)"
      ],
      "metadata": {
        "id": "WimZoqAqJsT8"
      },
      "execution_count": 55,
      "outputs": []
    },
    {
      "cell_type": "code",
      "source": [
        "import seaborn as sns\n",
        "#create the plot\n",
        "ax = sns.boxplot(data = df[['price','bedrooms','bathrooms','sqft_living','sqft_lot','floors','waterfront','view','condition','sqft_above','sqft_basement','yr_built','yr_renovated']], orient = \"h\", palette = \"Set2\")\n",
        "#add labels\n",
        "ax.set_xlabel(\"Value\", fontsize = 20, labelpad = 20)\n",
        "ax.set_ylabel(\"Attributes\", fontsize = 20, labelpad = 20)\n",
        "ax.set_title(\"Attributes\", fontsize = 20,\n",
        "            pad = 20)\n",
        "#edit ticks\n",
        "ax.tick_params(which = \"both\", labelsize = 15)"
      ],
      "metadata": {
        "colab": {
          "base_uri": "https://localhost:8080/",
          "height": 344
        },
        "id": "3I9Ptm4bJsWp",
        "outputId": "47c6c309-2115-43f9-9c6c-ec636719fa8d"
      },
      "execution_count": 56,
      "outputs": [
        {
          "output_type": "display_data",
          "data": {
            "text/plain": [
              "<Figure size 432x288 with 1 Axes>"
            ],
            "image/png": "[encoded data removed]"
          },
          "metadata": {
            "needs_background": "light"
          }
        }
      ]
    },
    {
      "cell_type": "code",
      "source": [
        "p0=df.sqft_living.min()\n",
        "p100=df.sqft_living.max()\n",
        "q1=df.sqft_living.quantile(0.25)\n",
        "q2=df.sqft_living.quantile(0.5)\n",
        "q3=df.sqft_living.quantile(0.75)\n",
        "iqr=q3-q1"
      ],
      "metadata": {
        "id": "1jSJuGSTJsZ6"
      },
      "execution_count": 57,
      "outputs": []
    },
    {
      "cell_type": "code",
      "source": [
        "lc = q1 - 1.5*iqr\n",
        "uc = q3 + 1.5*iqr\n",
        "print( \"p0 = \" , p0 ,\", p100 = \" , p100 ,\", lc = \" , lc ,\", uc = \" , uc)"
      ],
      "metadata": {
        "colab": {
          "base_uri": "https://localhost:8080/"
        },
        "id": "aP6w6xYrMo-v",
        "outputId": "07b5b31c-dc29-4927-f667-6f8d5551b610"
      },
      "execution_count": 58,
      "outputs": [
        {
          "output_type": "stream",
          "name": "stdout",
          "text": [
            "p0 =  370 , p100 =  13540 , lc =  -280.0 , uc =  4360.0\n"
          ]
        }
      ]
    },
    {
      "cell_type": "code",
      "source": [
        "df.sqft_living.clip(upper=uc)\n",
        "df.sqft_living.clip(lower=lc)"
      ],
      "metadata": {
        "colab": {
          "base_uri": "https://localhost:8080/"
        },
        "id": "kB_ajWcNMpB-",
        "outputId": "11aba69a-6d70-4063-d599-b62d3141b92c"
      },
      "execution_count": 59,
      "outputs": [
        {
          "output_type": "execute_result",
          "data": {
            "text/plain": [
              "0       1340\n",
              "1       3650\n",
              "2       1930\n",
              "3       2000\n",
              "4       1940\n",
              "        ... \n",
              "4595    1510\n",
              "4596    1460\n",
              "4597    3010\n",
              "4598    2090\n",
              "4599    1490\n",
              "Name: sqft_living, Length: 4600, dtype: int64"
            ]
          },
          "metadata": {},
          "execution_count": 59
        }
      ]
    },
    {
      "cell_type": "code",
      "source": [
        "df.sqft_living.clip(upper=uc,inplace=True)\n",
        "df.sqft_living.clip(lower=lc,inplace=True)"
      ],
      "metadata": {
        "id": "w3kVjYgDMpET"
      },
      "execution_count": 60,
      "outputs": []
    },
    {
      "cell_type": "code",
      "source": [
        "import seaborn as sns\n",
        "#create the plot\n",
        "ax = sns.boxplot(data = df[['price','bedrooms','bathrooms','sqft_living','sqft_lot','floors','waterfront','view','condition','sqft_above','sqft_basement','yr_built','yr_renovated']], orient = \"h\", palette = \"Set2\")\n",
        "#add labels\n",
        "ax.set_xlabel(\"Value\", fontsize = 20, labelpad = 20)\n",
        "ax.set_ylabel(\"Attributes\", fontsize = 20, labelpad = 20)\n",
        "ax.set_title(\"Attributes\", fontsize = 20,\n",
        "            pad = 20)\n",
        "#edit ticks\n",
        "ax.tick_params(which = \"both\", labelsize = 15)"
      ],
      "metadata": {
        "colab": {
          "base_uri": "https://localhost:8080/",
          "height": 344
        },
        "id": "zCEsKsFbMpHp",
        "outputId": "bf8bdf6e-be30-4ef1-a488-961e737abb57"
      },
      "execution_count": 61,
      "outputs": [
        {
          "output_type": "display_data",
          "data": {
            "text/plain": [
              "<Figure size 432x288 with 1 Axes>"
            ],
            "image/png": "[encoded data removed]"
          },
          "metadata": {
            "needs_background": "light"
          }
        }
      ]
    },
    {
      "cell_type": "code",
      "source": [
        "p0=df.bathrooms.min()\n",
        "p100=df.bathrooms.max()\n",
        "q1=df.bathrooms.quantile(0.25)\n",
        "q2=df.bathrooms.quantile(0.5)\n",
        "q3=df.bathrooms.quantile(0.75)\n",
        "iqr=q3-q1"
      ],
      "metadata": {
        "id": "fCZ3ogphJCTb"
      },
      "execution_count": 62,
      "outputs": []
    },
    {
      "cell_type": "code",
      "source": [
        "lc = q1 - 1.5*iqr\n",
        "uc = q3 + 1.5*iqr\n",
        "print( \"p0 = \" , p0 ,\", p100 = \" , p100 ,\", lc = \" , lc ,\", uc = \" , uc)"
      ],
      "metadata": {
        "colab": {
          "base_uri": "https://localhost:8080/"
        },
        "id": "9G6WLAiiNKT-",
        "outputId": "7132ffec-b2a2-415f-c455-b2752c72b480"
      },
      "execution_count": 63,
      "outputs": [
        {
          "output_type": "stream",
          "name": "stdout",
          "text": [
            "p0 =  0.0 , p100 =  8.0 , lc =  0.625 , uc =  3.625\n"
          ]
        }
      ]
    },
    {
      "cell_type": "code",
      "source": [
        "df.bathrooms.clip(upper=uc)\n",
        "df.bathrooms.clip(lower=lc)"
      ],
      "metadata": {
        "colab": {
          "base_uri": "https://localhost:8080/"
        },
        "id": "A6pjjPq5NKXG",
        "outputId": "26a371b9-af33-4eba-a086-5e9b1c15f28a"
      },
      "execution_count": 64,
      "outputs": [
        {
          "output_type": "execute_result",
          "data": {
            "text/plain": [
              "0       1.50\n",
              "1       2.50\n",
              "2       2.00\n",
              "3       2.25\n",
              "4       2.50\n",
              "        ... \n",
              "4595    1.75\n",
              "4596    2.50\n",
              "4597    2.50\n",
              "4598    2.00\n",
              "4599    2.50\n",
              "Name: bathrooms, Length: 4600, dtype: float64"
            ]
          },
          "metadata": {},
          "execution_count": 64
        }
      ]
    },
    {
      "cell_type": "code",
      "source": [
        "df.bathrooms.clip(upper=uc, inplace = True)\n",
        "df.bathrooms.clip(lower=lc, inplace = True)"
      ],
      "metadata": {
        "id": "DydX4OUQNKZa"
      },
      "execution_count": 65,
      "outputs": []
    },
    {
      "cell_type": "code",
      "source": [
        "import seaborn as sns\n",
        "#create the plot\n",
        "ax = sns.boxplot(data = df[['price','bedrooms','bathrooms','sqft_living','sqft_lot','floors','waterfront','view','condition','sqft_above','sqft_basement','yr_built','yr_renovated']], orient = \"h\", palette = \"Set2\")\n",
        "#add labels\n",
        "ax.set_xlabel(\"Value\", fontsize = 20, labelpad = 20)\n",
        "ax.set_ylabel(\"Attributes\", fontsize = 20, labelpad = 20)\n",
        "ax.set_title(\"Attributes\", fontsize = 20,\n",
        "            pad = 20)\n",
        "#edit ticks\n",
        "ax.tick_params(which = \"both\", labelsize = 15)"
      ],
      "metadata": {
        "colab": {
          "base_uri": "https://localhost:8080/",
          "height": 344
        },
        "id": "0zOVQPYVNKb-",
        "outputId": "6e363c72-a35b-48e2-bf97-46d07c2d1c57"
      },
      "execution_count": 66,
      "outputs": [
        {
          "output_type": "display_data",
          "data": {
            "text/plain": [
              "<Figure size 432x288 with 1 Axes>"
            ],
            "image/png": "[encoded data removed]"
          },
          "metadata": {
            "needs_background": "light"
          }
        }
      ]
    },
    {
      "cell_type": "code",
      "source": [
        "p0=df.bedrooms.min()\n",
        "p100=df.bedrooms.max()\n",
        "q1=df.bedrooms.quantile(0.25)\n",
        "q2=df.bedrooms.quantile(0.5)\n",
        "q3=df.bedrooms.quantile(0.75)\n",
        "iqr=q3-q1"
      ],
      "metadata": {
        "id": "4ZoKwaluNKfm"
      },
      "execution_count": 67,
      "outputs": []
    },
    {
      "cell_type": "code",
      "source": [
        "lc = q1 - 1.5*iqr\n",
        "uc = q3 + 1.5*iqr\n",
        "print( \"p0 = \" , p0 ,\", p100 = \" , p100 ,\", lc = \" , lc ,\", uc = \" , uc)"
      ],
      "metadata": {
        "colab": {
          "base_uri": "https://localhost:8080/"
        },
        "id": "QKLAhEuYN2nD",
        "outputId": "c3bf5bff-3a70-4f71-8f4e-068e4b39182c"
      },
      "execution_count": 68,
      "outputs": [
        {
          "output_type": "stream",
          "name": "stdout",
          "text": [
            "p0 =  0 , p100 =  9 , lc =  1.5 , uc =  5.5\n"
          ]
        }
      ]
    },
    {
      "cell_type": "code",
      "source": [
        "df.bedrooms.clip(upper=uc)\n",
        "df.bedrooms.clip(lower=lc)"
      ],
      "metadata": {
        "colab": {
          "base_uri": "https://localhost:8080/"
        },
        "id": "aTeYsWjkN3FR",
        "outputId": "92575eda-be6b-458d-b3ee-aca8a82e1c6f"
      },
      "execution_count": 69,
      "outputs": [
        {
          "output_type": "execute_result",
          "data": {
            "text/plain": [
              "0       3.0\n",
              "1       5.0\n",
              "2       3.0\n",
              "3       3.0\n",
              "4       4.0\n",
              "       ... \n",
              "4595    3.0\n",
              "4596    3.0\n",
              "4597    3.0\n",
              "4598    4.0\n",
              "4599    3.0\n",
              "Name: bedrooms, Length: 4600, dtype: float64"
            ]
          },
          "metadata": {},
          "execution_count": 69
        }
      ]
    },
    {
      "cell_type": "code",
      "source": [
        "df.bedrooms.clip(upper=uc,inplace=True)\n",
        "df.bedrooms.clip(lower=lc,inplace=True)"
      ],
      "metadata": {
        "id": "g5IJ5uiPNKiO"
      },
      "execution_count": 70,
      "outputs": []
    },
    {
      "cell_type": "code",
      "source": [
        "import seaborn as sns\n",
        "#create the plot\n",
        "ax = sns.boxplot(data = df[['price','bedrooms','bathrooms','sqft_living','sqft_lot','floors','waterfront','view','condition','sqft_above','sqft_basement','yr_built','yr_renovated']], orient = \"h\", palette = \"Set2\")\n",
        "#add labels\n",
        "ax.set_xlabel(\"Value\", fontsize = 20, labelpad = 20)\n",
        "ax.set_ylabel(\"Attributes\", fontsize = 20, labelpad = 20)\n",
        "ax.set_title(\"Attributes\", fontsize = 20,\n",
        "            pad = 20)\n",
        "#edit ticks\n",
        "ax.tick_params(which = \"both\", labelsize = 15)"
      ],
      "metadata": {
        "colab": {
          "base_uri": "https://localhost:8080/",
          "height": 344
        },
        "id": "YigaQZhYNKlY",
        "outputId": "bc7cc45e-4ba7-4c83-cbb7-dec78b212617"
      },
      "execution_count": 71,
      "outputs": [
        {
          "output_type": "display_data",
          "data": {
            "text/plain": [
              "<Figure size 432x288 with 1 Axes>"
            ],
            "image/png": "[encoded data removed]"
          },
          "metadata": {
            "needs_background": "light"
          }
        }
      ]
    },
    {
      "cell_type": "code",
      "source": [
        "y = df['price']\n",
        "X = df.drop(['price'],axis=1)"
      ],
      "metadata": {
        "id": "T3LiWW1vn_aT"
      },
      "execution_count": 72,
      "outputs": []
    },
    {
      "cell_type": "code",
      "source": [
        "X"
      ],
      "metadata": {
        "colab": {
          "base_uri": "https://localhost:8080/",
          "height": 488
        },
        "id": "HsD306HsoBgA",
        "outputId": "f9da2974-ba5c-4903-fc61-1c493580b1c5"
      },
      "execution_count": 73,
      "outputs": [
        {
          "output_type": "execute_result",
          "data": {
            "text/plain": [
              "      bedrooms  bathrooms  sqft_living  sqft_lot  floors  waterfront  view  \\\n",
              "0          3.0       1.50       1340.0    7912.0     1.5         0.0   0.0   \n",
              "1          5.0       2.50       3650.0    9050.0     2.0         0.0   0.0   \n",
              "2          3.0       2.00       1930.0   11947.0     1.0         0.0   0.0   \n",
              "3          3.0       2.25       2000.0    8030.0     1.0         0.0   0.0   \n",
              "4          4.0       2.50       1940.0   10500.0     1.0         0.0   0.0   \n",
              "...        ...        ...          ...       ...     ...         ...   ...   \n",
              "4595       3.0       1.75       1510.0    6360.0     1.0         0.0   0.0   \n",
              "4596       3.0       2.50       1460.0    7573.0     2.0         0.0   0.0   \n",
              "4597       3.0       2.50       3010.0    7014.0     2.0         0.0   0.0   \n",
              "4598       4.0       2.00       2090.0    6630.0     1.0         0.0   0.0   \n",
              "4599       3.0       2.50       1490.0    8102.0     2.0         0.0   0.0   \n",
              "\n",
              "      condition  sqft_above  sqft_basement  yr_built  yr_renovated  street  \\\n",
              "0           3.0      1340.0            0.0      1955          2005    1522   \n",
              "1           5.0      3370.0          280.0      1921             0    3899   \n",
              "2           4.0      1930.0            0.0      1966             0    2291   \n",
              "3           4.0      1000.0         1000.0      1963             0    4263   \n",
              "4           4.0      1140.0          800.0      1976          1992    4352   \n",
              "...         ...         ...            ...       ...           ...     ...   \n",
              "4595        4.0      1510.0            0.0      1954          1979    3447   \n",
              "4596        3.0      1460.0            0.0      1983          2009     960   \n",
              "4597        3.0      3010.0            0.0      2009             0    4033   \n",
              "4598        3.0      1070.0         1020.0      1974             0    3498   \n",
              "4599        4.0      1490.0            0.0      1990             0    1514   \n",
              "\n",
              "      city  statezip  country  \n",
              "0       36        62        0  \n",
              "1       35        58        0  \n",
              "2       18        26        0  \n",
              "3        3         7        0  \n",
              "4       31        31        0  \n",
              "...    ...       ...      ...  \n",
              "4595    35        62        0  \n",
              "4596     3         6        0  \n",
              "4597    32        37        0  \n",
              "4598    35        71        0  \n",
              "4599     9        26        0  \n",
              "\n",
              "[4600 rows x 16 columns]"
            ],
            "text/html": [
              "\n",
              "  <div id=\"df-9e00f796-c151-43be-b9fe-234b8db300dc\">\n",
              "    <div class=\"colab-df-container\">\n",
              "      <div>\n",
              "<style scoped>\n",
              "    .dataframe tbody tr th:only-of-type {\n",
              "        vertical-align: middle;\n",
              "    }\n",
              "\n",
              "    .dataframe tbody tr th {\n",
              "        vertical-align: top;\n",
              "    }\n",
              "\n",
              "    .dataframe thead th {\n",
              "        text-align: right;\n",
              "    }\n",
              "</style>\n",
              "<table border=\"1\" class=\"dataframe\">\n",
              "  <thead>\n",
              "    <tr style=\"text-align: right;\">\n",
              "      <th></th>\n",
              "      <th>bedrooms</th>\n",
              "      <th>bathrooms</th>\n",
              "      <th>sqft_living</th>\n",
              "      <th>sqft_lot</th>\n",
              "      <th>floors</th>\n",
              "      <th>waterfront</th>\n",
              "      <th>view</th>\n",
              "      <th>condition</th>\n",
              "      <th>sqft_above</th>\n",
              "      <th>sqft_basement</th>\n",
              "      <th>yr_built</th>\n",
              "      <th>yr_renovated</th>\n",
              "      <th>street</th>\n",
              "      <th>city</th>\n",
              "      <th>statezip</th>\n",
              "      <th>country</th>\n",
              "    </tr>\n",
              "  </thead>\n",
              "  <tbody>\n",
              "    <tr>\n",
              "      <th>0</th>\n",
              "      <td>3.0</td>\n",
              "      <td>1.50</td>\n",
              "      <td>1340.0</td>\n",
              "      <td>7912.0</td>\n",
              "      <td>1.5</td>\n",
              "      <td>0.0</td>\n",
              "      <td>0.0</td>\n",
              "      <td>3.0</td>\n",
              "      <td>1340.0</td>\n",
              "      <td>0.0</td>\n",
              "      <td>1955</td>\n",
              "      <td>2005</td>\n",
              "      <td>1522</td>\n",
              "      <td>36</td>\n",
              "      <td>62</td>\n",
              "      <td>0</td>\n",
              "    </tr>\n",
              "    <tr>\n",
              "      <th>1</th>\n",
              "      <td>5.0</td>\n",
              "      <td>2.50</td>\n",
              "      <td>3650.0</td>\n",
              "      <td>9050.0</td>\n",
              "      <td>2.0</td>\n",
              "      <td>0.0</td>\n",
              "      <td>0.0</td>\n",
              "      <td>5.0</td>\n",
              "      <td>3370.0</td>\n",
              "      <td>280.0</td>\n",
              "      <td>1921</td>\n",
              "      <td>0</td>\n",
              "      <td>3899</td>\n",
              "      <td>35</td>\n",
              "      <td>58</td>\n",
              "      <td>0</td>\n",
              "    </tr>\n",
              "    <tr>\n",
              "      <th>2</th>\n",
              "      <td>3.0</td>\n",
              "      <td>2.00</td>\n",
              "      <td>1930.0</td>\n",
              "      <td>11947.0</td>\n",
              "      <td>1.0</td>\n",
              "      <td>0.0</td>\n",
              "      <td>0.0</td>\n",
              "      <td>4.0</td>\n",
              "      <td>1930.0</td>\n",
              "      <td>0.0</td>\n",
              "      <td>1966</td>\n",
              "      <td>0</td>\n",
              "      <td>2291</td>\n",
              "      <td>18</td>\n",
              "      <td>26</td>\n",
              "      <td>0</td>\n",
              "    </tr>\n",
              "    <tr>\n",
              "      <th>3</th>\n",
              "      <td>3.0</td>\n",
              "      <td>2.25</td>\n",
              "      <td>2000.0</td>\n",
              "      <td>8030.0</td>\n",
              "      <td>1.0</td>\n",
              "      <td>0.0</td>\n",
              "      <td>0.0</td>\n",
              "      <td>4.0</td>\n",
              "      <td>1000.0</td>\n",
              "      <td>1000.0</td>\n",
              "      <td>1963</td>\n",
              "      <td>0</td>\n",
              "      <td>4263</td>\n",
              "      <td>3</td>\n",
              "      <td>7</td>\n",
              "      <td>0</td>\n",
              "    </tr>\n",
              "    <tr>\n",
              "      <th>4</th>\n",
              "      <td>4.0</td>\n",
              "      <td>2.50</td>\n",
              "      <td>1940.0</td>\n",
              "      <td>10500.0</td>\n",
              "      <td>1.0</td>\n",
              "      <td>0.0</td>\n",
              "      <td>0.0</td>\n",
              "      <td>4.0</td>\n",
              "      <td>1140.0</td>\n",
              "      <td>800.0</td>\n",
              "      <td>1976</td>\n",
              "      <td>1992</td>\n",
              "      <td>4352</td>\n",
              "      <td>31</td>\n",
              "      <td>31</td>\n",
              "      <td>0</td>\n",
              "    </tr>\n",
              "    <tr>\n",
              "      <th>...</th>\n",
              "      <td>...</td>\n",
              "      <td>...</td>\n",
              "      <td>...</td>\n",
              "      <td>...</td>\n",
              "      <td>...</td>\n",
              "      <td>...</td>\n",
              "      <td>...</td>\n",
              "      <td>...</td>\n",
              "      <td>...</td>\n",
              "      <td>...</td>\n",
              "      <td>...</td>\n",
              "      <td>...</td>\n",
              "      <td>...</td>\n",
              "      <td>...</td>\n",
              "      <td>...</td>\n",
              "      <td>...</td>\n",
              "    </tr>\n",
              "    <tr>\n",
              "      <th>4595</th>\n",
              "      <td>3.0</td>\n",
              "      <td>1.75</td>\n",
              "      <td>1510.0</td>\n",
              "      <td>6360.0</td>\n",
              "      <td>1.0</td>\n",
              "      <td>0.0</td>\n",
              "      <td>0.0</td>\n",
              "      <td>4.0</td>\n",
              "      <td>1510.0</td>\n",
              "      <td>0.0</td>\n",
              "      <td>1954</td>\n",
              "      <td>1979</td>\n",
              "      <td>3447</td>\n",
              "      <td>35</td>\n",
              "      <td>62</td>\n",
              "      <td>0</td>\n",
              "    </tr>\n",
              "    <tr>\n",
              "      <th>4596</th>\n",
              "      <td>3.0</td>\n",
              "      <td>2.50</td>\n",
              "      <td>1460.0</td>\n",
              "      <td>7573.0</td>\n",
              "      <td>2.0</td>\n",
              "      <td>0.0</td>\n",
              "      <td>0.0</td>\n",
              "      <td>3.0</td>\n",
              "      <td>1460.0</td>\n",
              "      <td>0.0</td>\n",
              "      <td>1983</td>\n",
              "      <td>2009</td>\n",
              "      <td>960</td>\n",
              "      <td>3</td>\n",
              "      <td>6</td>\n",
              "      <td>0</td>\n",
              "    </tr>\n",
              "    <tr>\n",
              "      <th>4597</th>\n",
              "      <td>3.0</td>\n",
              "      <td>2.50</td>\n",
              "      <td>3010.0</td>\n",
              "      <td>7014.0</td>\n",
              "      <td>2.0</td>\n",
              "      <td>0.0</td>\n",
              "      <td>0.0</td>\n",
              "      <td>3.0</td>\n",
              "      <td>3010.0</td>\n",
              "      <td>0.0</td>\n",
              "      <td>2009</td>\n",
              "      <td>0</td>\n",
              "      <td>4033</td>\n",
              "      <td>32</td>\n",
              "      <td>37</td>\n",
              "      <td>0</td>\n",
              "    </tr>\n",
              "    <tr>\n",
              "      <th>4598</th>\n",
              "      <td>4.0</td>\n",
              "      <td>2.00</td>\n",
              "      <td>2090.0</td>\n",
              "      <td>6630.0</td>\n",
              "      <td>1.0</td>\n",
              "      <td>0.0</td>\n",
              "      <td>0.0</td>\n",
              "      <td>3.0</td>\n",
              "      <td>1070.0</td>\n",
              "      <td>1020.0</td>\n",
              "      <td>1974</td>\n",
              "      <td>0</td>\n",
              "      <td>3498</td>\n",
              "      <td>35</td>\n",
              "      <td>71</td>\n",
              "      <td>0</td>\n",
              "    </tr>\n",
              "    <tr>\n",
              "      <th>4599</th>\n",
              "      <td>3.0</td>\n",
              "      <td>2.50</td>\n",
              "      <td>1490.0</td>\n",
              "      <td>8102.0</td>\n",
              "      <td>2.0</td>\n",
              "      <td>0.0</td>\n",
              "      <td>0.0</td>\n",
              "      <td>4.0</td>\n",
              "      <td>1490.0</td>\n",
              "      <td>0.0</td>\n",
              "      <td>1990</td>\n",
              "      <td>0</td>\n",
              "      <td>1514</td>\n",
              "      <td>9</td>\n",
              "      <td>26</td>\n",
              "      <td>0</td>\n",
              "    </tr>\n",
              "  </tbody>\n",
              "</table>\n",
              "<p>4600 rows × 16 columns</p>\n",
              "</div>\n",
              "      <button class=\"colab-df-convert\" onclick=\"convertToInteractive('df-9e00f796-c151-43be-b9fe-234b8db300dc')\"\n",
              "              title=\"Convert this dataframe to an interactive table.\"\n",
              "              style=\"display:none;\">\n",
              "        \n",
              "  <svg xmlns=\"http://www.w3.org/2000/svg\" height=\"24px\"viewBox=\"0 0 24 24\"\n",
              "       width=\"24px\">\n",
              "    <path d=\"M0 0h24v24H0V0z\" fill=\"none\"/>\n",
              "    <path d=\"M18.56 5.44l.94 2.06.94-2.06 2.06-.94-2.06-.94-.94-2.06-.94 2.06-2.06.94zm-11 1L8.5 8.5l.94-2.06 2.06-.94-2.06-.94L8.5 2.5l-.94 2.06-2.06.94zm10 10l.94 2.06.94-2.06 2.06-.94-2.06-.94-.94-2.06-.94 2.06-2.06.94z\"/><path d=\"M17.41 7.96l-1.37-1.37c-.4-.4-.92-.59-1.43-.59-.52 0-1.04.2-1.43.59L10.3 9.45l-7.72 7.72c-.78.78-.78 2.05 0 2.83L4 21.41c.39.39.9.59 1.41.59.51 0 1.02-.2 1.41-.59l7.78-7.78 2.81-2.81c.8-.78.8-2.07 0-2.86zM5.41 20L4 18.59l7.72-7.72 1.47 1.35L5.41 20z\"/>\n",
              "  </svg>\n",
              "      </button>\n",
              "      \n",
              "  <style>\n",
              "    .colab-df-container {\n",
              "      display:flex;\n",
              "      flex-wrap:wrap;\n",
              "      gap: 12px;\n",
              "    }\n",
              "\n",
              "    .colab-df-convert {\n",
              "      background-color: #E8F0FE;\n",
              "      border: none;\n",
              "      border-radius: 50%;\n",
              "      cursor: pointer;\n",
              "      display: none;\n",
              "      fill: #1967D2;\n",
              "      height: 32px;\n",
              "      padding: 0 0 0 0;\n",
              "      width: 32px;\n",
              "    }\n",
              "\n",
              "    .colab-df-convert:hover {\n",
              "      background-color: #E2EBFA;\n",
              "      box-shadow: 0px 1px 2px rgba(60, 64, 67, 0.3), 0px 1px 3px 1px rgba(60, 64, 67, 0.15);\n",
              "      fill: #174EA6;\n",
              "    }\n",
              "\n",
              "    [theme=dark] .colab-df-convert {\n",
              "      background-color: #3B4455;\n",
              "      fill: #D2E3FC;\n",
              "    }\n",
              "\n",
              "    [theme=dark] .colab-df-convert:hover {\n",
              "      background-color: #434B5C;\n",
              "      box-shadow: 0px 1px 3px 1px rgba(0, 0, 0, 0.15);\n",
              "      filter: drop-shadow(0px 1px 2px rgba(0, 0, 0, 0.3));\n",
              "      fill: #FFFFFF;\n",
              "    }\n",
              "  </style>\n",
              "\n",
              "      <script>\n",
              "        const buttonEl =\n",
              "          document.querySelector('#df-9e00f796-c151-43be-b9fe-234b8db300dc button.colab-df-convert');\n",
              "        buttonEl.style.display =\n",
              "          google.colab.kernel.accessAllowed ? 'block' : 'none';\n",
              "\n",
              "        async function convertToInteractive(key) {\n",
              "          const element = document.querySelector('#df-9e00f796-c151-43be-b9fe-234b8db300dc');\n",
              "          const dataTable =\n",
              "            await google.colab.kernel.invokeFunction('convertToInteractive',\n",
              "                                                     [key], {});\n",
              "          if (!dataTable) return;\n",
              "\n",
              "          const docLinkHtml = 'Like what you see? Visit the ' +\n",
              "            '<a target=\"_blank\" href=https://colab.research.google.com/notebooks/data_table.ipynb>data table notebook</a>'\n",
              "            + ' to learn more about interactive tables.';\n",
              "          element.innerHTML = '';\n",
              "          dataTable['output_type'] = 'display_data';\n",
              "          await google.colab.output.renderOutput(dataTable, element);\n",
              "          const docLink = document.createElement('div');\n",
              "          docLink.innerHTML = docLinkHtml;\n",
              "          element.appendChild(docLink);\n",
              "        }\n",
              "      </script>\n",
              "    </div>\n",
              "  </div>\n",
              "  "
            ]
          },
          "metadata": {},
          "execution_count": 73
        }
      ]
    },
    {
      "cell_type": "code",
      "source": [
        "y"
      ],
      "metadata": {
        "colab": {
          "base_uri": "https://localhost:8080/"
        },
        "id": "dJc6pNH8oR8p",
        "outputId": "ce1308ff-c12f-4321-c3c6-605d0b1126a1"
      },
      "execution_count": 74,
      "outputs": [
        {
          "output_type": "execute_result",
          "data": {
            "text/plain": [
              "0       3.130000e+05\n",
              "1       1.153094e+06\n",
              "2       3.420000e+05\n",
              "3       4.200000e+05\n",
              "4       5.500000e+05\n",
              "            ...     \n",
              "4595    3.081667e+05\n",
              "4596    5.343333e+05\n",
              "4597    4.169042e+05\n",
              "4598    2.034000e+05\n",
              "4599    2.206000e+05\n",
              "Name: price, Length: 4600, dtype: float64"
            ]
          },
          "metadata": {},
          "execution_count": 74
        }
      ]
    },
    {
      "cell_type": "code",
      "source": [
        "# Splitting the dataset into the Training set and Test set\n",
        "from sklearn.model_selection import train_test_split\n",
        "X_train, X_test, y_train, y_test = train_test_split(X, y, test_size = 0.2, random_state = 0)\n",
        "\n",
        "# Feature Scaling\n",
        "from sklearn.preprocessing import StandardScaler\n",
        "sc = StandardScaler()\n",
        "X_train = sc.fit_transform(X_train)\n",
        "X_test = sc.transform(X_test)"
      ],
      "metadata": {
        "id": "jFDYJSffoWaa"
      },
      "execution_count": 80,
      "outputs": []
    },
    {
      "cell_type": "code",
      "source": [
        "def build_model(hp):\n",
        "    model = keras.Sequential()\n",
        "    for i in range(hp.Int('num_layers', 2, 20)):\n",
        "        model.add(layers.Dense(units=hp.Int('units_' + str(i),\n",
        "                                            min_value=32,\n",
        "                                            max_value=512,\n",
        "                                            step=32),\n",
        "                               activation='relu'))\n",
        "    model.add(layers.Dense(1, activation='relu'))\n",
        "    model.compile(\n",
        "        optimizer=keras.optimizers.Adam(\n",
        "            hp.Choice('learning_rate', [1e-2, 1e-3, 1e-4])),\n",
        "        loss='mean_absolute_error',\n",
        "        metrics=['mean_absolute_error'])\n",
        "    return model"
      ],
      "metadata": {
        "id": "v_qqXbQUoYu2"
      },
      "execution_count": 81,
      "outputs": []
    },
    {
      "cell_type": "code",
      "source": [
        "tuner = RandomSearch(\n",
        "    build_model,\n",
        "    objective='val_mean_absolute_error',\n",
        "    max_trials=5,\n",
        "    executions_per_trial=3,\n",
        "    directory='project',\n",
        "    project_name='price prediction')"
      ],
      "metadata": {
        "colab": {
          "base_uri": "https://localhost:8080/"
        },
        "id": "4G7ndCPqoaj1",
        "outputId": "1aa39e82-1670-4ead-fec3-14ff0abb2efb"
      },
      "execution_count": 82,
      "outputs": [
        {
          "output_type": "stream",
          "name": "stdout",
          "text": [
            "INFO:tensorflow:Reloading Oracle from existing project project/price prediction/oracle.json\n",
            "INFO:tensorflow:Reloading Tuner from project/price prediction/tuner0.json\n"
          ]
        }
      ]
    },
    {
      "cell_type": "code",
      "source": [
        "tuner.search_space_summary()"
      ],
      "metadata": {
        "colab": {
          "base_uri": "https://localhost:8080/"
        },
        "id": "h33jZnEGocIQ",
        "outputId": "3aa50fcc-d7f5-465b-f736-d53577cde253"
      },
      "execution_count": 83,
      "outputs": [
        {
          "output_type": "stream",
          "name": "stdout",
          "text": [
            "Search space summary\n",
            "Default search space size: 22\n",
            "num_layers (Int)\n",
            "{'default': None, 'conditions': [], 'min_value': 2, 'max_value': 20, 'step': 1, 'sampling': None}\n",
            "units_0 (Int)\n",
            "{'default': None, 'conditions': [], 'min_value': 32, 'max_value': 512, 'step': 32, 'sampling': None}\n",
            "units_1 (Int)\n",
            "{'default': None, 'conditions': [], 'min_value': 32, 'max_value': 512, 'step': 32, 'sampling': None}\n",
            "learning_rate (Choice)\n",
            "{'default': 0.01, 'conditions': [], 'values': [0.01, 0.001, 0.0001], 'ordered': True}\n",
            "units_2 (Int)\n",
            "{'default': None, 'conditions': [], 'min_value': 32, 'max_value': 512, 'step': 32, 'sampling': None}\n",
            "units_3 (Int)\n",
            "{'default': None, 'conditions': [], 'min_value': 32, 'max_value': 512, 'step': 32, 'sampling': None}\n",
            "units_4 (Int)\n",
            "{'default': None, 'conditions': [], 'min_value': 32, 'max_value': 512, 'step': 32, 'sampling': None}\n",
            "units_5 (Int)\n",
            "{'default': None, 'conditions': [], 'min_value': 32, 'max_value': 512, 'step': 32, 'sampling': None}\n",
            "units_6 (Int)\n",
            "{'default': None, 'conditions': [], 'min_value': 32, 'max_value': 512, 'step': 32, 'sampling': None}\n",
            "units_7 (Int)\n",
            "{'default': None, 'conditions': [], 'min_value': 32, 'max_value': 512, 'step': 32, 'sampling': None}\n",
            "units_8 (Int)\n",
            "{'default': None, 'conditions': [], 'min_value': 32, 'max_value': 512, 'step': 32, 'sampling': None}\n",
            "units_9 (Int)\n",
            "{'default': None, 'conditions': [], 'min_value': 32, 'max_value': 512, 'step': 32, 'sampling': None}\n",
            "units_10 (Int)\n",
            "{'default': None, 'conditions': [], 'min_value': 32, 'max_value': 512, 'step': 32, 'sampling': None}\n",
            "units_11 (Int)\n",
            "{'default': None, 'conditions': [], 'min_value': 32, 'max_value': 512, 'step': 32, 'sampling': None}\n",
            "units_12 (Int)\n",
            "{'default': None, 'conditions': [], 'min_value': 32, 'max_value': 512, 'step': 32, 'sampling': None}\n",
            "units_13 (Int)\n",
            "{'default': None, 'conditions': [], 'min_value': 32, 'max_value': 512, 'step': 32, 'sampling': None}\n",
            "units_14 (Int)\n",
            "{'default': None, 'conditions': [], 'min_value': 32, 'max_value': 512, 'step': 32, 'sampling': None}\n",
            "units_15 (Int)\n",
            "{'default': None, 'conditions': [], 'min_value': 32, 'max_value': 512, 'step': 32, 'sampling': None}\n",
            "units_16 (Int)\n",
            "{'default': None, 'conditions': [], 'min_value': 32, 'max_value': 512, 'step': 32, 'sampling': None}\n",
            "units_17 (Int)\n",
            "{'default': None, 'conditions': [], 'min_value': 32, 'max_value': 512, 'step': 32, 'sampling': None}\n",
            "units_18 (Int)\n",
            "{'default': None, 'conditions': [], 'min_value': 32, 'max_value': 512, 'step': 32, 'sampling': None}\n",
            "units_19 (Int)\n",
            "{'default': None, 'conditions': [], 'min_value': 32, 'max_value': 512, 'step': 32, 'sampling': None}\n"
          ]
        }
      ]
    },
    {
      "cell_type": "code",
      "source": [
        "tuner.search(X_train, y_train,epochs=5,validation_data=(X_test, y_test))"
      ],
      "metadata": {
        "colab": {
          "base_uri": "https://localhost:8080/"
        },
        "id": "yn20H2OjoeDF",
        "outputId": "9509da86-0b54-43e5-a846-a1a51a3ba104"
      },
      "execution_count": 84,
      "outputs": [
        {
          "output_type": "stream",
          "name": "stdout",
          "text": [
            "INFO:tensorflow:Oracle triggered exit\n"
          ]
        }
      ]
    },
    {
      "cell_type": "code",
      "source": [
        "tuner.results_summary()"
      ],
      "metadata": {
        "colab": {
          "base_uri": "https://localhost:8080/"
        },
        "id": "jy0KVvUFoftn",
        "outputId": "73ca6aa3-c0d0-44b8-ad3e-fbe56582f2d8"
      },
      "execution_count": 85,
      "outputs": [
        {
          "output_type": "stream",
          "name": "stdout",
          "text": [
            "Results summary\n",
            "Results in project/price prediction\n",
            "Showing 10 best trials\n",
            "<keras_tuner.engine.objective.Objective object at 0x7f142d7037d0>\n",
            "Trial summary\n",
            "Hyperparameters:\n",
            "num_layers: 9\n",
            "units_0: 256\n",
            "units_1: 384\n",
            "learning_rate: 0.001\n",
            "units_2: 64\n",
            "units_3: 96\n",
            "units_4: 480\n",
            "units_5: 160\n",
            "units_6: 352\n",
            "units_7: 320\n",
            "units_8: 192\n",
            "units_9: 64\n",
            "units_10: 320\n",
            "units_11: 320\n",
            "units_12: 480\n",
            "units_13: 256\n",
            "units_14: 416\n",
            "units_15: 64\n",
            "units_16: 256\n",
            "units_17: 128\n",
            "units_18: 512\n",
            "units_19: 320\n",
            "Score: 158788.625\n",
            "Trial summary\n",
            "Hyperparameters:\n",
            "num_layers: 20\n",
            "units_0: 96\n",
            "units_1: 480\n",
            "learning_rate: 0.01\n",
            "units_2: 224\n",
            "units_3: 352\n",
            "units_4: 288\n",
            "units_5: 320\n",
            "units_6: 384\n",
            "units_7: 128\n",
            "units_8: 352\n",
            "units_9: 384\n",
            "units_10: 288\n",
            "units_11: 224\n",
            "units_12: 224\n",
            "units_13: 320\n",
            "units_14: 32\n",
            "units_15: 32\n",
            "units_16: 32\n",
            "units_17: 32\n",
            "units_18: 32\n",
            "units_19: 32\n",
            "Score: 160130.96875\n",
            "Trial summary\n",
            "Hyperparameters:\n",
            "num_layers: 9\n",
            "units_0: 256\n",
            "units_1: 192\n",
            "learning_rate: 0.001\n",
            "units_2: 384\n",
            "units_3: 96\n",
            "units_4: 288\n",
            "units_5: 320\n",
            "units_6: 160\n",
            "units_7: 256\n",
            "units_8: 352\n",
            "units_9: 96\n",
            "units_10: 160\n",
            "units_11: 224\n",
            "units_12: 128\n",
            "units_13: 224\n",
            "units_14: 448\n",
            "units_15: 32\n",
            "units_16: 128\n",
            "units_17: 352\n",
            "units_18: 256\n",
            "units_19: 128\n",
            "Score: 161226.16145833334\n",
            "Trial summary\n",
            "Hyperparameters:\n",
            "num_layers: 7\n",
            "units_0: 352\n",
            "units_1: 480\n",
            "learning_rate: 0.001\n",
            "units_2: 352\n",
            "units_3: 224\n",
            "units_4: 256\n",
            "units_5: 64\n",
            "units_6: 480\n",
            "units_7: 64\n",
            "units_8: 96\n",
            "units_9: 384\n",
            "units_10: 64\n",
            "units_11: 64\n",
            "units_12: 288\n",
            "units_13: 256\n",
            "Score: 161331.421875\n",
            "Trial summary\n",
            "Hyperparameters:\n",
            "num_layers: 14\n",
            "units_0: 96\n",
            "units_1: 32\n",
            "learning_rate: 0.0001\n",
            "units_2: 32\n",
            "units_3: 32\n",
            "units_4: 32\n",
            "units_5: 32\n",
            "units_6: 32\n",
            "units_7: 32\n",
            "units_8: 32\n",
            "units_9: 32\n",
            "units_10: 32\n",
            "units_11: 32\n",
            "units_12: 32\n",
            "units_13: 32\n",
            "Score: 185292.47916666666\n"
          ]
        }
      ]
    },
    {
      "cell_type": "code",
      "source": [
        "# Importing the libraries\n",
        "import numpy as np\n",
        "import matplotlib.pyplot as plt\n",
        "import pandas as pd"
      ],
      "metadata": {
        "id": "NoVqOO-Dpf6Y"
      },
      "execution_count": 44,
      "outputs": []
    },
    {
      "cell_type": "code",
      "source": [
        "from keras.models import Sequential\n",
        "from keras.layers import Dense, Activation, Embedding, Flatten, LeakyReLU, BatchNormalization, Dropout\n",
        "from keras.activations import relu, sigmoid\n",
        "from sklearn.preprocessing import StandardScaler"
      ],
      "metadata": {
        "id": "ySftEpamp8Mc"
      },
      "execution_count": 45,
      "outputs": []
    },
    {
      "cell_type": "code",
      "source": [
        "from keras.wrappers.scikit_learn import KerasClassifier\n",
        "from sklearn.model_selection import GridSearchCV"
      ],
      "metadata": {
        "id": "bVuo9_wjp9hx"
      },
      "execution_count": 46,
      "outputs": []
    },
    {
      "cell_type": "code",
      "source": [
        "def create_model(layers, activation):\n",
        "    model = Sequential()\n",
        "    for i, nodes in enumerate(layers):\n",
        "        if i==0:\n",
        "            model.add(Dense(nodes,input_dim=X_train.shape[1]))\n",
        "            model.add(Activation(activation))\n",
        "        else:\n",
        "            model.add(Dense(nodes))\n",
        "            model.add(Activation(activation))\n",
        "    model.add(Dense(1)) # Note: no activation beyond this point\n",
        "    \n",
        "    model.compile(optimizer='adam', loss='binary_crossentropy',metrics=['accuracy'])\n",
        "    return model\n",
        "    \n",
        "model = KerasClassifier(build_fn=create_model, verbose=0)"
      ],
      "metadata": {
        "colab": {
          "base_uri": "https://localhost:8080/"
        },
        "id": "CgwSHy7hqHnF",
        "outputId": "ce5e812e-d151-48e2-824c-abcddd9dd55b"
      },
      "execution_count": 47,
      "outputs": [
        {
          "output_type": "stream",
          "name": "stderr",
          "text": [
            "/usr/local/lib/python3.7/dist-packages/ipykernel_launcher.py:15: DeprecationWarning: KerasClassifier is deprecated, use Sci-Keras (https://github.com/adriangb/scikeras) instead. See https://www.adriangb.com/scikeras/stable/migration.html for help migrating.\n",
            "  from ipykernel import kernelapp as app\n"
          ]
        }
      ]
    },
    {
      "cell_type": "code",
      "source": [
        "layers = [[20], [40, 20], [45, 30, 15]]\n",
        "activations = ['sigmoid', 'relu']\n",
        "param_grid = dict(layers=layers, activation=activations, batch_size = [128, 256], epochs=[30])\n",
        "grid = GridSearchCV(estimator=model, param_grid=param_grid)"
      ],
      "metadata": {
        "id": "KaVQBcEoqJf1"
      },
      "execution_count": 48,
      "outputs": []
    },
    {
      "cell_type": "code",
      "source": [
        "grid_result = grid.fit(X_train, y_train)"
      ],
      "metadata": {
        "colab": {
          "base_uri": "https://localhost:8080/"
        },
        "id": "wBkrvGfYqM96",
        "outputId": "5c2b8314-e40c-430a-995d-059eeb251266"
      },
      "execution_count": 49,
      "outputs": [
        {
          "output_type": "stream",
          "name": "stdout",
          "text": [
            "WARNING:tensorflow:5 out of the last 16 calls to <function Model.make_test_function.<locals>.test_function at 0x7f5631650560> triggered tf.function retracing. Tracing is expensive and the excessive number of tracings could be due to (1) creating @tf.function repeatedly in a loop, (2) passing tensors with different shapes, (3) passing Python objects instead of tensors. For (1), please define your @tf.function outside of the loop. For (2), @tf.function has experimental_relax_shapes=True option that relaxes argument shapes that can avoid unnecessary retracing. For (3), please refer to https://www.tensorflow.org/guide/function#controlling_retracing and https://www.tensorflow.org/api_docs/python/tf/function for  more details.\n",
            "WARNING:tensorflow:5 out of the last 13 calls to <function Model.make_test_function.<locals>.test_function at 0x7f56317768c0> triggered tf.function retracing. Tracing is expensive and the excessive number of tracings could be due to (1) creating @tf.function repeatedly in a loop, (2) passing tensors with different shapes, (3) passing Python objects instead of tensors. For (1), please define your @tf.function outside of the loop. For (2), @tf.function has experimental_relax_shapes=True option that relaxes argument shapes that can avoid unnecessary retracing. For (3), please refer to https://www.tensorflow.org/guide/function#controlling_retracing and https://www.tensorflow.org/api_docs/python/tf/function for  more details.\n"
          ]
        }
      ]
    },
    {
      "cell_type": "code",
      "source": [
        "[grid_result.best_score_,grid_result.best_params_]"
      ],
      "metadata": {
        "colab": {
          "base_uri": "https://localhost:8080/"
        },
        "id": "nx7LK_S_qRRE",
        "outputId": "35c834cd-39aa-4ac4-b71c-ba050695c069"
      },
      "execution_count": 50,
      "outputs": [
        {
          "output_type": "execute_result",
          "data": {
            "text/plain": [
              "[0.008423913083970547,\n",
              " {'activation': 'sigmoid',\n",
              "  'batch_size': 256,\n",
              "  'epochs': 30,\n",
              "  'layers': [45, 30, 15]}]"
            ]
          },
          "metadata": {},
          "execution_count": 50
        }
      ]
    },
    {
      "cell_type": "code",
      "source": [
        "pred_y = grid.predict(X_test)"
      ],
      "metadata": {
        "id": "4lIrsNauqYHE"
      },
      "execution_count": 51,
      "outputs": []
    },
    {
      "cell_type": "code",
      "source": [
        "y_pred = (pred_y > 0.5)"
      ],
      "metadata": {
        "id": "Cl-D46U_qYJd"
      },
      "execution_count": 52,
      "outputs": []
    },
    {
      "cell_type": "code",
      "source": [
        "y_pred"
      ],
      "metadata": {
        "colab": {
          "base_uri": "https://localhost:8080/"
        },
        "id": "WtJ3W-vHqYL2",
        "outputId": "d28595e2-3e37-45d2-bbe2-e8e4c1401597"
      },
      "execution_count": 53,
      "outputs": [
        {
          "output_type": "execute_result",
          "data": {
            "text/plain": [
              "array([[False],\n",
              "       [False],\n",
              "       [False],\n",
              "       [False],\n",
              "       [False],\n",
              "       [False],\n",
              "       [False],\n",
              "       [False],\n",
              "       [False],\n",
              "       [False],\n",
              "       [False],\n",
              "       [False],\n",
              "       [False],\n",
              "       [False],\n",
              "       [False],\n",
              "       [False],\n",
              "       [False],\n",
              "       [False],\n",
              "       [False],\n",
              "       [False],\n",
              "       [False],\n",
              "       [False],\n",
              "       [False],\n",
              "       [False],\n",
              "       [False],\n",
              "       [False],\n",
              "       [False],\n",
              "       [False],\n",
              "       [False],\n",
              "       [False],\n",
              "       [False],\n",
              "       [False],\n",
              "       [False],\n",
              "       [False],\n",
              "       [False],\n",
              "       [False],\n",
              "       [False],\n",
              "       [False],\n",
              "       [False],\n",
              "       [False],\n",
              "       [False],\n",
              "       [False],\n",
              "       [False],\n",
              "       [False],\n",
              "       [False],\n",
              "       [False],\n",
              "       [False],\n",
              "       [False],\n",
              "       [False],\n",
              "       [False],\n",
              "       [False],\n",
              "       [False],\n",
              "       [False],\n",
              "       [False],\n",
              "       [False],\n",
              "       [False],\n",
              "       [False],\n",
              "       [False],\n",
              "       [False],\n",
              "       [False],\n",
              "       [False],\n",
              "       [False],\n",
              "       [False],\n",
              "       [False],\n",
              "       [False],\n",
              "       [False],\n",
              "       [False],\n",
              "       [False],\n",
              "       [False],\n",
              "       [False],\n",
              "       [False],\n",
              "       [False],\n",
              "       [False],\n",
              "       [False],\n",
              "       [False],\n",
              "       [False],\n",
              "       [False],\n",
              "       [False],\n",
              "       [False],\n",
              "       [False],\n",
              "       [False],\n",
              "       [False],\n",
              "       [False],\n",
              "       [False],\n",
              "       [False],\n",
              "       [False],\n",
              "       [False],\n",
              "       [False],\n",
              "       [False],\n",
              "       [False],\n",
              "       [False],\n",
              "       [False],\n",
              "       [False],\n",
              "       [False],\n",
              "       [False],\n",
              "       [False],\n",
              "       [False],\n",
              "       [False],\n",
              "       [False],\n",
              "       [False],\n",
              "       [False],\n",
              "       [False],\n",
              "       [False],\n",
              "       [False],\n",
              "       [False],\n",
              "       [False],\n",
              "       [False],\n",
              "       [False],\n",
              "       [False],\n",
              "       [False],\n",
              "       [False],\n",
              "       [False],\n",
              "       [False],\n",
              "       [False],\n",
              "       [False],\n",
              "       [False],\n",
              "       [False],\n",
              "       [False],\n",
              "       [False],\n",
              "       [False],\n",
              "       [False],\n",
              "       [False],\n",
              "       [False],\n",
              "       [False],\n",
              "       [False],\n",
              "       [False],\n",
              "       [False],\n",
              "       [False],\n",
              "       [False],\n",
              "       [False],\n",
              "       [False],\n",
              "       [False],\n",
              "       [False],\n",
              "       [False],\n",
              "       [False],\n",
              "       [False],\n",
              "       [False],\n",
              "       [False],\n",
              "       [False],\n",
              "       [False],\n",
              "       [False],\n",
              "       [False],\n",
              "       [False],\n",
              "       [False],\n",
              "       [False],\n",
              "       [False],\n",
              "       [False],\n",
              "       [False],\n",
              "       [False],\n",
              "       [False],\n",
              "       [False],\n",
              "       [False],\n",
              "       [False],\n",
              "       [False],\n",
              "       [False],\n",
              "       [False],\n",
              "       [False],\n",
              "       [False],\n",
              "       [False],\n",
              "       [False],\n",
              "       [False],\n",
              "       [False],\n",
              "       [False],\n",
              "       [False],\n",
              "       [False],\n",
              "       [False],\n",
              "       [False],\n",
              "       [False],\n",
              "       [False],\n",
              "       [False],\n",
              "       [False],\n",
              "       [False],\n",
              "       [False],\n",
              "       [False],\n",
              "       [False],\n",
              "       [False],\n",
              "       [False],\n",
              "       [False],\n",
              "       [False],\n",
              "       [False],\n",
              "       [False],\n",
              "       [False],\n",
              "       [False],\n",
              "       [False],\n",
              "       [False],\n",
              "       [False],\n",
              "       [False],\n",
              "       [False],\n",
              "       [False],\n",
              "       [False],\n",
              "       [False],\n",
              "       [False],\n",
              "       [False],\n",
              "       [False],\n",
              "       [False],\n",
              "       [False],\n",
              "       [False],\n",
              "       [False],\n",
              "       [False],\n",
              "       [False],\n",
              "       [False],\n",
              "       [False],\n",
              "       [False],\n",
              "       [False],\n",
              "       [False],\n",
              "       [False],\n",
              "       [False],\n",
              "       [False],\n",
              "       [False],\n",
              "       [False],\n",
              "       [False],\n",
              "       [False],\n",
              "       [False],\n",
              "       [False],\n",
              "       [False],\n",
              "       [False],\n",
              "       [False],\n",
              "       [False],\n",
              "       [False],\n",
              "       [False],\n",
              "       [False],\n",
              "       [False],\n",
              "       [False],\n",
              "       [False],\n",
              "       [False],\n",
              "       [False],\n",
              "       [False],\n",
              "       [False],\n",
              "       [False],\n",
              "       [False],\n",
              "       [False],\n",
              "       [False],\n",
              "       [False],\n",
              "       [False],\n",
              "       [False],\n",
              "       [False],\n",
              "       [False],\n",
              "       [False],\n",
              "       [False],\n",
              "       [False],\n",
              "       [False],\n",
              "       [False],\n",
              "       [False],\n",
              "       [False],\n",
              "       [False],\n",
              "       [False],\n",
              "       [False],\n",
              "       [False],\n",
              "       [False],\n",
              "       [False],\n",
              "       [False],\n",
              "       [False],\n",
              "       [False],\n",
              "       [False],\n",
              "       [False],\n",
              "       [False],\n",
              "       [False],\n",
              "       [False],\n",
              "       [False],\n",
              "       [False],\n",
              "       [False],\n",
              "       [False],\n",
              "       [False],\n",
              "       [False],\n",
              "       [False],\n",
              "       [False],\n",
              "       [False],\n",
              "       [False],\n",
              "       [False],\n",
              "       [False],\n",
              "       [False],\n",
              "       [False],\n",
              "       [False],\n",
              "       [False],\n",
              "       [False],\n",
              "       [False],\n",
              "       [False],\n",
              "       [False],\n",
              "       [False],\n",
              "       [False],\n",
              "       [False],\n",
              "       [False],\n",
              "       [False],\n",
              "       [False],\n",
              "       [False],\n",
              "       [False],\n",
              "       [False],\n",
              "       [False],\n",
              "       [False],\n",
              "       [False],\n",
              "       [False],\n",
              "       [False],\n",
              "       [False],\n",
              "       [False],\n",
              "       [False],\n",
              "       [False],\n",
              "       [False],\n",
              "       [False],\n",
              "       [False],\n",
              "       [False],\n",
              "       [False],\n",
              "       [False],\n",
              "       [False],\n",
              "       [False],\n",
              "       [False],\n",
              "       [False],\n",
              "       [False],\n",
              "       [False],\n",
              "       [False],\n",
              "       [False],\n",
              "       [False],\n",
              "       [False],\n",
              "       [False],\n",
              "       [False],\n",
              "       [False],\n",
              "       [False],\n",
              "       [False],\n",
              "       [False],\n",
              "       [False],\n",
              "       [False],\n",
              "       [False],\n",
              "       [False],\n",
              "       [False],\n",
              "       [False],\n",
              "       [False],\n",
              "       [False],\n",
              "       [False],\n",
              "       [False],\n",
              "       [False],\n",
              "       [False],\n",
              "       [False],\n",
              "       [False],\n",
              "       [False],\n",
              "       [False],\n",
              "       [False],\n",
              "       [False],\n",
              "       [False],\n",
              "       [False],\n",
              "       [False],\n",
              "       [False],\n",
              "       [False],\n",
              "       [False],\n",
              "       [False],\n",
              "       [False],\n",
              "       [False],\n",
              "       [False],\n",
              "       [False],\n",
              "       [False],\n",
              "       [False],\n",
              "       [False],\n",
              "       [False],\n",
              "       [False],\n",
              "       [False],\n",
              "       [False],\n",
              "       [False],\n",
              "       [False],\n",
              "       [False],\n",
              "       [False],\n",
              "       [False],\n",
              "       [False],\n",
              "       [False],\n",
              "       [False],\n",
              "       [False],\n",
              "       [False],\n",
              "       [False],\n",
              "       [False],\n",
              "       [False],\n",
              "       [False],\n",
              "       [False],\n",
              "       [False],\n",
              "       [False],\n",
              "       [False],\n",
              "       [False],\n",
              "       [False],\n",
              "       [False],\n",
              "       [False],\n",
              "       [False],\n",
              "       [False],\n",
              "       [False],\n",
              "       [False],\n",
              "       [False],\n",
              "       [False],\n",
              "       [False],\n",
              "       [False],\n",
              "       [False],\n",
              "       [False],\n",
              "       [False],\n",
              "       [False],\n",
              "       [False],\n",
              "       [False],\n",
              "       [False],\n",
              "       [False],\n",
              "       [False],\n",
              "       [False],\n",
              "       [False],\n",
              "       [False],\n",
              "       [False],\n",
              "       [False],\n",
              "       [False],\n",
              "       [False],\n",
              "       [False],\n",
              "       [False],\n",
              "       [False],\n",
              "       [False],\n",
              "       [False],\n",
              "       [False],\n",
              "       [False],\n",
              "       [False],\n",
              "       [False],\n",
              "       [False],\n",
              "       [False],\n",
              "       [False],\n",
              "       [False],\n",
              "       [False],\n",
              "       [False],\n",
              "       [False],\n",
              "       [False],\n",
              "       [False],\n",
              "       [False],\n",
              "       [False],\n",
              "       [False],\n",
              "       [False],\n",
              "       [False],\n",
              "       [False],\n",
              "       [False],\n",
              "       [False],\n",
              "       [False],\n",
              "       [False],\n",
              "       [False],\n",
              "       [False],\n",
              "       [False],\n",
              "       [False],\n",
              "       [False],\n",
              "       [False],\n",
              "       [False],\n",
              "       [False],\n",
              "       [False],\n",
              "       [False],\n",
              "       [False],\n",
              "       [False],\n",
              "       [False],\n",
              "       [False],\n",
              "       [False],\n",
              "       [False],\n",
              "       [False],\n",
              "       [False],\n",
              "       [False],\n",
              "       [False],\n",
              "       [False],\n",
              "       [False],\n",
              "       [False],\n",
              "       [False],\n",
              "       [False],\n",
              "       [False],\n",
              "       [False],\n",
              "       [False],\n",
              "       [False],\n",
              "       [False],\n",
              "       [False],\n",
              "       [False],\n",
              "       [False],\n",
              "       [False],\n",
              "       [False],\n",
              "       [False],\n",
              "       [False],\n",
              "       [False],\n",
              "       [False],\n",
              "       [False],\n",
              "       [False],\n",
              "       [False],\n",
              "       [False],\n",
              "       [False],\n",
              "       [False],\n",
              "       [False],\n",
              "       [False],\n",
              "       [False],\n",
              "       [False],\n",
              "       [False],\n",
              "       [False],\n",
              "       [False],\n",
              "       [False],\n",
              "       [False],\n",
              "       [False],\n",
              "       [False],\n",
              "       [False],\n",
              "       [False],\n",
              "       [False],\n",
              "       [False],\n",
              "       [False],\n",
              "       [False],\n",
              "       [False],\n",
              "       [False],\n",
              "       [False],\n",
              "       [False],\n",
              "       [False],\n",
              "       [False],\n",
              "       [False],\n",
              "       [False],\n",
              "       [False],\n",
              "       [False],\n",
              "       [False],\n",
              "       [False],\n",
              "       [False],\n",
              "       [False],\n",
              "       [False],\n",
              "       [False],\n",
              "       [False],\n",
              "       [False],\n",
              "       [False],\n",
              "       [False],\n",
              "       [False],\n",
              "       [False],\n",
              "       [False],\n",
              "       [False],\n",
              "       [False],\n",
              "       [False],\n",
              "       [False],\n",
              "       [False],\n",
              "       [False],\n",
              "       [False],\n",
              "       [False],\n",
              "       [False],\n",
              "       [False],\n",
              "       [False],\n",
              "       [False],\n",
              "       [False],\n",
              "       [False],\n",
              "       [False],\n",
              "       [False],\n",
              "       [False],\n",
              "       [False],\n",
              "       [False],\n",
              "       [False],\n",
              "       [False],\n",
              "       [False],\n",
              "       [False],\n",
              "       [False],\n",
              "       [False],\n",
              "       [False],\n",
              "       [False],\n",
              "       [False],\n",
              "       [False],\n",
              "       [False],\n",
              "       [False],\n",
              "       [False],\n",
              "       [False],\n",
              "       [False],\n",
              "       [False],\n",
              "       [False],\n",
              "       [False],\n",
              "       [False],\n",
              "       [False],\n",
              "       [False],\n",
              "       [False],\n",
              "       [False],\n",
              "       [False],\n",
              "       [False],\n",
              "       [False],\n",
              "       [False],\n",
              "       [False],\n",
              "       [False],\n",
              "       [False],\n",
              "       [False],\n",
              "       [False],\n",
              "       [False],\n",
              "       [False],\n",
              "       [False],\n",
              "       [False],\n",
              "       [False],\n",
              "       [False],\n",
              "       [False],\n",
              "       [False],\n",
              "       [False],\n",
              "       [False],\n",
              "       [False],\n",
              "       [False],\n",
              "       [False],\n",
              "       [False],\n",
              "       [False],\n",
              "       [False],\n",
              "       [False],\n",
              "       [False],\n",
              "       [False],\n",
              "       [False],\n",
              "       [False],\n",
              "       [False],\n",
              "       [False],\n",
              "       [False],\n",
              "       [False],\n",
              "       [False],\n",
              "       [False],\n",
              "       [False],\n",
              "       [False],\n",
              "       [False],\n",
              "       [False],\n",
              "       [False],\n",
              "       [False],\n",
              "       [False],\n",
              "       [False],\n",
              "       [False],\n",
              "       [False],\n",
              "       [False],\n",
              "       [False],\n",
              "       [False],\n",
              "       [False],\n",
              "       [False],\n",
              "       [False],\n",
              "       [False],\n",
              "       [False],\n",
              "       [False],\n",
              "       [False],\n",
              "       [False],\n",
              "       [False],\n",
              "       [False],\n",
              "       [False],\n",
              "       [False],\n",
              "       [False],\n",
              "       [False],\n",
              "       [False],\n",
              "       [False],\n",
              "       [False],\n",
              "       [False],\n",
              "       [False],\n",
              "       [False],\n",
              "       [False],\n",
              "       [False],\n",
              "       [False],\n",
              "       [False],\n",
              "       [False],\n",
              "       [False],\n",
              "       [False],\n",
              "       [False],\n",
              "       [False],\n",
              "       [False],\n",
              "       [False],\n",
              "       [False],\n",
              "       [False],\n",
              "       [False],\n",
              "       [False],\n",
              "       [False],\n",
              "       [False],\n",
              "       [False],\n",
              "       [False],\n",
              "       [False],\n",
              "       [False],\n",
              "       [False],\n",
              "       [False],\n",
              "       [False],\n",
              "       [False],\n",
              "       [False],\n",
              "       [False],\n",
              "       [False],\n",
              "       [False],\n",
              "       [False],\n",
              "       [False],\n",
              "       [False],\n",
              "       [False],\n",
              "       [False],\n",
              "       [False],\n",
              "       [False],\n",
              "       [False],\n",
              "       [False],\n",
              "       [False],\n",
              "       [False],\n",
              "       [False],\n",
              "       [False],\n",
              "       [False],\n",
              "       [False],\n",
              "       [False],\n",
              "       [False],\n",
              "       [False],\n",
              "       [False],\n",
              "       [False],\n",
              "       [False],\n",
              "       [False],\n",
              "       [False],\n",
              "       [False],\n",
              "       [False],\n",
              "       [False],\n",
              "       [False],\n",
              "       [False],\n",
              "       [False],\n",
              "       [False],\n",
              "       [False],\n",
              "       [False],\n",
              "       [False],\n",
              "       [False],\n",
              "       [False],\n",
              "       [False],\n",
              "       [False],\n",
              "       [False],\n",
              "       [False],\n",
              "       [False],\n",
              "       [False],\n",
              "       [False],\n",
              "       [False],\n",
              "       [False],\n",
              "       [False],\n",
              "       [False],\n",
              "       [False],\n",
              "       [False],\n",
              "       [False],\n",
              "       [False],\n",
              "       [False],\n",
              "       [False],\n",
              "       [False],\n",
              "       [False],\n",
              "       [False],\n",
              "       [False],\n",
              "       [False],\n",
              "       [False],\n",
              "       [False],\n",
              "       [False],\n",
              "       [False],\n",
              "       [False],\n",
              "       [False],\n",
              "       [False],\n",
              "       [False],\n",
              "       [False],\n",
              "       [False],\n",
              "       [False],\n",
              "       [False],\n",
              "       [False],\n",
              "       [False],\n",
              "       [False],\n",
              "       [False],\n",
              "       [False],\n",
              "       [False],\n",
              "       [False],\n",
              "       [False],\n",
              "       [False],\n",
              "       [False],\n",
              "       [False],\n",
              "       [False],\n",
              "       [False],\n",
              "       [False],\n",
              "       [False],\n",
              "       [False],\n",
              "       [False],\n",
              "       [False],\n",
              "       [False],\n",
              "       [False],\n",
              "       [False],\n",
              "       [False],\n",
              "       [False],\n",
              "       [False],\n",
              "       [False],\n",
              "       [False],\n",
              "       [False],\n",
              "       [False],\n",
              "       [False],\n",
              "       [False],\n",
              "       [False],\n",
              "       [False],\n",
              "       [False],\n",
              "       [False],\n",
              "       [False],\n",
              "       [False],\n",
              "       [False],\n",
              "       [False],\n",
              "       [False],\n",
              "       [False],\n",
              "       [False],\n",
              "       [False],\n",
              "       [False],\n",
              "       [False],\n",
              "       [False],\n",
              "       [False],\n",
              "       [False],\n",
              "       [False],\n",
              "       [False],\n",
              "       [False],\n",
              "       [False],\n",
              "       [False],\n",
              "       [False],\n",
              "       [False],\n",
              "       [False],\n",
              "       [False],\n",
              "       [False],\n",
              "       [False],\n",
              "       [False],\n",
              "       [False],\n",
              "       [False],\n",
              "       [False],\n",
              "       [False],\n",
              "       [False],\n",
              "       [False],\n",
              "       [False],\n",
              "       [False],\n",
              "       [False],\n",
              "       [False],\n",
              "       [False],\n",
              "       [False],\n",
              "       [False],\n",
              "       [False],\n",
              "       [False],\n",
              "       [False],\n",
              "       [False],\n",
              "       [False],\n",
              "       [False],\n",
              "       [False],\n",
              "       [False],\n",
              "       [False],\n",
              "       [False],\n",
              "       [False],\n",
              "       [False],\n",
              "       [False],\n",
              "       [False],\n",
              "       [False],\n",
              "       [False],\n",
              "       [False],\n",
              "       [False],\n",
              "       [False],\n",
              "       [False],\n",
              "       [False],\n",
              "       [False],\n",
              "       [False],\n",
              "       [False],\n",
              "       [False],\n",
              "       [False],\n",
              "       [False],\n",
              "       [False],\n",
              "       [False],\n",
              "       [False],\n",
              "       [False],\n",
              "       [False],\n",
              "       [False],\n",
              "       [False],\n",
              "       [False],\n",
              "       [False],\n",
              "       [False],\n",
              "       [False],\n",
              "       [False],\n",
              "       [False],\n",
              "       [False],\n",
              "       [False],\n",
              "       [False],\n",
              "       [False],\n",
              "       [False],\n",
              "       [False],\n",
              "       [False],\n",
              "       [False],\n",
              "       [False],\n",
              "       [False],\n",
              "       [False],\n",
              "       [False],\n",
              "       [False],\n",
              "       [False],\n",
              "       [False],\n",
              "       [False],\n",
              "       [False],\n",
              "       [False],\n",
              "       [False],\n",
              "       [False],\n",
              "       [False],\n",
              "       [False],\n",
              "       [False],\n",
              "       [False],\n",
              "       [False],\n",
              "       [False],\n",
              "       [False],\n",
              "       [False],\n",
              "       [False],\n",
              "       [False],\n",
              "       [False],\n",
              "       [False],\n",
              "       [False],\n",
              "       [False],\n",
              "       [False],\n",
              "       [False],\n",
              "       [False],\n",
              "       [False],\n",
              "       [False],\n",
              "       [False],\n",
              "       [False],\n",
              "       [False],\n",
              "       [False],\n",
              "       [False],\n",
              "       [False],\n",
              "       [False],\n",
              "       [False],\n",
              "       [False],\n",
              "       [False],\n",
              "       [False],\n",
              "       [False],\n",
              "       [False],\n",
              "       [False],\n",
              "       [False],\n",
              "       [False],\n",
              "       [False],\n",
              "       [False],\n",
              "       [False],\n",
              "       [False],\n",
              "       [False],\n",
              "       [False],\n",
              "       [False],\n",
              "       [False],\n",
              "       [False],\n",
              "       [False],\n",
              "       [False],\n",
              "       [False],\n",
              "       [False],\n",
              "       [False],\n",
              "       [False],\n",
              "       [False],\n",
              "       [False],\n",
              "       [False],\n",
              "       [False],\n",
              "       [False],\n",
              "       [False],\n",
              "       [False],\n",
              "       [False],\n",
              "       [False],\n",
              "       [False],\n",
              "       [False],\n",
              "       [False],\n",
              "       [False],\n",
              "       [False],\n",
              "       [False],\n",
              "       [False]])"
            ]
          },
          "metadata": {},
          "execution_count": 53
        }
      ]
    },
    {
      "cell_type": "code",
      "source": [
        "from sklearn.metrics import confusion_matrix\n",
        "cm = confusion_matrix(y_test, y_pred)"
      ],
      "metadata": {
        "colab": {
          "base_uri": "https://localhost:8080/",
          "height": 380
        },
        "id": "vw-vCFNRqYPW",
        "outputId": "b943a96b-3272-4fcc-a15d-55db7c4d7b4c"
      },
      "execution_count": 54,
      "outputs": [
        {
          "output_type": "error",
          "ename": "ValueError",
          "evalue": "ignored",
          "traceback": [
            "\u001b[0;31m---------------------------------------------------------------------------\u001b[0m",
            "\u001b[0;31mValueError\u001b[0m                                Traceback (most recent call last)",
            "\u001b[0;32m<ipython-input-54-9aea565ff4c1>\u001b[0m in \u001b[0;36m<module>\u001b[0;34m()\u001b[0m\n\u001b[1;32m      1\u001b[0m \u001b[0;32mfrom\u001b[0m \u001b[0msklearn\u001b[0m\u001b[0;34m.\u001b[0m\u001b[0mmetrics\u001b[0m \u001b[0;32mimport\u001b[0m \u001b[0mconfusion_matrix\u001b[0m\u001b[0;34m\u001b[0m\u001b[0;34m\u001b[0m\u001b[0m\n\u001b[0;32m----> 2\u001b[0;31m \u001b[0mcm\u001b[0m \u001b[0;34m=\u001b[0m \u001b[0mconfusion_matrix\u001b[0m\u001b[0;34m(\u001b[0m\u001b[0my_test\u001b[0m\u001b[0;34m,\u001b[0m \u001b[0my_pred\u001b[0m\u001b[0;34m)\u001b[0m\u001b[0;34m\u001b[0m\u001b[0;34m\u001b[0m\u001b[0m\n\u001b[0m",
            "\u001b[0;32m/usr/local/lib/python3.7/dist-packages/sklearn/metrics/_classification.py\u001b[0m in \u001b[0;36mconfusion_matrix\u001b[0;34m(y_true, y_pred, labels, sample_weight, normalize)\u001b[0m\n\u001b[1;32m    305\u001b[0m     \u001b[0;34m(\u001b[0m\u001b[0;36m0\u001b[0m\u001b[0;34m,\u001b[0m \u001b[0;36m2\u001b[0m\u001b[0;34m,\u001b[0m \u001b[0;36m1\u001b[0m\u001b[0;34m,\u001b[0m \u001b[0;36m1\u001b[0m\u001b[0;34m)\u001b[0m\u001b[0;34m\u001b[0m\u001b[0;34m\u001b[0m\u001b[0m\n\u001b[1;32m    306\u001b[0m     \"\"\"\n\u001b[0;32m--> 307\u001b[0;31m     \u001b[0my_type\u001b[0m\u001b[0;34m,\u001b[0m \u001b[0my_true\u001b[0m\u001b[0;34m,\u001b[0m \u001b[0my_pred\u001b[0m \u001b[0;34m=\u001b[0m \u001b[0m_check_targets\u001b[0m\u001b[0;34m(\u001b[0m\u001b[0my_true\u001b[0m\u001b[0;34m,\u001b[0m \u001b[0my_pred\u001b[0m\u001b[0;34m)\u001b[0m\u001b[0;34m\u001b[0m\u001b[0;34m\u001b[0m\u001b[0m\n\u001b[0m\u001b[1;32m    308\u001b[0m     \u001b[0;32mif\u001b[0m \u001b[0my_type\u001b[0m \u001b[0;32mnot\u001b[0m \u001b[0;32min\u001b[0m \u001b[0;34m(\u001b[0m\u001b[0;34m\"binary\"\u001b[0m\u001b[0;34m,\u001b[0m \u001b[0;34m\"multiclass\"\u001b[0m\u001b[0;34m)\u001b[0m\u001b[0;34m:\u001b[0m\u001b[0;34m\u001b[0m\u001b[0;34m\u001b[0m\u001b[0m\n\u001b[1;32m    309\u001b[0m         \u001b[0;32mraise\u001b[0m \u001b[0mValueError\u001b[0m\u001b[0;34m(\u001b[0m\u001b[0;34m\"%s is not supported\"\u001b[0m \u001b[0;34m%\u001b[0m \u001b[0my_type\u001b[0m\u001b[0;34m)\u001b[0m\u001b[0;34m\u001b[0m\u001b[0;34m\u001b[0m\u001b[0m\n",
            "\u001b[0;32m/usr/local/lib/python3.7/dist-packages/sklearn/metrics/_classification.py\u001b[0m in \u001b[0;36m_check_targets\u001b[0;34m(y_true, y_pred)\u001b[0m\n\u001b[1;32m     93\u001b[0m         raise ValueError(\n\u001b[1;32m     94\u001b[0m             \"Classification metrics can't handle a mix of {0} and {1} targets\".format(\n\u001b[0;32m---> 95\u001b[0;31m                 \u001b[0mtype_true\u001b[0m\u001b[0;34m,\u001b[0m \u001b[0mtype_pred\u001b[0m\u001b[0;34m\u001b[0m\u001b[0;34m\u001b[0m\u001b[0m\n\u001b[0m\u001b[1;32m     96\u001b[0m             )\n\u001b[1;32m     97\u001b[0m         )\n",
            "\u001b[0;31mValueError\u001b[0m: Classification metrics can't handle a mix of continuous and binary targets"
          ]
        }
      ]
    },
    {
      "cell_type": "code",
      "source": [
        "cm"
      ],
      "metadata": {
        "id": "pB2ULacMqgpb"
      },
      "execution_count": null,
      "outputs": []
    },
    {
      "cell_type": "code",
      "source": [
        "from sklearn.metrics import accuracy_score\n",
        "score=accuracy_score(y_test,y_pred)"
      ],
      "metadata": {
        "colab": {
          "base_uri": "https://localhost:8080/",
          "height": 380
        },
        "id": "lC8JLMZ7qg0g",
        "outputId": "df095afe-c1eb-4d7c-dc3f-429ee13cae83"
      },
      "execution_count": 55,
      "outputs": [
        {
          "output_type": "error",
          "ename": "ValueError",
          "evalue": "ignored",
          "traceback": [
            "\u001b[0;31m---------------------------------------------------------------------------\u001b[0m",
            "\u001b[0;31mValueError\u001b[0m                                Traceback (most recent call last)",
            "\u001b[0;32m<ipython-input-55-2e50113cbe44>\u001b[0m in \u001b[0;36m<module>\u001b[0;34m()\u001b[0m\n\u001b[1;32m      1\u001b[0m \u001b[0;32mfrom\u001b[0m \u001b[0msklearn\u001b[0m\u001b[0;34m.\u001b[0m\u001b[0mmetrics\u001b[0m \u001b[0;32mimport\u001b[0m \u001b[0maccuracy_score\u001b[0m\u001b[0;34m\u001b[0m\u001b[0;34m\u001b[0m\u001b[0m\n\u001b[0;32m----> 2\u001b[0;31m \u001b[0mscore\u001b[0m\u001b[0;34m=\u001b[0m\u001b[0maccuracy_score\u001b[0m\u001b[0;34m(\u001b[0m\u001b[0my_test\u001b[0m\u001b[0;34m,\u001b[0m\u001b[0my_pred\u001b[0m\u001b[0;34m)\u001b[0m\u001b[0;34m\u001b[0m\u001b[0;34m\u001b[0m\u001b[0m\n\u001b[0m",
            "\u001b[0;32m/usr/local/lib/python3.7/dist-packages/sklearn/metrics/_classification.py\u001b[0m in \u001b[0;36maccuracy_score\u001b[0;34m(y_true, y_pred, normalize, sample_weight)\u001b[0m\n\u001b[1;32m    209\u001b[0m \u001b[0;34m\u001b[0m\u001b[0m\n\u001b[1;32m    210\u001b[0m     \u001b[0;31m# Compute accuracy for each possible representation\u001b[0m\u001b[0;34m\u001b[0m\u001b[0;34m\u001b[0m\u001b[0;34m\u001b[0m\u001b[0m\n\u001b[0;32m--> 211\u001b[0;31m     \u001b[0my_type\u001b[0m\u001b[0;34m,\u001b[0m \u001b[0my_true\u001b[0m\u001b[0;34m,\u001b[0m \u001b[0my_pred\u001b[0m \u001b[0;34m=\u001b[0m \u001b[0m_check_targets\u001b[0m\u001b[0;34m(\u001b[0m\u001b[0my_true\u001b[0m\u001b[0;34m,\u001b[0m \u001b[0my_pred\u001b[0m\u001b[0;34m)\u001b[0m\u001b[0;34m\u001b[0m\u001b[0;34m\u001b[0m\u001b[0m\n\u001b[0m\u001b[1;32m    212\u001b[0m     \u001b[0mcheck_consistent_length\u001b[0m\u001b[0;34m(\u001b[0m\u001b[0my_true\u001b[0m\u001b[0;34m,\u001b[0m \u001b[0my_pred\u001b[0m\u001b[0;34m,\u001b[0m \u001b[0msample_weight\u001b[0m\u001b[0;34m)\u001b[0m\u001b[0;34m\u001b[0m\u001b[0;34m\u001b[0m\u001b[0m\n\u001b[1;32m    213\u001b[0m     \u001b[0;32mif\u001b[0m \u001b[0my_type\u001b[0m\u001b[0;34m.\u001b[0m\u001b[0mstartswith\u001b[0m\u001b[0;34m(\u001b[0m\u001b[0;34m\"multilabel\"\u001b[0m\u001b[0;34m)\u001b[0m\u001b[0;34m:\u001b[0m\u001b[0;34m\u001b[0m\u001b[0;34m\u001b[0m\u001b[0m\n",
            "\u001b[0;32m/usr/local/lib/python3.7/dist-packages/sklearn/metrics/_classification.py\u001b[0m in \u001b[0;36m_check_targets\u001b[0;34m(y_true, y_pred)\u001b[0m\n\u001b[1;32m     93\u001b[0m         raise ValueError(\n\u001b[1;32m     94\u001b[0m             \"Classification metrics can't handle a mix of {0} and {1} targets\".format(\n\u001b[0;32m---> 95\u001b[0;31m                 \u001b[0mtype_true\u001b[0m\u001b[0;34m,\u001b[0m \u001b[0mtype_pred\u001b[0m\u001b[0;34m\u001b[0m\u001b[0;34m\u001b[0m\u001b[0m\n\u001b[0m\u001b[1;32m     96\u001b[0m             )\n\u001b[1;32m     97\u001b[0m         )\n",
            "\u001b[0;31mValueError\u001b[0m: Classification metrics can't handle a mix of continuous and binary targets"
          ]
        }
      ]
    },
    {
      "cell_type": "code",
      "source": [
        "score"
      ],
      "metadata": {
        "colab": {
          "base_uri": "https://localhost:8080/",
          "height": 165
        },
        "id": "tnCaVEi_qg3_",
        "outputId": "ec485083-0841-408d-8e8b-57bdda75753b"
      },
      "execution_count": 56,
      "outputs": [
        {
          "output_type": "error",
          "ename": "NameError",
          "evalue": "ignored",
          "traceback": [
            "\u001b[0;31m---------------------------------------------------------------------------\u001b[0m",
            "\u001b[0;31mNameError\u001b[0m                                 Traceback (most recent call last)",
            "\u001b[0;32m<ipython-input-56-d2d780e36333>\u001b[0m in \u001b[0;36m<module>\u001b[0;34m()\u001b[0m\n\u001b[0;32m----> 1\u001b[0;31m \u001b[0mscore\u001b[0m\u001b[0;34m\u001b[0m\u001b[0;34m\u001b[0m\u001b[0m\n\u001b[0m",
            "\u001b[0;31mNameError\u001b[0m: name 'score' is not defined"
          ]
        }
      ]
    }
  ]
}