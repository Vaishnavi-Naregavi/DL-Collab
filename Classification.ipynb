{
  "nbformat": 4,
  "nbformat_minor": 0,
  "metadata": {
    "colab": {
      "name": "Classification.ipynb",
      "provenance": [],
      "collapsed_sections": [],
      "authorship_tag": "ABX9TyO4QnH6sW9Cnufq0Jgpmo/z",
      "include_colab_link": true
    },
    "kernelspec": {
      "name": "python3",
      "display_name": "Python 3"
    },
    "language_info": {
      "name": "python"
    }
  },
  "cells": [
    {
      "cell_type": "markdown",
      "metadata": {
        "id": "view-in-github",
        "colab_type": "text"
      },
      "source": [
        "<a href=\"https://colab.research.google.com/github/Vaishnavi-Naregavi/DL-Collab/blob/main/Classification.ipynb\" target=\"_parent\"><img src=\"https://colab.research.google.com/assets/colab-badge.svg\" alt=\"Open In Colab\"/></a>"
      ]
    },
    {
      "cell_type": "code",
      "execution_count": null,
      "metadata": {
        "id": "nJaONDoL7-H2"
      },
      "outputs": [],
      "source": [
        ""
      ]
    },
    {
      "cell_type": "code",
      "source": [
        "from google.colab import drive\n",
        "drive.mount('/content/drive')"
      ],
      "metadata": {
        "colab": {
          "base_uri": "https://localhost:8080/"
        },
        "id": "bL-1CoXa8A49",
        "outputId": "aa2086e9-cebb-4d57-b3be-00deaaf29a7d"
      },
      "execution_count": 5,
      "outputs": [
        {
          "output_type": "stream",
          "name": "stdout",
          "text": [
            "Mounted at /content/drive\n"
          ]
        }
      ]
    },
    {
      "cell_type": "markdown",
      "source": [
        "KNN Classification methods"
      ],
      "metadata": {
        "id": "XsX5pSwprePy"
      }
    },
    {
      "cell_type": "code",
      "source": [
        "class classifier:                   #clreating a class classifier\n",
        "  def __init__(self,k=4):           #defining a function to assign value of k\n",
        "    self.k=k                        #self is an accessing variable of that class and the value of k is assigned to it's instance        \n",
        "  \n",
        "  \n",
        "  def fit(self,X,Y):                #creating a function to the fit the data in the model  \n",
        "    assert len(X)==len(Y)           #using assert method to compare the lenght of X set and Y set\n",
        "    self.X_train=X                  #assigning the value of X\n",
        "    self.Y_train=Y                  #assigning the value of Y\n",
        "\n",
        "  def distance(self,x1,x2):         #defining a function for calculating Euclideans distance\n",
        "    x1,x2 = np.array(x1),np.array(x2)#converting the values to arrays\n",
        "    distance=0                      #initializing distance as 0\n",
        "    for i in range(len(x1)-1):      #executing the for loop for len(x1)-1 times \n",
        "      distance+=(x1[i]-x2[i])**2    #calulating the distance\n",
        "    return np.sqrt(distance)        #returning the square root of the calculated distance\n",
        "\n",
        "  def predict(self,X_test):\n",
        "    sorted_output = []              #instantiating empty list to store sorted outputs\n",
        "    for i in range(len(X_test)):    #to iterate tillthe length of X_test\n",
        "      distances = []                #hold the value of distance calculations\n",
        "      neighbors = []                #to store the neighbours\n",
        "      for j in range(len(self.X_train)): #executing this loop so that X_train data gets fitted in the model\n",
        "        dist = self.distance(self.X_train[j],X_test[i]) #this will calculate distance using the instance of X_train data and the overall distance of the X_test data\n",
        "        distances.append([dist,j])  #the above calulation is added to the distance list  \n",
        "      distances.sort()              #the list is sorted\n",
        "      distances = distances[0:self.k] #slicing the list down to its mostr relevant data points  i.e. 0:k, where k is  the total number of neighbors\n",
        "      for _, j in distances:        #loop for each instance in the sliced distances\n",
        "        neighbors.append(self.Y_train[j]) #it appends the Y_train value of the instance to the list\n",
        "      ans = max(neighbors)          #max from the list of possible neighbors is stored \n",
        "      sorted_output.append(ans)     #the max value is appended to the sorted list\n",
        "    return sorted_output            #returniong the sorted output\n",
        "\n",
        "  def score(self,X_test,Y_test):    #function for calculating final score for prediction\n",
        "    predictions = self.predict(X_test) #creating a list of predictions taken by executing the X_test and passing it through predict method\n",
        "    return(predictions == Y_test).sum()/len(Y_test)   #taking the predictions with the Y_test and summing the value, dividing it by the lenght of the Y_test to give us the percentage"
      ],
      "metadata": {
        "id": "WTIVKYJTFR7V"
      },
      "execution_count": 10,
      "outputs": []
    },
    {
      "cell_type": "markdown",
      "source": [
        "Data"
      ],
      "metadata": {
        "id": "r_bbFKJBrmgM"
      }
    },
    {
      "cell_type": "code",
      "source": [
        "from sklearn.neighbors import KNeighborsClassifier\n",
        "from sklearn.model_selection import train_test_split\n",
        "from sklearn.datasets import load_iris\n",
        "iris = load_iris()"
      ],
      "metadata": {
        "id": "xwnKFh8FAbGz"
      },
      "execution_count": 18,
      "outputs": []
    },
    {
      "cell_type": "markdown",
      "source": [
        "Running the data through train, test and split "
      ],
      "metadata": {
        "id": "nQqC6C43rvlT"
      }
    },
    {
      "cell_type": "code",
      "source": [
        "da = iris.data\n",
        "df = iris.target\n",
        "X_train, X_test, Y_train, Y_test = train_test_split(da, df, random_state = 42, test_size=0.2)"
      ],
      "metadata": {
        "id": "3dY6OAivmo89"
      },
      "execution_count": 19,
      "outputs": []
    },
    {
      "cell_type": "markdown",
      "source": [
        "Casting the class to a variable and setting the number of neighbors"
      ],
      "metadata": {
        "id": "SxtZDnc4r55u"
      }
    },
    {
      "cell_type": "code",
      "source": [
        "testing_neighbors = classifier(k=3)"
      ],
      "metadata": {
        "id": "cQWIkQFLpoWH"
      },
      "execution_count": 20,
      "outputs": []
    },
    {
      "cell_type": "markdown",
      "source": [
        "Fitting the model to the training data"
      ],
      "metadata": {
        "id": "bbBxnI6esFYd"
      }
    },
    {
      "cell_type": "code",
      "source": [
        "testing_neighbors.fit(X_train, Y_train)"
      ],
      "metadata": {
        "id": "M16UjQSDp0Be"
      },
      "execution_count": 21,
      "outputs": []
    },
    {
      "cell_type": "markdown",
      "source": [
        "Prediction process, yields an array with T/F as 1 or 0 for successful guess of proper classification"
      ],
      "metadata": {
        "id": "5mmweqXKsNyU"
      }
    },
    {
      "cell_type": "code",
      "source": [
        "prediction = testing_neighbors.predict(X_test)"
      ],
      "metadata": {
        "id": "pkUg6EC1p7bC"
      },
      "execution_count": 22,
      "outputs": []
    },
    {
      "cell_type": "markdown",
      "source": [
        "Accuracy of the prediction"
      ],
      "metadata": {
        "id": "A-SdhmU8skXt"
      }
    },
    {
      "cell_type": "code",
      "source": [
        "res_pred = testing_neighbors.score(X_test, Y_test)\n",
        "print(res_pred)"
      ],
      "metadata": {
        "colab": {
          "base_uri": "https://localhost:8080/"
        },
        "id": "KhpV6CTnqGAz",
        "outputId": "498754e2-8036-4695-e6e7-76ab133679b4"
      },
      "execution_count": 24,
      "outputs": [
        {
          "output_type": "stream",
          "name": "stdout",
          "text": [
            "0.9666666666666667\n"
          ]
        }
      ]
    },
    {
      "cell_type": "markdown",
      "source": [
        "For checking accuracy with inbuilt libraries"
      ],
      "metadata": {
        "id": "DTYzbQ9asr4V"
      }
    },
    {
      "cell_type": "code",
      "source": [
        "neigh = KNeighborsClassifier(n_neighbors=3)"
      ],
      "metadata": {
        "id": "78YHo3ARqp8M"
      },
      "execution_count": 25,
      "outputs": []
    },
    {
      "cell_type": "markdown",
      "source": [
        "Fitting the training data into the model"
      ],
      "metadata": {
        "id": "ioP-nRgFs934"
      }
    },
    {
      "cell_type": "code",
      "source": [
        "neigh.fit(X_train, Y_train)"
      ],
      "metadata": {
        "colab": {
          "base_uri": "https://localhost:8080/"
        },
        "id": "KWwt8_Avq1GE",
        "outputId": "eba2d726-e24c-46a9-bbc5-0a97b93567ae"
      },
      "execution_count": 26,
      "outputs": [
        {
          "output_type": "execute_result",
          "data": {
            "text/plain": [
              "KNeighborsClassifier(n_neighbors=3)"
            ]
          },
          "metadata": {},
          "execution_count": 26
        }
      ]
    },
    {
      "cell_type": "markdown",
      "source": [
        "Prediction"
      ],
      "metadata": {
        "id": "HIf4P8bEtR8p"
      }
    },
    {
      "cell_type": "code",
      "source": [
        "act_pred = neigh.score(X_test, Y_test)\n",
        "print(act_pred)"
      ],
      "metadata": {
        "colab": {
          "base_uri": "https://localhost:8080/"
        },
        "id": "oXvg0ZEcq6cn",
        "outputId": "e4dbad0f-1ffa-43a2-f5fd-b978fbd6c159"
      },
      "execution_count": 28,
      "outputs": [
        {
          "output_type": "stream",
          "name": "stdout",
          "text": [
            "1.0\n"
          ]
        }
      ]
    },
    {
      "cell_type": "code",
      "source": [
        ""
      ],
      "metadata": {
        "id": "OynPh1-0rC7L"
      },
      "execution_count": null,
      "outputs": []
    }
  ]
}