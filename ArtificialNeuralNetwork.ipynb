{
  "nbformat": 4,
  "nbformat_minor": 0,
  "metadata": {
    "colab": {
      "name": "ArtificialNeuralNetwork.ipynb",
      "provenance": [],
      "collapsed_sections": [],
      "include_colab_link": true
    },
    "kernelspec": {
      "name": "python3",
      "display_name": "Python 3"
    },
    "language_info": {
      "name": "python"
    }
  },
  "cells": [
    {
      "cell_type": "markdown",
      "metadata": {
        "id": "view-in-github",
        "colab_type": "text"
      },
      "source": [
        "<a href=\"https://colab.research.google.com/github/Vaishnavi-Naregavi/DL-Collab/blob/main/ArtificialNeuralNetwork.ipynb\" target=\"_parent\"><img src=\"https://colab.research.google.com/assets/colab-badge.svg\" alt=\"Open In Colab\"/></a>"
      ]
    },
    {
      "cell_type": "code",
      "execution_count": null,
      "metadata": {
        "id": "-DcGUDk6bjlH"
      },
      "outputs": [],
      "source": [
        "from google.colab import drive\n",
        "\n",
        "drive.mount('/content/drive')"
      ]
    },
    {
      "cell_type": "code",
      "source": [
        "from tensorflow.keras.models import Sequential\n",
        "from tensorflow.keras.layers import Dense,Dropout\n",
        "from sklearn.model_selection import train_test_split\n",
        "from tensorflow.keras.utils import plot_model\n",
        "from numpy import loadtxt\n",
        "import pandas as pd\n",
        "from tensorflow.keras.losses import MeanSquaredLogarithmicError\n",
        "from tensorflow.keras.optimizers import Adam\n",
        "import matplotlib.pyplot as plt\n",
        "import numpy as np\n"
      ],
      "metadata": {
        "id": "_IqIK02GblLP"
      },
      "execution_count": null,
      "outputs": []
    },
    {
      "cell_type": "code",
      "source": [
        "# dataset = loadtxt('/content/drive/MyDrive/Datasets/Tetuan City power consumption.csv',delimiter=',')\n",
        "data = pd.read_csv('/content/drive/MyDrive/Datasets/Tetuan City power consumption.csv')\n",
        "data\n",
        "x = data.iloc[:,0:7]\n",
        "y=data.iloc[:,-1]\n",
        "\n",
        "x_train,x_test,y_train,y_test = train_test_split(x,y,test_size=0.3,random_state=10)\n",
        "\n",
        "print(x_train.shape,x_test.shape,y_train.shape,y_test.shape)"
      ],
      "metadata": {
        "colab": {
          "base_uri": "https://localhost:8080/"
        },
        "id": "qX57PwAmbzOx",
        "outputId": "fcdf57b2-f20a-409a-959c-62f53e3792df"
      },
      "execution_count": null,
      "outputs": [
        {
          "output_type": "stream",
          "name": "stdout",
          "text": [
            "(36691, 7) (15725, 7) (36691,) (15725,)\n"
          ]
        }
      ]
    },
    {
      "cell_type": "code",
      "source": [
        "y"
      ],
      "metadata": {
        "colab": {
          "base_uri": "https://localhost:8080/"
        },
        "id": "j2l9hxUsir7X",
        "outputId": "fcf78b34-0974-476d-96fb-783976d56226"
      },
      "execution_count": null,
      "outputs": [
        {
          "output_type": "execute_result",
          "data": {
            "text/plain": [
              "0        20240.96386\n",
              "1        20131.08434\n",
              "2        19668.43373\n",
              "3        18899.27711\n",
              "4        18442.40964\n",
              "            ...     \n",
              "52411    14780.31212\n",
              "52412    14428.81152\n",
              "52413    13806.48259\n",
              "52414    13512.60504\n",
              "52415    13345.49820\n",
              "Name: Zone 3  Power Consumption, Length: 52416, dtype: float64"
            ]
          },
          "metadata": {},
          "execution_count": 54
        }
      ]
    },
    {
      "cell_type": "code",
      "source": [
        "hidden_units1 = 160\n",
        "hidden_units2 = 480\n",
        "hidden_units3 = 256\n",
        "learning_rate = 0.01\n",
        "# Creating model using the Sequential in tensorflow\n",
        "def build_model_using_sequential():\n",
        "  model = Sequential([\n",
        "    Dense(hidden_units1, kernel_initializer='normal', activation='relu'),\n",
        "    Dropout(0.2),\n",
        "    Dense(hidden_units2, kernel_initializer='normal', activation='relu'),\n",
        "    Dropout(0.2),\n",
        "    Dense(hidden_units3, kernel_initializer='normal', activation='relu'),\n",
        "    Dense(1, kernel_initializer='normal', activation='linear')\n",
        "  ])\n",
        "  return model"
      ],
      "metadata": {
        "id": "8g074GObb-u4"
      },
      "execution_count": null,
      "outputs": []
    },
    {
      "cell_type": "code",
      "source": [
        "model = build_model_using_sequential()"
      ],
      "metadata": {
        "id": "ppEoFIUhf2fL"
      },
      "execution_count": null,
      "outputs": []
    },
    {
      "cell_type": "code",
      "source": [
        "# loss function\n",
        "msle = MeanSquaredLogarithmicError()\n",
        "model.compile(\n",
        "    loss=msle, \n",
        "    optimizer=Adam(learning_rate=learning_rate), \n",
        "    metrics=[msle]\n",
        ")\n",
        "# train the model\n",
        "history = model.fit(\n",
        "    x_train.values, \n",
        "    y_train.values, \n",
        "    epochs=10, \n",
        "    batch_size=64,\n",
        "    validation_split=0.2\n",
        ")"
      ],
      "metadata": {
        "colab": {
          "base_uri": "https://localhost:8080/"
        },
        "id": "3Tjcb3kOfc00",
        "outputId": "7dd0b8cf-c99e-4d16-dd7c-7569fae93ab1"
      },
      "execution_count": null,
      "outputs": [
        {
          "output_type": "stream",
          "name": "stdout",
          "text": [
            "Epoch 1/10\n",
            "459/459 [==============================] - 3s 6ms/step - loss: 1.2014 - mean_squared_logarithmic_error: 1.2005 - val_loss: 0.0729 - val_mean_squared_logarithmic_error: 0.0729\n",
            "Epoch 2/10\n",
            "459/459 [==============================] - 3s 6ms/step - loss: 0.0600 - mean_squared_logarithmic_error: 0.0600 - val_loss: 0.0565 - val_mean_squared_logarithmic_error: 0.0565\n",
            "Epoch 3/10\n",
            "459/459 [==============================] - 3s 6ms/step - loss: 0.0563 - mean_squared_logarithmic_error: 0.0563 - val_loss: 0.0677 - val_mean_squared_logarithmic_error: 0.0677\n",
            "Epoch 4/10\n",
            "459/459 [==============================] - 3s 7ms/step - loss: 0.0553 - mean_squared_logarithmic_error: 0.0553 - val_loss: 0.0867 - val_mean_squared_logarithmic_error: 0.0867\n",
            "Epoch 5/10\n",
            "459/459 [==============================] - 3s 6ms/step - loss: 0.0532 - mean_squared_logarithmic_error: 0.0532 - val_loss: 0.0846 - val_mean_squared_logarithmic_error: 0.0846\n",
            "Epoch 6/10\n",
            "459/459 [==============================] - 3s 6ms/step - loss: 0.0558 - mean_squared_logarithmic_error: 0.0558 - val_loss: 0.0800 - val_mean_squared_logarithmic_error: 0.0800\n",
            "Epoch 7/10\n",
            "459/459 [==============================] - 3s 6ms/step - loss: 0.0561 - mean_squared_logarithmic_error: 0.0561 - val_loss: 0.1089 - val_mean_squared_logarithmic_error: 0.1089\n",
            "Epoch 8/10\n",
            "459/459 [==============================] - 3s 6ms/step - loss: 0.0554 - mean_squared_logarithmic_error: 0.0554 - val_loss: 0.1054 - val_mean_squared_logarithmic_error: 0.1054\n",
            "Epoch 9/10\n",
            "459/459 [==============================] - 3s 6ms/step - loss: 0.0560 - mean_squared_logarithmic_error: 0.0560 - val_loss: 0.0922 - val_mean_squared_logarithmic_error: 0.0922\n",
            "Epoch 10/10\n",
            "459/459 [==============================] - 3s 6ms/step - loss: 0.0543 - mean_squared_logarithmic_error: 0.0543 - val_loss: 0.0884 - val_mean_squared_logarithmic_error: 0.0884\n"
          ]
        }
      ]
    },
    {
      "cell_type": "code",
      "source": [
        "def plot_history(history, key):\n",
        "  plt.plot(history.history[key])\n",
        "  plt.plot(history.history['val_'+key])\n",
        "  plt.xlabel(\"Epochs\")\n",
        "  plt.ylabel(key)\n",
        "  plt.legend([key, 'val_'+key])\n",
        "  plt.show()\n",
        "# Plot the history\n",
        "plot_history(history, 'mean_squared_logarithmic_error')\n"
      ],
      "metadata": {
        "colab": {
          "base_uri": "https://localhost:8080/",
          "height": 279
        },
        "id": "_t_j3eQBflhj",
        "outputId": "60f96a24-00e4-4bb9-912f-84985731c65a"
      },
      "execution_count": null,
      "outputs": [
        {
          "output_type": "display_data",
          "data": {
            "text/plain": [
              "<Figure size 432x288 with 1 Axes>"
            ],
            "image/png": "[encoded data removed]"
          },
          "metadata": {
            "needs_background": "light"
          }
        }
      ]
    },
    {
      "cell_type": "code",
      "source": [
        "pred = model.predict(x_test)"
      ],
      "metadata": {
        "id": "rV-mwYZNgjCZ"
      },
      "execution_count": null,
      "outputs": []
    },
    {
      "cell_type": "code",
      "source": [
        "from sklearn.metrics import r2_score\n",
        "pred = np.squeeze(pred)\n",
        "y_test = np.squeeze(np.array(y_test))\n",
        "r2_score(y_test,pred)"
      ],
      "metadata": {
        "colab": {
          "base_uri": "https://localhost:8080/"
        },
        "id": "8x2QdrAyjP_i",
        "outputId": "2a3e89aa-c294-483b-9162-c1d7997e0419"
      },
      "execution_count": null,
      "outputs": [
        {
          "output_type": "execute_result",
          "data": {
            "text/plain": [
              "0.2702364882770367"
            ]
          },
          "metadata": {},
          "execution_count": 67
        }
      ]
    },
    {
      "cell_type": "code",
      "source": [
        ""
      ],
      "metadata": {
        "id": "Jev2gwOblhfI"
      },
      "execution_count": null,
      "outputs": []
    }
  ]
}